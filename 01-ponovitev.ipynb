{
 "cells": [
  {
   "cell_type": "markdown",
   "metadata": {},
   "source": [
    "# Ponovitev"
   ]
  },
  {
   "cell_type": "markdown",
   "metadata": {},
   "source": [
    "## Uvod\n",
    "\n",
    "predavatelj: Tomaž Hočevar (tomaz.hocevar{at}fri.uni-lj.si)  \n",
    "asistentka: Špela Cerar (spela.cerar{at}pef.uni-lj.si)\n",
    "\n",
    "Tekom predmeta bomo nadgradili pridobljeno znanje programiranja v Pythonu iz Programiranja 1. Poglobili bomo znanje rekurzije, se srečali s funkcijskim ter objektnim programiranjem in spoznali več zanimivih prosto dostopnih paketov. Proti koncu bomo prenesli svoje znanje programiranja iz Pythona na prevajan programski jezik C++.\n",
    "\n",
    "Spletna učilnica: https://ucilnice.arnes.si/course/view.php?id=73153\n",
    "\n",
    "Pravila predmeta so objavljena na učilnici. Predmet se izvaja v tedenskih ciklih predavanj, ki jim sledijo vaje iz obravnavane snovi. Vaje so namenjene vašemu utrjevanju snovi, njihove rešitve se ne preverjajo. Končna ocena je sestavljena iz ocene sprotnega dela in izpita. Ocena sprotnega dela vključuje dve seminarski nalogi. Prepisovanje ni dovoljeno.\n",
    "\n",
    "Prisotnost na predavanjih in vajah ni obvezna oz. se ne preverja. V primeru odsotnosti se obrnite na sošolce. Na učilnici bodo sproti objavljeni obravnavani materiali."
   ]
  },
  {
   "cell_type": "markdown",
   "metadata": {},
   "source": [
    "## Izrazi in spremenljivke\n",
    "\n",
    "Za vpis in izpis vrednosti uporabljamo funkciji `input` in `print`. \n",
    "\n",
    "Spremenljivke so različnih tipov: cela števila (`int`), nizi (`string`), decimalna števila (`float`), logične vrednosti (`bool`), ... Z operatorji lahko iz njih sestavljamo različne izraze, ki jih lahko shranimo v nove spremenljivke. Delovanje operatorjev je odvisno od tipa spremenljivk. Nekatere tipe lahko pretvarjamo med seboj."
   ]
  },
  {
   "cell_type": "code",
   "execution_count": 1,
   "metadata": {},
   "outputs": [
    {
     "name": "stdout",
     "output_type": "stream",
     "text": [
      "Prvo število: 3\n",
      "Drugo število: 2.6\n",
      "32.6\n"
     ]
    }
   ],
   "source": [
    "x = input(\"Prvo število: \")  # 3\n",
    "y = input(\"Drugo število: \")  # 2.6\n",
    "print(x+y)"
   ]
  },
  {
   "cell_type": "code",
   "execution_count": 2,
   "metadata": {
    "scrolled": true
   },
   "outputs": [
    {
     "name": "stdout",
     "output_type": "stream",
     "text": [
      "Prvo število: 3\n",
      "Drugo število: 2.6\n",
      "5.6\n"
     ]
    }
   ],
   "source": [
    "x = float(input(\"Prvo število: \"))  # 3\n",
    "y = float(input(\"Drugo število: \"))  # 2.6\n",
    "print(x+y)"
   ]
  },
  {
   "cell_type": "markdown",
   "metadata": {},
   "source": [
    "## Pogojni stavki in zanke\n",
    "\n",
    "S pogojnim stavkom in `if` in pripadajočima stavkoma `elif` in `else` nadzorujemo tok oz. vejitev programa. Na primer, glede na prebrani števili lahko izpišemo, da drugo deli prvega, ali pa ne."
   ]
  },
  {
   "cell_type": "code",
   "execution_count": 3,
   "metadata": {
    "scrolled": true
   },
   "outputs": [
    {
     "name": "stdout",
     "output_type": "stream",
     "text": [
      "7\n",
      "3\n",
      "ne deli\n"
     ]
    }
   ],
   "source": [
    "a = int(input())  # 7\n",
    "b = int(input())  # 3\n",
    "if a%b==0:\n",
    "    print(\"deli\")\n",
    "else:\n",
    "    print(\"ne deli\")"
   ]
  },
  {
   "cell_type": "markdown",
   "metadata": {},
   "source": [
    "Pogoj je lahko sestavljen iz več logičnih stavkov z uporabo logičnih veznikov `and` in `or`. V danem primeru bi se radi izognili deljenju z 0."
   ]
  },
  {
   "cell_type": "code",
   "execution_count": 4,
   "metadata": {},
   "outputs": [
    {
     "name": "stdout",
     "output_type": "stream",
     "text": [
      "2\n",
      "0\n",
      "ne deli\n"
     ]
    }
   ],
   "source": [
    "a = int(input())  # 2\n",
    "b = int(input())  # 0\n",
    "print(\"deli\" if b!=0 and a%b==0 else \"ne deli\")"
   ]
  },
  {
   "cell_type": "markdown",
   "metadata": {},
   "source": [
    "Zanka `while`, za razliko od pogojnega stavka `if`, izvaja vsebino vse dokler je izpolnjen podani pogoj. Napišimo program, ki bo izpisal poštevanko prebranega števila."
   ]
  },
  {
   "cell_type": "code",
   "execution_count": 5,
   "metadata": {},
   "outputs": [
    {
     "name": "stdout",
     "output_type": "stream",
     "text": [
      "4\n",
      "4 x 1 = 4\n",
      "4 x 2 = 8\n",
      "4 x 3 = 12\n",
      "4 x 4 = 16\n",
      "4 x 5 = 20\n",
      "4 x 6 = 24\n",
      "4 x 7 = 28\n",
      "4 x 8 = 32\n",
      "4 x 9 = 36\n",
      "4 x 10 = 40\n"
     ]
    }
   ],
   "source": [
    "a = int(input())\n",
    "b = 1\n",
    "while b <= 10:\n",
    "    print(a, \"x\", b, \"=\", a*b)\n",
    "    b += 1"
   ]
  },
  {
   "cell_type": "markdown",
   "metadata": {},
   "source": [
    "Zanke lahko tudi gnezdimo. Program naj vedno znova vpraša za število in izpiše njegovo poštevanko. Poštevanka števila 0 ni zanimiva, zato lahko preskočimo preostanek ponovitve zanke z ukazom `continue`. Vnos števila -1 pa naj signalizira zaključek, kjer z ukazom `break` prekinemo izvajanje zanke."
   ]
  },
  {
   "cell_type": "code",
   "execution_count": 6,
   "metadata": {},
   "outputs": [
    {
     "name": "stdout",
     "output_type": "stream",
     "text": [
      "3\n",
      "3 x 1 = 3\n",
      "3 x 2 = 6\n",
      "3 x 3 = 9\n",
      "3 x 4 = 12\n",
      "3 x 5 = 15\n",
      "3 x 6 = 18\n",
      "3 x 7 = 21\n",
      "3 x 8 = 24\n",
      "3 x 9 = 27\n",
      "3 x 10 = 30\n",
      "0\n",
      "-1\n"
     ]
    }
   ],
   "source": [
    "while True:\n",
    "    a = int(input())\n",
    "    if a==-1: break\n",
    "    if a==0: continue\n",
    "    b = 1\n",
    "    while b <= 10:\n",
    "        print(a, \"x\", b, \"=\", a*b)\n",
    "        b += 1"
   ]
  },
  {
   "cell_type": "markdown",
   "metadata": {},
   "source": [
    "## Terke, seznami, for\n",
    "\n",
    "Terke in seznami nam omogočajo hrambo več vrednosti. Terke so nespremenljive, seznamom pa lahko dodajamo in odstranjujemo vrednosti. Posamezne vrednosti lahko dobimo z indeksiranjem, npr. `seznam[indeks]` ali `seznam[od:do]`. Sprehajanju (iteraciji) čez vse vrednosti seznama je namenjena zanka `for`.\n",
    "\n",
    "Napišimo program, ki bo prebral s presledki ločena seznama imen in starosti ter izpisal imena urejena od najmlajših proti najstarejšim."
   ]
  },
  {
   "cell_type": "code",
   "execution_count": 7,
   "metadata": {},
   "outputs": [
    {
     "name": "stdout",
     "output_type": "stream",
     "text": [
      "ana tine marko\n",
      "9 23 20\n",
      "ana marko tine\n"
     ]
    }
   ],
   "source": [
    "imena = input().split()\n",
    "starosti = input().split()\n",
    "osebe = []\n",
    "for i in range(len(imena)):\n",
    "    o = (int(starosti[i]), imena[i])  # pazi int()!\n",
    "    osebe.append(o)\n",
    "osebe.sort()\n",
    "urejeni = []\n",
    "for _, ime in osebe:\n",
    "    urejeni.append(ime)\n",
    "print(\" \".join(urejeni))"
   ]
  },
  {
   "cell_type": "code",
   "execution_count": 8,
   "metadata": {},
   "outputs": [
    {
     "name": "stdout",
     "output_type": "stream",
     "text": [
      "ana marko tine\n"
     ]
    }
   ],
   "source": [
    "print(\" \".join([i for _, i in sorted([(int(s), i) for s, i in zip(starosti, imena)])]))"
   ]
  },
  {
   "cell_type": "markdown",
   "metadata": {},
   "source": [
    "## Funkcije, metode\n",
    "\n",
    "Precej funkcij (`input`, `range`, `len`, `int`, `print`) in metod (`split`, `append`, `join`) smo srečali že v prejšnjem primeru. Lahko pa napišemo tudi kakšno svojo. Funkcija predstavlja dovolj splošno funkcionalnost, ki jo želimo uporabiti večkrat, ali pa z njo samo izboljšamo berljivost in preglednost kode.\n",
    "\n",
    "Zapakirajmo funkcionalnost iz prejšnje naloge v funkcijo `uredi`, ki sprejme dva argumenta `imena` in `starosti`."
   ]
  },
  {
   "cell_type": "code",
   "execution_count": 9,
   "metadata": {},
   "outputs": [
    {
     "name": "stdout",
     "output_type": "stream",
     "text": [
      "['metka', 'tina', 'ana']\n"
     ]
    }
   ],
   "source": [
    "def uredi(imena, starosti):\n",
    "    osebe = list(zip(starosti, imena))\n",
    "    osebe.sort()\n",
    "    urejen = []\n",
    "    for star, ime in osebe:\n",
    "        urejen.append(ime)\n",
    "    return urejen\n",
    "\n",
    "print(uredi([\"ana\",\"metka\",\"tina\"], [7,1,4]))"
   ]
  },
  {
   "cell_type": "markdown",
   "metadata": {},
   "source": [
    "## Slovarji in množice\n",
    "\n",
    "Množice predstavljajo prikladen in učinkovit način hranjena množice vrednosti. Slovarji pa to funkcionalnost še malo razširijo na množico ključev, ki jim lahko priredimo vrednosti.\n",
    "\n",
    "Napišimo funkcij `anagram(a, b)`, ki bi preveril, ali sta besedi anagrama (enaki, če eni premešamo črke). To drži, če imata enako pogostost posameznih črk. Pomagajmo so s funkcijo `prestej(a)`, ki bo vrnila slovar pogostosti črk v besedi `a`."
   ]
  },
  {
   "cell_type": "code",
   "execution_count": 10,
   "metadata": {},
   "outputs": [
    {
     "data": {
      "text/plain": [
       "True"
      ]
     },
     "execution_count": 10,
     "metadata": {},
     "output_type": "execute_result"
    }
   ],
   "source": [
    "from collections import defaultdict, Counter\n",
    "\n",
    "def prestej(a):\n",
    "    f = defaultdict(int)\n",
    "    for x in a:\n",
    "        f[x] += 1\n",
    "    return f\n",
    "\n",
    "def anagram(a, b):\n",
    "    crke_a = prestej(a)\n",
    "    crke_b = prestej(b)\n",
    "    return crke_a == crke_b\n",
    "    # return Counter(a) == Counter(b)\n",
    "\n",
    "anagram(\"perica\",\"ricepa\")"
   ]
  },
  {
   "cell_type": "markdown",
   "metadata": {},
   "source": [
    "Demonstrirajmo še učinkovitost. Prva rešitev za vsako izmed dodanih $n$ števil preveri vsa prejšnja (to je skrito v operatorju `not in`). Naredi torej reda $n^2$ operacij, kar bi za $n=10^6$ in pri približno $10^8$ operacijah na sekundo zneslo skoraj 3 ure. Operacija preverjanja vsebovanosti v množici pa je veliko učinkovitejša."
   ]
  },
  {
   "cell_type": "code",
   "execution_count": 14,
   "metadata": {},
   "outputs": [
    {
     "name": "stdout",
     "output_type": "stream",
     "text": [
      "[59866128, 985257538, 426305369, 835226266, 30263894, 709086853, 603313309, 190019715, 716534748, 307723965]\n"
     ]
    }
   ],
   "source": [
    "from random import randrange\n",
    "stevila = []\n",
    "while len(stevila) < 10**4:\n",
    "    x = randrange(10**9)\n",
    "    if x not in stevila:\n",
    "        stevila.append(x)\n",
    "print(list(stevila)[:10])"
   ]
  },
  {
   "cell_type": "code",
   "execution_count": 15,
   "metadata": {},
   "outputs": [
    {
     "name": "stdout",
     "output_type": "stream",
     "text": [
      "[826277890, 861929474, 249561092, 463470598, 161480714, 761266188, 111149068, 517996561, 677380114, 190840850]\n"
     ]
    }
   ],
   "source": [
    "from random import randrange\n",
    "stevila = set()\n",
    "while len(stevila) < 10**6:\n",
    "    stevila.add(randrange(10**9))\n",
    "print(list(stevila)[:10])"
   ]
  },
  {
   "cell_type": "markdown",
   "metadata": {},
   "source": [
    "## Izpeljani seznami/slovarji/množice, generatorji\n",
    "\n",
    "Izpeljane podatkovne strukture (list, set, dict comprehensions) so namenjene predvsem preglednosti in jedrnatosti kode."
   ]
  },
  {
   "cell_type": "code",
   "execution_count": 16,
   "metadata": {},
   "outputs": [
    {
     "name": "stdout",
     "output_type": "stream",
     "text": [
      "{'Ana': 25, 'Bojan': 13, 'Cene': 37}\n"
     ]
    }
   ],
   "source": [
    "imena = [\"Ana\", \"Bojan\", \"Cene\"]\n",
    "starosti = [\"25\", \"13\", \"37\"]\n",
    "starosti = [int(starost) for starost in starosti]\n",
    "osebe = {ime: starost for ime, starost in zip(imena, starosti)}\n",
    "print(osebe)"
   ]
  },
  {
   "cell_type": "markdown",
   "metadata": {},
   "source": [
    "Generatorji so podobni, vendar se njihove vrednosti generirajo po potrebi in ne vse vnaprej. Tako imamo lahko tudi neskončne generatorje."
   ]
  },
  {
   "cell_type": "code",
   "execution_count": 17,
   "metadata": {},
   "outputs": [
    {
     "name": "stdout",
     "output_type": "stream",
     "text": [
      "0\n",
      "1 4 9 16 25 36 49 64 81\n"
     ]
    }
   ],
   "source": [
    "g = (x**2 for x in range(10))\n",
    "print(next(g))\n",
    "print(\" \".join([str(x) for x in g]))"
   ]
  },
  {
   "cell_type": "code",
   "execution_count": 18,
   "metadata": {},
   "outputs": [
    {
     "name": "stdout",
     "output_type": "stream",
     "text": [
      "[1, 3, 9, 27, 81]\n"
     ]
    }
   ],
   "source": [
    "def potence(x):\n",
    "    p = 1\n",
    "    while True:\n",
    "        yield p\n",
    "        p *= x\n",
    "\n",
    "g = potence(3)\n",
    "print([next(g) for _ in range(5)])"
   ]
  },
  {
   "cell_type": "markdown",
   "metadata": {},
   "source": [
    "## Spremenljivke (imena objektov)\n",
    "\n",
    "V Pythonu so spremenljivke imena, ki kažejo na ustvarjene objekte. Pri objektih, ki se jih ne da spreminjati (npt. `int`, `float` in tudi `string`), to ni tako pomembno, ker pri vsaki operaciji nastane nov objekt. Operacija `x+=1` ne poveča obstoječe spremenljivke, ampak ustvari novo število, ki je za ena večje in tega shrani pod ime `x`.\n",
    "\n",
    "Pozorni moramo biti pri \"kopiranju\" spremenljivk in podajanju argumentov funkcijam, kjer gre v obeh primerih za kopijo imena in ne kopijo objekta."
   ]
  },
  {
   "cell_type": "code",
   "execution_count": 19,
   "metadata": {},
   "outputs": [
    {
     "name": "stdout",
     "output_type": "stream",
     "text": [
      "[9, 0, 0] [9, 0, 0]\n"
     ]
    }
   ],
   "source": [
    "vrstica = [0]*3\n",
    "kopija = vrstica\n",
    "kopija[0] = 9\n",
    "print(vrstica, kopija)"
   ]
  },
  {
   "cell_type": "code",
   "execution_count": 20,
   "metadata": {},
   "outputs": [
    {
     "name": "stdout",
     "output_type": "stream",
     "text": [
      "[[0, 0, 0], [0, 0, 0], [0, 0, 0], [0, 0, 0]]\n",
      "[[9, 0, 0], [9, 0, 0], [9, 0, 0], [9, 0, 0]]\n"
     ]
    }
   ],
   "source": [
    "tabela = [[0]*3] * 4  # tabela = [vrstica] * 4\n",
    "print(tabela)\n",
    "tabela[0][0] = 9\n",
    "print(tabela)"
   ]
  },
  {
   "cell_type": "markdown",
   "metadata": {},
   "source": [
    "Funkcije lahko spreminjajo objekte preko imen, ki jih sprejmejo kot argumente. To je pogosto namerno, nemalokrat pa tudi ponesreči."
   ]
  },
  {
   "cell_type": "code",
   "execution_count": 21,
   "metadata": {},
   "outputs": [
    {
     "name": "stdout",
     "output_type": "stream",
     "text": [
      "[0, 1, 4, 9, 16]\n"
     ]
    }
   ],
   "source": [
    "def napolni(seznam):\n",
    "    for i in range(5):\n",
    "        seznam.append(i**2)\n",
    "s = []\n",
    "napolni(s)\n",
    "print(s)"
   ]
  },
  {
   "cell_type": "markdown",
   "metadata": {},
   "source": [
    "## Rekurzija\n",
    "\n",
    "Uporaba rekurzije je velikokrat samoumevna na strukturah, ki imajo same po sebi rekurzivno strukturo. Na primer seznam lahko obravnavamo kot prvi element (glavo) in preostanek seznama (rep). Podobno je drevo sestavljeno iz korena in poddreves.\n",
    "\n",
    "Vsak problem lahko rešujemo iterativno ali rekurzivno. Tudi rekurzija se na računalniku izvaja iterativno, je pa velikokrat lažje rešiti kakšen problem rekurzivno in prepustiti računalniku pretvorbo v iterativen proces.\n",
    "\n",
    "Oglejmo si primer pretvorbe seznama v predstavitev z gnezdenimi terkami, kar je v nekaterih programskih jezikih standardna oblika seznama."
   ]
  },
  {
   "cell_type": "code",
   "execution_count": 22,
   "metadata": {},
   "outputs": [
    {
     "name": "stdout",
     "output_type": "stream",
     "text": [
      "(1, (2, (3, (4, ()))))\n"
     ]
    }
   ],
   "source": [
    "s = [1,2,3,4]\n",
    "r = ()\n",
    "while s:\n",
    "    r = (s[-1], r)\n",
    "    s.pop(-1)\n",
    "print(r)"
   ]
  },
  {
   "cell_type": "code",
   "execution_count": 23,
   "metadata": {},
   "outputs": [
    {
     "name": "stdout",
     "output_type": "stream",
     "text": [
      "(1, (2, (3, (4, ()))))\n"
     ]
    }
   ],
   "source": [
    "def terke(seznam):\n",
    "    if not seznam:\n",
    "        return ()\n",
    "    glava, rep = seznam[0], seznam[1:]\n",
    "    return (glava, terke(rep))\n",
    "\n",
    "print(terke([1,2,3,4]))"
   ]
  },
  {
   "cell_type": "markdown",
   "metadata": {},
   "source": [
    "Kot drugi primer si glejmo še drevesno strukturo potomcev (`otroci`), ki je podana v obliki slovarja, nas pa v funkciji `potomci(oseba, globina)` zanimajo potomci podane osebe, ki v drevesu niso globlje od podane globine."
   ]
  },
  {
   "cell_type": "code",
   "execution_count": 24,
   "metadata": {},
   "outputs": [
    {
     "name": "stdout",
     "output_type": "stream",
     "text": [
      "['Rok', 'Ajda', 'Borut', 'Tine']\n"
     ]
    }
   ],
   "source": [
    "otroci = {\n",
    "    \"Ana\": [\"Miha\", \"Peter\"],\n",
    "    \"Peter\": [\"Ajda\", \"Borut\", \"Tine\"],\n",
    "    \"Ajda\": [\"Tadej\"],\n",
    "    \"Miha\": [\"Rok\"]\n",
    "}\n",
    "\n",
    "def potomci(oseba, globina):\n",
    "    if globina == 1:\n",
    "        return otroci[oseba]\n",
    "    else:\n",
    "        sez = []\n",
    "        for otrok in otroci.get(oseba,[]):\n",
    "            sez += potomci(otrok, globina-1)\n",
    "        return sez\n",
    "\n",
    "print(potomci(\"Ana\", 2))"
   ]
  },
  {
   "cell_type": "markdown",
   "metadata": {},
   "source": [
    "## Objektno programiranje\n",
    "\n",
    "Objektno programiranje je stil programiranja, kjer imajo glavno vlogo objekti. Vsak objekt pripada nekemu tipu oz. razredu s svojimi atributi in metodami, med katerimi ima posebno mesto konstruktor (`__init__`). Nase in na svoje atribute ter metode se objekt sklicuje preko spremenljivke `self`. \n",
    "\n",
    "Z objektnim stilom programiranja lahko nemalokrat v programu modeliramo dejanske objekte iz sveta, ki se pojavijo npr. v kakšnem poslovnem procesu."
   ]
  },
  {
   "cell_type": "code",
   "execution_count": 25,
   "metadata": {},
   "outputs": [
    {
     "name": "stdout",
     "output_type": "stream",
     "text": [
      "ime = Ana\n"
     ]
    }
   ],
   "source": [
    "class Oseba:\n",
    "    def __init__(self, ime):\n",
    "        self.ime = ime\n",
    "    def izpis(self):\n",
    "        print(f\"ime = {self.ime}\")\n",
    "        \n",
    "a = Oseba(\"Ana\")\n",
    "a.izpis()"
   ]
  },
  {
   "cell_type": "markdown",
   "metadata": {},
   "source": [
    "Pomemben koncept objektnega programiranje ja dedovanje, kjer iz starih razredov izpeljemo nove razrede, ki podedujejo metode in atribute z izjemo tistih, ki jih definiramo na novo. S tem se izognemo podvajanju kode in izboljšamo strukturo."
   ]
  },
  {
   "cell_type": "code",
   "execution_count": 26,
   "metadata": {},
   "outputs": [
    {
     "name": "stdout",
     "output_type": "stream",
     "text": [
      "profesor = Cene\n"
     ]
    }
   ],
   "source": [
    "class Profesor(Oseba):\n",
    "    def izpis(self):\n",
    "        print(f\"profesor = {self.ime}\")\n",
    "\n",
    "b = Profesor(\"Cene\")\n",
    "b.izpis()"
   ]
  },
  {
   "cell_type": "code",
   "execution_count": 27,
   "metadata": {},
   "outputs": [
    {
     "name": "stdout",
     "output_type": "stream",
     "text": [
      "vpisna = 1923456\n"
     ]
    }
   ],
   "source": [
    "class Student(Oseba):\n",
    "    def __init__(self, ime, vpisna):\n",
    "        super().__init__(ime)\n",
    "        self.vpisna = vpisna\n",
    "    def izpis(self):\n",
    "        print(f\"vpisna = {self.vpisna}\")\n",
    "        \n",
    "c = Student(\"Bojan\",\"1923456\")\n",
    "c.izpis()"
   ]
  }
 ],
 "metadata": {
  "kernelspec": {
   "display_name": "Python 3",
   "language": "python",
   "name": "python3"
  },
  "language_info": {
   "codemirror_mode": {
    "name": "ipython",
    "version": 3
   },
   "file_extension": ".py",
   "mimetype": "text/x-python",
   "name": "python",
   "nbconvert_exporter": "python",
   "pygments_lexer": "ipython3",
   "version": "3.8.6"
  }
 },
 "nbformat": 4,
 "nbformat_minor": 4
}
