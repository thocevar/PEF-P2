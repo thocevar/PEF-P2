{
 "cells": [
  {
   "cell_type": "markdown",
   "metadata": {},
   "source": [
    "# Drobnarije"
   ]
  },
  {
   "cell_type": "markdown",
   "metadata": {},
   "source": [
    "## Argumenti funkcij\n",
    "\n",
    "https://docs.python.org/3/tutorial/controlflow.html#more-on-defining-functions\n",
    "\n",
    "Funkcijam lahko definiramo privzete vrednosti nekaterih argumentov, ki jih nato ne rabimo vsakič znova podajati. Poimensko lahko podamo tudi vrednosti samo nekaterih, ostale pa pustimo na privzetih vrednostih.\n",
    "\n",
    "Funkcije `fib` vrača `n`-ti element posplošenega Fibonaccijevega zaporedja, ki se začne z `a` in `b`."
   ]
  },
  {
   "cell_type": "code",
   "execution_count": 1,
   "metadata": {},
   "outputs": [
    {
     "name": "stdout",
     "output_type": "stream",
     "text": [
      "[1, 1, 2, 3, 5, 8, 13, 21, 34]\n",
      "[5, 8, 13, 21, 34, 55, 89, 144, 233]\n",
      "[1, 10, 11, 21, 32, 53, 85, 138, 223]\n",
      "[5, 5, 10, 15, 25, 40, 65, 105, 170]\n",
      "[5, 7, 12, 19, 31, 50, 81, 131, 212]\n"
     ]
    }
   ],
   "source": [
    "# 0 1 1 2 3 5 8 13 ...\n",
    "def fib(n, a=0, b=1):\n",
    "    for i in range(n-1):\n",
    "        a, b = b, a+b\n",
    "    return b\n",
    "\n",
    "print([fib(i) for i in range(1,10)])\n",
    "print([fib(i,3,5) for i in range(1,10)])\n",
    "print([fib(i,9) for i in range(1,10)])\n",
    "print([fib(i,b=5) for i in range(1,10)])\n",
    "print([fib(i,a=2,b=5) for i in range(1,10)])"
   ]
  },
  {
   "cell_type": "markdown",
   "metadata": {},
   "source": [
    "Nekatere vgrajene funkcije kot sta npr. `max` in `print` lahko sprejmejo poljubno število argumentov (ne seznama, ki je pravzaprav en sam argument)."
   ]
  },
  {
   "cell_type": "code",
   "execution_count": 2,
   "metadata": {},
   "outputs": [
    {
     "name": "stdout",
     "output_type": "stream",
     "text": [
      "6 3 8\n"
     ]
    }
   ],
   "source": [
    "print(max(4,6), max(3,1), max(6,2,8,1,3,2))"
   ]
  },
  {
   "cell_type": "markdown",
   "metadata": {},
   "source": [
    "Enako funkcionalnost lahko dosežemo pri implementaciji lastnih funkcij z uporabo argumenta `*args`, ki v obliki terke zajame vse dodatne argumente. Implementirajmo funkcijo `naj`, ki bo sprejela vsaj dva argumenta in vrnila največjega med njimi."
   ]
  },
  {
   "cell_type": "code",
   "execution_count": 3,
   "metadata": {},
   "outputs": [
    {
     "name": "stdout",
     "output_type": "stream",
     "text": [
      "7 8\n",
      "9\n"
     ]
    }
   ],
   "source": [
    "def naj(a, b, *args):  # poljubno število pozicijskih argumentov\n",
    "    m = a if a>b else b\n",
    "    for x in args:\n",
    "        if x>m: m = x\n",
    "    return m\n",
    "\n",
    "print(naj(7,1), naj(2,8))\n",
    "print(naj(7,1,9,3,4))"
   ]
  },
  {
   "cell_type": "markdown",
   "metadata": {},
   "source": [
    "Naredimo pa lahko tudi obratno. Seznam argumentov lahko razpakiramo pri klicu funkcije. Tako se klic `naj(*seznam)` izvede kot `naj(seznam[0], seznam[1], ..., seznam[-1])`. Tudi tu imamo opravka z operatorjem `*`, vendar gre za drugačen pomen v podobnem kontekstu dela z argumenti funkcij."
   ]
  },
  {
   "cell_type": "code",
   "execution_count": 4,
   "metadata": {},
   "outputs": [
    {
     "name": "stdout",
     "output_type": "stream",
     "text": [
      "8\n"
     ]
    }
   ],
   "source": [
    "seznam = [6,2,8,1,3,2]\n",
    "print(naj(*seznam))  # razpakiranje seznama"
   ]
  },
  {
   "cell_type": "markdown",
   "metadata": {},
   "source": [
    "Podobno funkcionalnost poznamo tudi za poimenovane argumente (keyword arguments) z uporabo `**kwargs`. Prav tako lahko z operatorjem `**` razpakiramo slovar v poimenovane argumente funkcije in njihove pripadajoče vrednosti. Funkcija `izpisi_arg` ne počne nič drugega, kot da izpiše argumente, ki jih prejme na različne načine."
   ]
  },
  {
   "cell_type": "code",
   "execution_count": 5,
   "metadata": {},
   "outputs": [
    {
     "name": "stdout",
     "output_type": "stream",
     "text": [
      "a =  3\n",
      "args =  (7, 1)\n",
      "kwargs =  {'c': 8, 'd': 9}\n",
      "\n",
      "a =  4\n",
      "args =  (5, 6)\n",
      "kwargs =  {'x': 7, 'y': 9, 'z': 10}\n"
     ]
    }
   ],
   "source": [
    "# *args ... pozicijski argumenti, **kwargs ... poimenovani argumenti\n",
    "def izpisi_arg(a, *args, **kwargs):\n",
    "    print(\"a = \", a)\n",
    "    print(\"args = \", args)\n",
    "    print(\"kwargs = \", kwargs)\n",
    "\n",
    "izpisi_arg(3, 7, 1, c=8, d=9)\n",
    "print()\n",
    "slovar = {'y': 9, 'z': 10}\n",
    "izpisi_arg(4, 5, 6, x=7, **slovar)  # razpakiranje slovarja"
   ]
  },
  {
   "cell_type": "markdown",
   "metadata": {},
   "source": [
    "## Obravnavanje izjem\n",
    "\n",
    "https://docs.python.org/3/tutorial/errors.html\n",
    "\n",
    "Pri programiranju lahko večkrat pride do kakšne napake, nad katerimi nimamo kontrole. Pri branju datoteke lahko nekdo odklopi medij ali pride do napake pri branju zaradi okvare, pri prenosu podatkov lahko pride do izgube povezave itd. Deljenje z nič ni ena od njih, vendar bo za enostaven primer povsem na mestu. \n",
    "\n",
    "Najprej si poglejmo, kako lahko lastnoročno sprožimo kakšno izjemo z ukazom `raise`."
   ]
  },
  {
   "cell_type": "code",
   "execution_count": 6,
   "metadata": {
    "scrolled": true
   },
   "outputs": [
    {
     "name": "stdout",
     "output_type": "stream",
     "text": [
      "deljenec: 7\n",
      "delitelj: 2\n"
     ]
    },
    {
     "ename": "ValueError",
     "evalue": "",
     "output_type": "error",
     "traceback": [
      "\u001b[1;31m---------------------------------------------------------------------------\u001b[0m",
      "\u001b[1;31mValueError\u001b[0m                                Traceback (most recent call last)",
      "\u001b[1;32m<ipython-input-6-84f8d60ff951>\u001b[0m in \u001b[0;36m<module>\u001b[1;34m\u001b[0m\n\u001b[0;32m      2\u001b[0m \u001b[0mb\u001b[0m \u001b[1;33m=\u001b[0m \u001b[0mint\u001b[0m\u001b[1;33m(\u001b[0m\u001b[0minput\u001b[0m\u001b[1;33m(\u001b[0m\u001b[1;34m\"delitelj: \"\u001b[0m\u001b[1;33m)\u001b[0m\u001b[1;33m)\u001b[0m\u001b[1;33m\u001b[0m\u001b[1;33m\u001b[0m\u001b[0m\n\u001b[0;32m      3\u001b[0m \u001b[1;32mif\u001b[0m \u001b[0ma\u001b[0m\u001b[1;33m%\u001b[0m\u001b[0mb\u001b[0m\u001b[1;33m!=\u001b[0m\u001b[1;36m0\u001b[0m\u001b[1;33m:\u001b[0m\u001b[1;33m\u001b[0m\u001b[1;33m\u001b[0m\u001b[0m\n\u001b[1;32m----> 4\u001b[1;33m     \u001b[1;32mraise\u001b[0m \u001b[0mValueError\u001b[0m\u001b[1;33m\u001b[0m\u001b[1;33m\u001b[0m\u001b[0m\n\u001b[0m\u001b[0;32m      5\u001b[0m \u001b[0mprint\u001b[0m\u001b[1;33m(\u001b[0m\u001b[1;34m\"količnik: \"\u001b[0m\u001b[1;33m,\u001b[0m \u001b[0ma\u001b[0m\u001b[1;33m//\u001b[0m\u001b[0mb\u001b[0m\u001b[1;33m)\u001b[0m\u001b[1;33m\u001b[0m\u001b[1;33m\u001b[0m\u001b[0m\n",
      "\u001b[1;31mValueError\u001b[0m: "
     ]
    }
   ],
   "source": [
    "a = int(input(\"deljenec: \"))\n",
    "b = int(input(\"delitelj: \"))\n",
    "if a%b!=0:\n",
    "    raise ValueError\n",
    "print(\"količnik: \", a//b)"
   ]
  },
  {
   "cell_type": "markdown",
   "metadata": {},
   "source": [
    "Če sprožimo napako, ki dokončno sesuje program, nismo naredili prav veliko. Zato obstaja ukaza `try` in `except`. Če se v vsebini `try` bloka sproži izjema, se izvajanje nadaljuje v `except` bloku, program pa se ne sesuje.\n",
    "\n",
    "V to kategorijo pašeta še `else` in `finally`, s katerima pa se ne bomo ukvarjali. Več si lahko preberete v Pythonovi dokumentaciji."
   ]
  },
  {
   "cell_type": "code",
   "execution_count": 7,
   "metadata": {},
   "outputs": [
    {
     "name": "stdout",
     "output_type": "stream",
     "text": [
      "deljenec: 7\n",
      "delitelj: 2\n",
      "ne gre\n"
     ]
    }
   ],
   "source": [
    "try:\n",
    "    a = int(input(\"deljenec: \"))\n",
    "    b = int(input(\"delitelj: \"))\n",
    "    if a%b!=0:\n",
    "        raise ValueError\n",
    "    print(\"količnik\", a//b)\n",
    "except:\n",
    "    print(\"ne gre\")"
   ]
  },
  {
   "cell_type": "markdown",
   "metadata": {},
   "source": [
    "Ustvarimo lahko tudi lasten tip izjeme, ki pa mora biti izpeljana iz katere od obstoječih izjem. Tako lahko ustvarimo lastno hierarhijo napak. V `except` blokih pa lahko po vrsti lovimo različne tipe napak in jih primerno obravnavamo."
   ]
  },
  {
   "cell_type": "code",
   "execution_count": 8,
   "metadata": {},
   "outputs": [
    {
     "name": "stdout",
     "output_type": "stream",
     "text": [
      "deljenec: 7\n",
      "delitelj: 2\n",
      "napaka pri deljenju: ostanek != 0\n"
     ]
    }
   ],
   "source": [
    "class DivisionError(ValueError):  # lastna izjema\n",
    "    pass\n",
    "\n",
    "try:\n",
    "    a = int(input(\"deljenec: \"))\n",
    "    b = int(input(\"delitelj: \"))\n",
    "    if a%b!=0:\n",
    "        raise DivisionError(\"ostanek != 0\")\n",
    "    print(\"količnik\", a//b)\n",
    "except DivisionError as e:\n",
    "    print(\"napaka pri deljenju:\", e)\n",
    "except:\n",
    "    print(\"ne gre\")"
   ]
  },
  {
   "cell_type": "markdown",
   "metadata": {},
   "source": [
    "Obstaja najbrž še cel kup načinov, kako se lahko zgornja koda sesuje. Ločeno lahko ulovimo deljenje z nič, branje števila v napačni obliki, ..."
   ]
  },
  {
   "cell_type": "code",
   "execution_count": 9,
   "metadata": {},
   "outputs": [
    {
     "name": "stdout",
     "output_type": "stream",
     "text": [
      "deljenec: 7\n",
      "delitelj: dva\n",
      "napačna vrednost: invalid literal for int() with base 10: 'dva'\n"
     ]
    }
   ],
   "source": [
    "try:\n",
    "    a = int(input(\"deljenec: \"))\n",
    "    b = int(input(\"delitelj: \"))\n",
    "    if a%b!=0:\n",
    "        raise DivisionError(\"ostanek != 0\")\n",
    "    print(\"količnik\", a/b)\n",
    "except DivisionError as e:\n",
    "    print(\"napaka pri deljenju:\", e)\n",
    "except ZeroDivisionError:\n",
    "    print(\"delitelj je 0!\")\n",
    "except ValueError as e:\n",
    "    print(\"napačna vrednost:\", e)\n",
    "except:\n",
    "    print(\"ne gre\")"
   ]
  },
  {
   "cell_type": "markdown",
   "metadata": {},
   "source": [
    "## Introspekcija in podatkovni tipi\n",
    "\n",
    "Na voljo so številna uporabne standardne funkcije (https://docs.python.org/3/library/functions.html) v povezavi z lastnostmi spremenljivk. Funkcija `dir` vrne seznam metod in atributov danega objekta. S `hasattr` lahko preverimo, ali ima objekt nek atribut oz. metodo ali ne. Funkcija `type` pa nam vrne tip objekta.\n",
    "\n",
    "Python je sposoben še precej več introspekcije. Kogar to zanima, si lahko ogleda npr. modul `inspect` (https://docs.python.org/3/library/inspect.html)."
   ]
  },
  {
   "cell_type": "code",
   "execution_count": 10,
   "metadata": {},
   "outputs": [
    {
     "name": "stdout",
     "output_type": "stream",
     "text": [
      "['__add__', '__class__', '__contains__', '__delattr__', '__delitem__', '__dir__', '__doc__', '__eq__', '__format__', '__ge__', '__getattribute__', '__getitem__', '__gt__', '__hash__', '__iadd__', '__imul__', '__init__', '__init_subclass__', '__iter__', '__le__', '__len__', '__lt__', '__mul__', '__ne__', '__new__', '__reduce__', '__reduce_ex__', '__repr__', '__reversed__', '__rmul__', '__setattr__', '__setitem__', '__sizeof__', '__str__', '__subclasshook__', 'append', 'clear', 'copy', 'count', 'extend', 'index', 'insert', 'pop', 'remove', 'reverse', 'sort']\n",
      "True\n",
      "<class 'list'> <class 'list'> <class 'str'>\n",
      "True False 2518346815680 2518346750528 2518279378224\n"
     ]
    }
   ],
   "source": [
    "x, y, z = [4,5,6], [4,5], \"abc\"\n",
    "print(dir(x))  # seznam metod, atributov\n",
    "print(hasattr(y, \"append\"))\n",
    "y.append(6)\n",
    "print(type(x), type(y), type(z))\n",
    "print(x==y, x is y, id(x), id(y), id(z))  # enakost in identičnost"
   ]
  },
  {
   "cell_type": "code",
   "execution_count": 11,
   "metadata": {},
   "outputs": [
    {
     "data": {
      "text/plain": [
       "False"
      ]
     },
     "execution_count": 11,
     "metadata": {},
     "output_type": "execute_result"
    }
   ],
   "source": [
    "a = \"programiranje 2\"\n",
    "b = \"programiranje 2\"\n",
    "a is b"
   ]
  },
  {
   "cell_type": "markdown",
   "metadata": {},
   "source": [
    "Zgornji `False` najbrž ni presenetljiv. Ustvarimo dva objekta in primerjamo, ali gre za istega. Seveda ne gre. No, ni tako očitno, kot to demonstrira spodnji minimalno spremenjeni primer. Še huje, v teh primerih lahko dobite različne rezultate glede na verzijo prevajalnika in način izvajanja (v skripti ali preko Pythonovo interaktivne konzole). Python včasih poenoti nespremenljive (*immutable*) objekte, včasih pa ne."
   ]
  },
  {
   "cell_type": "code",
   "execution_count": 12,
   "metadata": {},
   "outputs": [
    {
     "data": {
      "text/plain": [
       "True"
      ]
     },
     "execution_count": 12,
     "metadata": {},
     "output_type": "execute_result"
    }
   ],
   "source": [
    "c = \"programiranje2\"\n",
    "d = \"programiranje2\"\n",
    "c is d"
   ]
  },
  {
   "cell_type": "markdown",
   "metadata": {},
   "source": [
    "Še ena uporabna funkcija je `isinstance(obj, tip)`, ki nam pove, ali je objekt `obj` tipa `tip`. Na prvi pogled se morda zdi odveč, ker lahko podobno funkcionalnost dosežemo z uporabo funkcije `type`."
   ]
  },
  {
   "cell_type": "code",
   "execution_count": 13,
   "metadata": {},
   "outputs": [
    {
     "name": "stdout",
     "output_type": "stream",
     "text": [
      "True True\n"
     ]
    }
   ],
   "source": [
    "x = 5\n",
    "print(isinstance(x, int), type(x) == int)"
   ]
  },
  {
   "cell_type": "markdown",
   "metadata": {},
   "source": [
    "Do ključne razlike pa pride pri dedovanju. Števec `Counter` je izpeljan iz slovarja `dict`, česar funkcija `type` ne ve."
   ]
  },
  {
   "cell_type": "code",
   "execution_count": 14,
   "metadata": {},
   "outputs": [
    {
     "name": "stdout",
     "output_type": "stream",
     "text": [
      "True True\n"
     ]
    }
   ],
   "source": [
    "from collections import Counter\n",
    "c = Counter(\"abcaab\")\n",
    "print(isinstance(c, Counter), isinstance(c, dict))"
   ]
  },
  {
   "cell_type": "markdown",
   "metadata": {},
   "source": [
    "Za ponovitev napišimo funkcijo `concat(a,b)`, ki bo sposobna konkatenacije (združevanja) seznamov ali posameznih številskih elementov tipa `int` ali `float`. Klici `concat([1,2], [3])`, `concat([1,2], 3)`, `concat(1, [2,3])` in `concat([1,2,3], [])` naj vsi vrnejo seznam `[1,2,3,4]`."
   ]
  },
  {
   "cell_type": "code",
   "execution_count": 15,
   "metadata": {},
   "outputs": [
    {
     "name": "stdout",
     "output_type": "stream",
     "text": [
      "[1, 2, 3, 4]\n",
      "[1, 2, 3, 4]\n",
      "[1, 2, 3, 4]\n"
     ]
    }
   ],
   "source": [
    "def concat(a,b):\n",
    "    if isinstance(a, (int, float)): a = [a]\n",
    "    if isinstance(b, (int, float)): b = [b]\n",
    "    return a+b\n",
    "\n",
    "print(concat([1,2], [3,4]))\n",
    "print(concat([1,2,3], 4))\n",
    "print(concat(1, [2,3,4]))"
   ]
  },
  {
   "cell_type": "markdown",
   "metadata": {},
   "source": [
    "Sedaj pa posplošimo funkcijo, da bo delovala na poljubnem številu in tipih argumentov. Vsak element, ki ni seznam, naj zapakira v seznam z enim elementom, da jih lahko nato združi."
   ]
  },
  {
   "cell_type": "code",
   "execution_count": 16,
   "metadata": {},
   "outputs": [
    {
     "name": "stdout",
     "output_type": "stream",
     "text": [
      "[1, 2, 3, 4, 5, 7, '8', 9, 10, 11.9]\n"
     ]
    }
   ],
   "source": [
    "def concat(*args):\n",
    "    args = [x if isinstance(x, list) else [x] for x in args]\n",
    "    return sum(args, start=[])\n",
    "\n",
    "print(concat([1,2], [3,4,5], 7, \"8\", [9, 10], 11.9))"
   ]
  },
  {
   "cell_type": "markdown",
   "metadata": {},
   "source": [
    "## Anotacija tipov spremenljivk\n",
    "\n",
    "Anotacija tipov spremenljivk je relativno nov dodatek k Pythonu. Anotacije niso obvezujoče in jih interpreter ne upošteva. Upoštevajo pa jih programerji in orodja za razvoj programov, kot je npr. PyCharm. Anotacija tipov se še aktivno spreminja/nadgrajuje med verzijami. Več o anotacijah najdete na naslovu https://docs.python.org/3/library/typing.html."
   ]
  },
  {
   "cell_type": "code",
   "execution_count": 17,
   "metadata": {},
   "outputs": [
    {
     "name": "stdout",
     "output_type": "stream",
     "text": [
      "8.581375181169975\n"
     ]
    }
   ],
   "source": [
    "from math import sqrt\n",
    "from typing import List, Union\n",
    "\n",
    "class Vektor:\n",
    "    def __init__(self, dim: int, koord: List[Union[int,float]]):  # v novejših verzijah lahko kar list[int|float]\n",
    "        # assert isinstance(dim, int)\n",
    "        # assert all(isinstance(x, (int, float)) for x in koord)\n",
    "        self.dim = dim\n",
    "        self.koord = koord\n",
    "        assert len(self.koord) == self.dim\n",
    "    def dolzina(self) -> float:\n",
    "        return sqrt(sum(x**2 for x in self.koord))\n",
    "\n",
    "v = Vektor(3, [2, 5.8, 6])\n",
    "print(v.dolzina())"
   ]
  },
  {
   "cell_type": "markdown",
   "metadata": {},
   "source": [
    "V podanem primeru smo sestavili razred `Vektor`, ki mu podamo dimenzije in seznam koordinat. Dimenzija mora biti tipa `int`, koordinate pa so seznam, ki vsebuje objekte tipa `int` ali `float`. V novejših verzijah lahko ta tip opišemo kot `list[int|float]`, v starejših pa potrebujemo dodatne konstrukte iz modula `typing`, da opišemo tip kot `List[Union[int,float]]`. Če bi želeli, da konstruktor dejansko preverja pravilnost tipov, moramo to narediti ročno. Z oznako `-> float` smo sporočili, da bo funkcija `dolzina` vračala rezultat tipa `float`."
   ]
  },
  {
   "cell_type": "markdown",
   "metadata": {},
   "source": [
    "## Regularni izrazi\n",
    "\n",
    "Regularni izrazi so opisi vzorcev, ki jih iščemo v nizih. Z njimi si lahko poenostavimo iskanje datumov, e-mail naslovov in drugih vzorcev, ki jih znamo natančno definirati z regularnim izrazom. Z dovolj znanja in spretnosti lahko opišemo marsikaj. Pri sestavljanju si pomagajte z dokumentacijo https://docs.python.org/3/library/re.html.\n",
    "\n",
    "> Some people, when confronted with a problem, think \"I know, I'll use regular expressions.\" Now they have two problems.\n",
    "\n",
    "Pri regularnih izrazih lahko hitro spregledamo kakšno podrobnost. Prav vam bo prišla kakšna spletna stran za hitro testiranje napisani izrazov. Ena od takih je https://regex101.com/."
   ]
  },
  {
   "cell_type": "markdown",
   "metadata": {},
   "source": [
    "V Pythonovih nizih imajo znaki `\\` posebno vlogo. Običajno označujejo začetek posebne oznake, v zgornjem primeru znak za skok v novo vrstico `\\n`. Take oznake so pogoste tudi v regularnih izrazih, zato želimo v nizu, ki opisuje izraz dobesedno ohraniti znak `\\`. To najlažje dosežemo z uporabo *raw string* sintakse `r\"niz\"`."
   ]
  },
  {
   "cell_type": "code",
   "execution_count": 18,
   "metadata": {
    "scrolled": false
   },
   "outputs": [
    {
     "name": "stdout",
     "output_type": "stream",
     "text": [
      "Danes\n",
      "je\n",
      "ponedeljek\n"
     ]
    }
   ],
   "source": [
    "print(\"Danes\\nje\\nponedeljek\");"
   ]
  },
  {
   "cell_type": "code",
   "execution_count": 19,
   "metadata": {},
   "outputs": [
    {
     "name": "stdout",
     "output_type": "stream",
     "text": [
      "Danes\\nje\\nponedeljek\n",
      "Danes\\nje\\nponedeljek\n"
     ]
    }
   ],
   "source": [
    "print(\"Danes\\\\nje\\\\nponedeljek\");\n",
    "print(r\"Danes\\nje\\nponedeljek\");"
   ]
  },
  {
   "cell_type": "markdown",
   "metadata": {},
   "source": [
    "Znak `.` v regularnem izrazu se ujema s katerimkoli znakom. `\\d` se ujema s števkami, kvalifikator `+` pa pomeni eno ali več zaporednih ponovitev predhodnega objekta, `*` pa nič ali več. Nabor sprejemljivih znakov lahko naštejemo tudi v oglatih oklepajih, npr. `[aeiou]` za male samoglasnike. Opremljeni s tem lahko iz niza izločimo že marsikatero število.\n",
    "\n",
    "Povejmo še, da se `\\w` ujema z znaki, ki jih pričakujemo v besedah (to so vsaj a-z, A-Z in 0-9), `\\s` pa bele znake (*whitespace*) kot so presledek, tab, nova vrstica itd."
   ]
  },
  {
   "cell_type": "code",
   "execution_count": 20,
   "metadata": {},
   "outputs": [
    {
     "name": "stdout",
     "output_type": "stream",
     "text": [
      "['2021']\n",
      "['2021', '10', '11']\n",
      "['2021', '10', '11']\n",
      "['2021', '10', '11']\n",
      "['2021/10/11']\n"
     ]
    }
   ],
   "source": [
    "import re\n",
    "\n",
    "print(re.findall(r\"20..\", \"2021/10/11\"))\n",
    "print(re.findall(r\"\\d+\", \"2021/10/11\"))\n",
    "print(re.findall(r\"[0123456789]+\", \"2021/10/11\"))\n",
    "print(re.findall(r\"[0-9]+\", \"2021/10/11\"))\n",
    "print(re.findall(r\"\\d+/\\d+/\\d+\", \"2021/10/11 9:28\"))"
   ]
  },
  {
   "cell_type": "markdown",
   "metadata": {},
   "source": [
    "Če želimo ponuditi dve možnosti, ju lahko navedemo z ločilom `|`. V spodnjem primeru najprej sestavimo in prevedemo regularni izraz. Prevajanje kompleksnih izrazov je lahko dolgotrajno, zato je to včasih koristno narediti vnaprej. Sestavimo regularni izraz, ki se bo ujemal z nizi, ki vsebujejo ime dneva (omejili se bomo na ponedeljek) in trenutni datum v slovenščini ali angleščini."
   ]
  },
  {
   "cell_type": "code",
   "execution_count": 21,
   "metadata": {},
   "outputs": [
    {
     "name": "stdout",
     "output_type": "stream",
     "text": [
      "<re.Match object; span=(0, 17), match='monday 11/10/2021'>\n",
      "<re.Match object; span=(0, 21), match='ponedeljek 11.10.2021'>\n",
      "None\n"
     ]
    }
   ],
   "source": [
    "r = re.compile(r\"(monday|ponedeljek) \\d\\d.\\d\\d.\\d+\")\n",
    "print(r.match(\"monday 11/10/2021\"))\n",
    "print(r.match(\"ponedeljek 11.10.2021\"))\n",
    "print(r.match(\"09:32 11.10.2021\"))"
   ]
  },
  {
   "cell_type": "markdown",
   "metadata": {},
   "source": [
    "Rezultat iskanja ujemanj z regularnim izrazom tipično vrne objekt tipa `Match`. Ta objekt vsebuje podatke o lokaciji ujemanja (`start`, `end`), regularnem izrazu, besedilu in skupinah, ki jih bomo pojasnili malo kasneje. Za začetek naj bo dovolj, da skupina 0 (`group(0)`) predstavlja ujemanje celega regularnega izraza."
   ]
  },
  {
   "cell_type": "code",
   "execution_count": 22,
   "metadata": {},
   "outputs": [
    {
     "name": "stdout",
     "output_type": "stream",
     "text": [
      "<re.Match object; span=(0, 13), match='Tomaž Hočevar'> ['__class__', '__copy__', '__deepcopy__', '__delattr__', '__dir__', '__doc__', '__eq__', '__format__', '__ge__', '__getattribute__', '__getitem__', '__gt__', '__hash__', '__init__', '__init_subclass__', '__le__', '__lt__', '__ne__', '__new__', '__reduce__', '__reduce_ex__', '__repr__', '__setattr__', '__sizeof__', '__str__', '__subclasshook__', 'end', 'endpos', 'expand', 'group', 'groupdict', 'groups', 'lastgroup', 'lastindex', 'pos', 're', 'regs', 'span', 'start', 'string']\n",
      "0 13 Tomaž Hočevar\n"
     ]
    }
   ],
   "source": [
    "m = re.match(r\"\\w+ \\w+\", \"Tomaž Hočevar Programiranje 2\")\n",
    "print(m, dir(m))\n",
    "print(m.start(), m.end(), m.group(0))"
   ]
  },
  {
   "cell_type": "markdown",
   "metadata": {},
   "source": [
    "Modul `re` ponuja celo kopico različnih metod za iskanje ujemanj z regularnimi izrazi:\n",
    "- `findall` poišče vsa neprekrivajoča se ujemanja in jih vrne v obliki seznama nizov,\n",
    "- `match` išče ujemanje na začetku niza in vrne `Match` objekt,\n",
    "- `fullmatch` išče ujemanje celega niza s podanim izrazom,\n",
    "- `search` išče ujemanje kjerkoli v nizu,\n",
    "- `finditer` vrne iterator čez najdena ujemanja,\n",
    "- ..."
   ]
  },
  {
   "cell_type": "code",
   "execution_count": 23,
   "metadata": {},
   "outputs": [
    {
     "name": "stdout",
     "output_type": "stream",
     "text": [
      "['Tomaz', 'Hocevar']\n"
     ]
    }
   ],
   "source": [
    "print(re.findall(r\"\\w+\", \"Tomaz Hocevar\"))"
   ]
  },
  {
   "cell_type": "code",
   "execution_count": 24,
   "metadata": {
    "scrolled": true
   },
   "outputs": [
    {
     "name": "stdout",
     "output_type": "stream",
     "text": [
      "<re.Match object; span=(0, 5), match='Tomaz'> None\n"
     ]
    }
   ],
   "source": [
    "print(re.match(r\"^\\w+$\",\"Tomaz\"), re.match(r\"^\\w+$\",\"Tomaz Hocevar\"))  # ^ predstavlja začetek, $ pa konec niza"
   ]
  },
  {
   "cell_type": "code",
   "execution_count": 25,
   "metadata": {},
   "outputs": [
    {
     "name": "stdout",
     "output_type": "stream",
     "text": [
      "<re.Match object; span=(0, 16), match='Tomaz    Hocevar'>\n"
     ]
    }
   ],
   "source": [
    "print(re.fullmatch(r\"\\w+\\s+\\w+\",\"Tomaz    Hocevar\"))"
   ]
  },
  {
   "cell_type": "code",
   "execution_count": 26,
   "metadata": {},
   "outputs": [
    {
     "name": "stdout",
     "output_type": "stream",
     "text": [
      "<re.Match object; span=(22, 27), match='09:40'>\n"
     ]
    }
   ],
   "source": [
    "print(re.search(r\"\\d\\d:\\d\\d\", \"ponedeljek 11.10.2021 09:40 UTC+2\"))"
   ]
  },
  {
   "cell_type": "code",
   "execution_count": 27,
   "metadata": {},
   "outputs": [
    {
     "name": "stdout",
     "output_type": "stream",
     "text": [
      "(0, 5)\n",
      "(6, 13)\n"
     ]
    }
   ],
   "source": [
    "for m in re.finditer(r\"\\w+\", \"Tomaz Hocevar\"):\n",
    "    print(m.span())"
   ]
  },
  {
   "cell_type": "markdown",
   "metadata": {},
   "source": [
    "Iskanje ujemanj je tipično požrešno (*greedy*). To pomeni, da se začetne oznake ujemajo s čim večjim delom, ki še vodi do ujemanja celotnega izraza. To nas lahko preseneti npr. pri iskanju **krepkih** besed v html kodi. Pričakovali bi tri ujemanja, vendar se `</b>` namesto s prvim poravna z zadnjim."
   ]
  },
  {
   "cell_type": "code",
   "execution_count": 28,
   "metadata": {
    "scrolled": true
   },
   "outputs": [
    {
     "name": "stdout",
     "output_type": "stream",
     "text": [
      "['<b>Lep</b> <b></b> <b>pozdrav</b>']\n"
     ]
    }
   ],
   "source": [
    "print(re.findall(\"<b>.*</b>\", \"<b>Lep</b> <b></b> <b>pozdrav</b>\"))"
   ]
  },
  {
   "cell_type": "markdown",
   "metadata": {},
   "source": [
    "Težavo lahko rešimo tako, da prepovemo vmesno pojavitev znakov `<`. Sintaksa `[^abc]` predstavlja negacijo in se ujema s katerimkoli znakom, ki ni a, b ali c. Druga možnost je uporaba nepožrešnega kvalifikatorja `?` za oznako `.` ali `*`."
   ]
  },
  {
   "cell_type": "code",
   "execution_count": 29,
   "metadata": {},
   "outputs": [
    {
     "name": "stdout",
     "output_type": "stream",
     "text": [
      "['<b>Lep</b>', '<b></b>', '<b>pozdrav</b>']\n",
      "['<b>Lep</b>', '<b></b>', '<b>pozdrav</b>']\n"
     ]
    }
   ],
   "source": [
    "print(re.findall(\"<b>[^<]*</b>\", \"<b>Lep</b> <b></b> <b>pozdrav</b>\"))\n",
    "print(re.findall(\"<b>.*?</b>\", \"<b>Lep</b> <b></b> <b>pozdrav</b>\"))  # non-greedy qualifier"
   ]
  },
  {
   "cell_type": "markdown",
   "metadata": {},
   "source": [
    "Z uporabo zavitih oklepajev `{}` lahko definiramo natančno število ponovitev."
   ]
  },
  {
   "cell_type": "code",
   "execution_count": 30,
   "metadata": {},
   "outputs": [
    {
     "name": "stdout",
     "output_type": "stream",
     "text": [
      "<re.Match object; span=(0, 10), match='11/10/2021'>\n",
      "<re.Match object; span=(0, 10), match='11/10/2021'>\n"
     ]
    }
   ],
   "source": [
    "print(re.search(r\"(\\d\\d/){2}\\d{4}\", \"11/10/2021\"))\n",
    "print(re.search(r\"\\d{2}/\\d{2}/\\d{4}\", \"11/10/2021\"))"
   ]
  },
  {
   "cell_type": "markdown",
   "metadata": {},
   "source": [
    "Za konec omenimo še skupine (*groups*). V regularnem izrazu lahko z okroglimi oklepaji označimo več delov izraza, ki jim rečemo skupine. V spodnjem primeru lahko iščemo datum, pri tem pa vsak del regularnega izraza za dan, mesec in leto ovijemo v oklepaje `()` in po ujemanju dobimo še ujemanja posameznih skupin. Skupina 0 ustreza celotnemu izrazu."
   ]
  },
  {
   "cell_type": "code",
   "execution_count": 31,
   "metadata": {
    "scrolled": true
   },
   "outputs": [
    {
     "name": "stdout",
     "output_type": "stream",
     "text": [
      "('11', '10', '2021')\n",
      "11/10/2021\n",
      "11 10 2021\n"
     ]
    }
   ],
   "source": [
    "m = re.search(r\"(\\d{2})/(\\d{2})/(\\d{4})\", \"danes je 11/10/2021, ponedeljek\")\n",
    "print(m.groups())\n",
    "print(m.group(0))\n",
    "dan, mesec, leto = m.group(1), m.group(2), m.group(3)\n",
    "print(dan, mesec, leto)"
   ]
  }
 ],
 "metadata": {
  "kernelspec": {
   "display_name": "Python 3",
   "language": "python",
   "name": "python3"
  },
  "language_info": {
   "codemirror_mode": {
    "name": "ipython",
    "version": 3
   },
   "file_extension": ".py",
   "mimetype": "text/x-python",
   "name": "python",
   "nbconvert_exporter": "python",
   "pygments_lexer": "ipython3",
   "version": "3.8.6"
  }
 },
 "nbformat": 4,
 "nbformat_minor": 4
}
