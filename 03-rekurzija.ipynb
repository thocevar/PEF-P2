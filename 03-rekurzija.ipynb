{
 "cells": [
  {
   "cell_type": "markdown",
   "metadata": {},
   "source": [
    "# Rekurzija\n",
    "\n",
    "Dobro razumevanje rekurzije se običajno izkaže za konceptualno najtežji del Programiranja 2. Uvodne naloge izgledajo lahke, slediti opisu pravilne rešitve težjih nalog pa tudi ni pretežko. Sestaviti svojo rešitev in v njej odpraviti vse napake pa zahteva veliko vaje in dobrega razumevanja, kaj se v rekurziji pravzaprav dogaja.\n",
    "\n",
    "Pri pisanju rekurzivne funkcije si lahko pogosto pomagamo s predpostavko, da funkcija že deluje za manjše probleme. Če poskrbimo, da bo res delovala za najmanjše robne primere, bo po indukciji veljala tudi za malo večje. Zaradi tega bo delovala tudi za še večje in na koncu pravzaprav za kar vse."
   ]
  },
  {
   "cell_type": "markdown",
   "metadata": {},
   "source": [
    "## Ogrevanje\n",
    "\n",
    "Za začetek si poglejmo nalogo s seznamom, kakršno bi najbrž že znali rešiti. Napisali bomo funkcijo `vzorec`, ki bo sprejela seznam in število `k` ter vrnila seznam z vsakim `k`-tim elementom podanega seznama. Če bi seznam razbili na glavo (prvi element) in rep (preostanek seznama), ki potrebovali še dodaten parameter, ki bi nam povedal, koliko elementov z začetka seznama je nerelevantnih. Rešitev si lahko poenostavimo tako, da vzamemo prvi element, nato pa odrežemo prvih `k` elementov in obravnavamo preostanek. Tako je vedno relevanten prvi element v seznamu."
   ]
  },
  {
   "cell_type": "code",
   "execution_count": 1,
   "metadata": {},
   "outputs": [
    {
     "name": "stdout",
     "output_type": "stream",
     "text": [
      "[2, 8, 14]\n"
     ]
    }
   ],
   "source": [
    "def vzorec(seznam, k):\n",
    "    return [seznam[0]] + vzorec(seznam[k:], k) if seznam else []\n",
    "\n",
    "print(vzorec([2,4,6,8,10,12,14,16], 3))"
   ]
  },
  {
   "cell_type": "markdown",
   "metadata": {},
   "source": [
    "## Rekurzivne strukture\n",
    "\n",
    "Določene podatkovne strukture imajo same po sebi rekurzivno strukturo in so zato primerne za rekurzivno reševanje, npr. seznami in drevesa. Reševanje pa si lahko še malo otežimo, če lahko seznami vsebujejo podsezname. Napišimo funkcijo `flatten`, ki bo sprejela seznam, ki lahko vsebuje gnezdene sezname, ki lahko vsebujejo še kakšen seznam itd. Vrne pa naj enostaven seznam vseh elementov po vrsti, kot se pojavijo v gnezdenih seznamih. V rešitvi bomo vsak element seznama dodali v rešitev z izjemo tistih, ki so pravzaprav gnezdeni seznami. Te pa lahko rekurzivno zravnamo in dodamo vse tako dobljene elemente v rešitev."
   ]
  },
  {
   "cell_type": "code",
   "execution_count": 2,
   "metadata": {},
   "outputs": [
    {
     "name": "stdout",
     "output_type": "stream",
     "text": [
      "[1, 2, 3, 4, 5, 6, 7, 8]\n"
     ]
    }
   ],
   "source": [
    "def flatten(seznam):\n",
    "    f = []\n",
    "    for x in seznam:\n",
    "        if isinstance(x, list): f.extend(flatten(x))\n",
    "        else: f.append(x)\n",
    "    return f\n",
    "\n",
    "print(flatten([1,[2,3],[4,[5],6,[],7],8]))"
   ]
  },
  {
   "cell_type": "markdown",
   "metadata": {},
   "source": [
    "Drevesne strukture lahko opišemo s slovarji, kjer vsak ključ ustreza nekemu vozlišču, pripadajoča vrednost pa vsebuje seznam naslednikov. Lahko pa tako strukturo zgradimo z lastnimi objekti, ki se referencirajo med seboj. Konstruktor razreda `Vozlisce` sprejme vrednost vozlišča in korena levega ter desnega poddrevesa. Z metodo `print` bomo izpisali njegovo strukturo v t.i. *preorder* vrstnem redu, kjer najprej izpišemo vrednost v korenu, nato pa vsebino levega in desnega poddrevesa. Da bo izpis bolj berljiv, dodajmo še primeren zamik glede na globino vozlišča v drevesu."
   ]
  },
  {
   "cell_type": "code",
   "execution_count": 3,
   "metadata": {},
   "outputs": [
    {
     "name": "stdout",
     "output_type": "stream",
     "text": [
      "10\n",
      "  6\n",
      "    3\n",
      "    6\n",
      "      9\n",
      "  15\n",
      "    12\n",
      "    20\n"
     ]
    }
   ],
   "source": [
    "class Vozlisce:\n",
    "    def __init__(self, x, levo=None, desno=None):\n",
    "        self.x = x\n",
    "        self.levo, self.desno = levo, desno\n",
    "\n",
    "    def print(self, zamik=0):\n",
    "        print(\" \"*zamik + str(self.x))\n",
    "        if self.levo: self.levo.print(zamik+2)\n",
    "        if self.desno: self.desno.print(zamik+2)\n",
    "\n",
    "drevo = Vozlisce(10,\n",
    "         Vozlisce(6,\n",
    "                  Vozlisce(3),\n",
    "                  Vozlisce(6,\n",
    "                           None,\n",
    "                           Vozlisce(9))),\n",
    "         Vozlisce(15,\n",
    "                  Vozlisce(12),\n",
    "                  Vozlisce(20)))\n",
    "\n",
    "drevo.print()"
   ]
  },
  {
   "cell_type": "markdown",
   "metadata": {},
   "source": [
    "Dopolnimo razred z metodo `urejeno`, ki bo vrnila `True` ali `False` glede na to, ali gre za urejeno drevo (https://en.wikipedia.org/wiki/Binary_search_tree), za katerega velja, da so v levem poddrevesu vrednosti manjše od tiste v korenu, v desnem pa večje ali enake.\n",
    "\n",
    "Prva ideja je, da bi za vsako vozlišče preverili, da je koren v levem poddrevesu manjši od vrednosti v vozlišču, koren v desnem poddrevesu pa večji ali enak. Vendar to ni dovolj. Če bi v zgornjem primeru zamenjali vrednost 9 z 19, bi taka strategija razglasila drevo za urejeno, čeprav to ni res.\n",
    "\n",
    "Vrednost v vozlišču moramo primerjati z največjo vrednostjo v levem poddrevesu (ne samo s korenom) ter z najmanjšo v desnem poddrevesu. V ta namen si pripravimo metodi `levi` in `desni`, ki bosta vrnili najbolj levo oz. desno vozlišče v drevesu. V implementaciji metode `urejeno` moramo preveriti, ali sploh obstaja levo poddrevo. Če obstaja, preverimo da je samo urejeno in da je njegov najbolj desni (največji) element manjši od vrednosti v korenu. Podobno obravnavamo še desno poddrevo."
   ]
  },
  {
   "cell_type": "code",
   "execution_count": 4,
   "metadata": {},
   "outputs": [
    {
     "name": "stdout",
     "output_type": "stream",
     "text": [
      "True\n"
     ]
    }
   ],
   "source": [
    "class Vozlisce:\n",
    "    def __init__(self, x, levo=None, desno=None):\n",
    "        self.x = x\n",
    "        self.levo, self.desno = levo, desno\n",
    "\n",
    "    def print(self, zamik=0):\n",
    "        print(\" \"*zamik + str(self.x))\n",
    "        if self.levo: self.levo.print(zamik+2)\n",
    "        if self.desno: self.desno.print(zamik+2)\n",
    "\n",
    "    def desni(self):\n",
    "        if self.desno: return self.desno.desni()\n",
    "        else: return self.x\n",
    "\n",
    "    def levi(self):\n",
    "        if self.levo: return self.levo.levi()\n",
    "        else: return self.x\n",
    "        \n",
    "    def urejeno(self):\n",
    "        ok = True\n",
    "        if self.levo:\n",
    "            if not self.levo.urejeno(): ok = False\n",
    "            if self.levo.desni() > self.x: ok = False\n",
    "        if self.desno:\n",
    "            if not self.desno.urejeno(): ok = False\n",
    "            if self.desno.levi() < self.x: ok = False\n",
    "        return ok\n",
    "\n",
    "drevo = Vozlisce(10,\n",
    "         Vozlisce(6,\n",
    "                  Vozlisce(3),\n",
    "                  Vozlisce(6,\n",
    "                           None,\n",
    "                           Vozlisce(9))),\n",
    "         Vozlisce(15,\n",
    "                  Vozlisce(12),\n",
    "                  Vozlisce(20)))\n",
    "\n",
    "print(drevo.urejeno())  # 9 -> 19 ... False"
   ]
  },
  {
   "cell_type": "markdown",
   "metadata": {},
   "source": [
    "## Kombinatorika\n",
    "\n",
    "Poleg nekaterih podatkovnih struktur je rekurzija pogosta tudi pri raznih kombinatoričnih strukturah kot so kombinacije, permutacije itd. V teh primerih ima rekurzivno strukturo drevo delnih rešitev, s katerimi sestavljamo iskane strukture.\n",
    "\n",
    "### Kartezični produkt\n",
    "\n",
    "Za začetek si oglejmo kartezični produkt oz. vse nabore (\"kombinacije\") števil, kjer je prvo število iz prve množice, drugo iz druge, itd. Če imamo tri take množice, lahko kartezične produkte zgeneriramo s tremi gnezdenimi zankami. Težava pa nastane, če je teh množic poljubno veliko število, recimo $n$. Če želite kdaj napisati $n$ gnezdenih zank, je to dober indikator, da boste za rešitev potrebovali rekurzijo.\n",
    "\n",
    "V Pythonu so številne kombinatorične strukture že na voljo v modulu `itertools` (https://docs.python.org/3/library/itertools.html). Če pa želimo generirati kaj posebnega (kar ni standardna kombinacija, permutacija, ...) oz. zajeti specifičnosti problema pri generiranju vseh možnosti, pa moramo vedeti, kako te stvari delujejo oz. jih znati napisati sami, da jih lahko primerno spremenimo."
   ]
  },
  {
   "cell_type": "code",
   "execution_count": 5,
   "metadata": {},
   "outputs": [
    {
     "name": "stdout",
     "output_type": "stream",
     "text": [
      "for     [(1, 4, 6), (1, 4, 7), (1, 5, 6), (1, 5, 7), (2, 4, 6), (2, 4, 7), (2, 5, 6), (2, 5, 7), (3, 4, 6), (3, 4, 7), (3, 5, 6), (3, 5, 7)]\n",
      "product [(1, 4, 6), (1, 4, 7), (1, 5, 6), (1, 5, 7), (2, 4, 6), (2, 4, 7), (2, 5, 6), (2, 5, 7), (3, 4, 6), (3, 4, 7), (3, 5, 6), (3, 5, 7)]\n"
     ]
    }
   ],
   "source": [
    "a, b, c = [1,2,3], [4,5], [6,7]\n",
    "print(\"for    \", [(x,y,z) for x in a for y in b for z in c])\n",
    "\n",
    "from itertools import product\n",
    "print(\"product\", list(product(a,b,c)))"
   ]
  },
  {
   "cell_type": "markdown",
   "metadata": {},
   "source": [
    "Obstaja več rekurzivnih pristopov. Na primeru kartezičnega produkta si bomo ogledali dva oz. tri. Prvi način bo nabiranje, kjer postopoma sestavljamo kartezični produkt, na koncu pa ga izpišemo, dodamo v globalni seznam rešitev ali kaj tretjega. V drevesni strukturi klicev imamo tako vedno večje delne strukture proti listom drevesa. V ta namen potrebujemo pomožen argument `rezultat`, s katerim si klici funkcij podajajo delne strukture. Vsako vrednost iz prvega seznama poskusimo dodati k rezultatu in rekurzivno dokončamo strukturo iz preostalih seznamov."
   ]
  },
  {
   "cell_type": "code",
   "execution_count": 6,
   "metadata": {
    "scrolled": true
   },
   "outputs": [
    {
     "name": "stdout",
     "output_type": "stream",
     "text": [
      "[1, 4, 6]\n",
      "[1, 4, 7]\n",
      "[1, 5, 6]\n",
      "[1, 5, 7]\n",
      "[2, 4, 6]\n",
      "[2, 4, 7]\n",
      "[2, 5, 6]\n",
      "[2, 5, 7]\n",
      "[3, 4, 6]\n",
      "[3, 4, 7]\n",
      "[3, 5, 6]\n",
      "[3, 5, 7]\n"
     ]
    }
   ],
   "source": [
    "def sestavi(seznami, rezultat=[]):\n",
    "    if not seznami:\n",
    "        print(rezultat)\n",
    "    else:\n",
    "        for element in seznami[0]:\n",
    "            sestavi(seznami[1:], rezultat=rezultat+[element])\n",
    "\n",
    "sestavi([a, b, c])"
   ]
  },
  {
   "cell_type": "markdown",
   "metadata": {},
   "source": [
    "Rešitev z nabiranjem lahko prilagodimo, da dejansko vrača seznam rezultatov, namesto da jih izpisuje ali spreminja globalne spremenljivke. V listih drevesa klicev vrnem seznam z eno samo rešitvijo. V ostalih primerih pa samo združimo sezname rešitev, ki nastanejo iz preostanka seznamov, če dopolnimo delno zgrajen rezultat s prvim, drugim, ..., zadnjim elementom trenutnega seznama."
   ]
  },
  {
   "cell_type": "code",
   "execution_count": 7,
   "metadata": {},
   "outputs": [
    {
     "name": "stdout",
     "output_type": "stream",
     "text": [
      "[[1, 4, 6], [1, 4, 7], [1, 5, 6], [1, 5, 7], [2, 4, 6], [2, 4, 7], [2, 5, 6], [2, 5, 7], [3, 4, 6], [3, 4, 7], [3, 5, 6], [3, 5, 7]]\n"
     ]
    }
   ],
   "source": [
    "def sestavi(seznami, rezultat=[]):\n",
    "    if not seznami:\n",
    "        return [rezultat]\n",
    "    else:\n",
    "        rezultati = []\n",
    "        for element in seznami[0]:\n",
    "            rezultati += sestavi(seznami[1:], rezultat+[element])\n",
    "        return rezultati\n",
    "\n",
    "print(sestavi([a, b, c]))"
   ]
  },
  {
   "cell_type": "markdown",
   "metadata": {},
   "source": [
    "Kot zadnjo možnost si oglejmo še \"čisto\" rekurzivno rešitev brez pomožnih spremenljivk. Razmisliti moramo, kako nam lahko pomagajo rešitve manjšega problema (`delni`), to so kartezični produkti vseh seznamov razen prvega. Vsem delnim rezultatom moramo na začetek dodati prvi element, nato drugi element, ... Tako iz manjših rezultatov sestavimo večjega. \n",
    "\n",
    "Paziti moramo na robni primer, ko nam zmanjka seznamov. V tem primeru je `return []` tipična napaka. Funkcija mora vračati seznam rešitev, ki jih nato predhodni klici poskusijo razširiti v rešitev večjega problema. Pravilna rešitev je `return [[]]`, s čimer vrnemo seznam z eno prazno rešitvijo."
   ]
  },
  {
   "cell_type": "code",
   "execution_count": 8,
   "metadata": {},
   "outputs": [
    {
     "name": "stdout",
     "output_type": "stream",
     "text": [
      "[[1, 4, 6], [1, 4, 7], [1, 5, 6], [1, 5, 7], [2, 4, 6], [2, 4, 7], [2, 5, 6], [2, 5, 7], [3, 4, 6], [3, 4, 7], [3, 5, 6], [3, 5, 7]]\n"
     ]
    }
   ],
   "source": [
    "def sestavi(seznami):\n",
    "    if not seznami: return [[]]\n",
    "    seznam = seznami[0]\n",
    "    delni = sestavi(seznami[1:])\n",
    "    rezultati = []\n",
    "    for element in seznam:\n",
    "        for rezultat in delni:\n",
    "            rezultati.append([element] + rezultat)\n",
    "    return rezultati\n",
    "\n",
    "print(sestavi([a, b, c]))"
   ]
  },
  {
   "cell_type": "markdown",
   "metadata": {},
   "source": [
    "### Kombinacije\n",
    "\n",
    "Kombinacije se od kartezičnega produkta razlikujejo v tem, da izbiramo ves čas iz iste množice, hkrati pa ni pomemben vrstni red ({a,b} in {b,a} sta ista kombinacija). Kombinacije treh elementov bi lahko zopet rešili s tremi zankami; tokrat z indeksi, da izberemo prvi element, drugega nekje desno od prve izbire itd. Ko iščemo splošne kombinacije $n$ elementov iz neke večje množice, se namesto $n$ gnezdenih zank poslužimo rekurzije ali si pomagamo s funkcijo `itertools.combinations`."
   ]
  },
  {
   "cell_type": "code",
   "execution_count": 9,
   "metadata": {},
   "outputs": [
    {
     "name": "stdout",
     "output_type": "stream",
     "text": [
      "for          [('a', 'b', 'c'), ('a', 'b', 'd'), ('a', 'b', 'e'), ('a', 'c', 'd'), ('a', 'c', 'e'), ('a', 'd', 'e'), ('b', 'c', 'd'), ('b', 'c', 'e'), ('b', 'd', 'e'), ('c', 'd', 'e')]\n",
      "combinations [('a', 'b', 'c'), ('a', 'b', 'd'), ('a', 'b', 'e'), ('a', 'c', 'd'), ('a', 'c', 'e'), ('a', 'd', 'e'), ('b', 'c', 'd'), ('b', 'c', 'e'), ('b', 'd', 'e'), ('c', 'd', 'e')]\n"
     ]
    }
   ],
   "source": [
    "sez = ['a','b','c','d','e']\n",
    "# print([(x,y) for x in sez for y in sez])  # narobe\n",
    "print(\"for         \", [(sez[i],sez[j],sez[k]) for i in range(len(sez)) for j in range(i+1,len(sez)) for k in range(j+1,len(sez))])\n",
    "\n",
    "from itertools import combinations\n",
    "print(\"combinations\", list(combinations(sez, 3)))"
   ]
  },
  {
   "cell_type": "markdown",
   "metadata": {},
   "source": [
    "Reševanja bi se lahko tako kot v prejšnjih primerih lotili z nabiranjem, vendar si raje oglejmo rekurzivno rešitev brez pomožnih argumentov. Kako lahko problem sestavljanja kombinacij razbijemo na manjše podprobleme? Na več načinov. Najbolj enostaven pa je najbrž na tiste kombinacije, ki vsebujejo prvi element iz množice in na tiste, ki ga ne. V obeh primerih kot podproblem sestavljamo kombinacije iz množice brez prvega elementa (za tega smo se že odločili, kaj bo z njim). V prvem primeru iščemo kombinacije $n-1$ elementov, ki jih razširimo z dodatkom prvega elementa na začetek. V drugem pa iščemo kar kombinacije $n$ elementov, vendar iz malo manjše množice. Paziti moramo tudi, kdaj pride vsak od teh primerov sploh v poštev."
   ]
  },
  {
   "cell_type": "code",
   "execution_count": 10,
   "metadata": {},
   "outputs": [
    {
     "name": "stdout",
     "output_type": "stream",
     "text": [
      "kombinacije [['a', 'b', 'c'], ['a', 'b', 'd'], ['a', 'b', 'e'], ['a', 'c', 'd'], ['a', 'c', 'e'], ['a', 'd', 'e'], ['b', 'c', 'd'], ['b', 'c', 'e'], ['b', 'd', 'e'], ['c', 'd', 'e']]\n"
     ]
    }
   ],
   "source": [
    "def kombinacije(sez, n):\n",
    "    if not sez: return [[]]\n",
    "    rezultati = []\n",
    "    if n > 0:  # uporabi prvega\n",
    "        rezultati += [sez[:1]+komb for komb in kombinacije(sez[1:], n - 1)]\n",
    "    if n < len(sez):  # preskoci prvega\n",
    "        rezultati += kombinacije(sez[1:], n)\n",
    "    return rezultati\n",
    "\n",
    "print(\"kombinacije\", kombinacije(sez, 3))"
   ]
  },
  {
   "cell_type": "markdown",
   "metadata": {},
   "source": [
    "### Podmnožice\n",
    "\n",
    "Podmnožice so kombinacije poljubne velikosti. Dobimo jih lahko z unijo kombinacij velikosti od $0$ do $n$ elementov."
   ]
  },
  {
   "cell_type": "code",
   "execution_count": 11,
   "metadata": {},
   "outputs": [
    {
     "name": "stdout",
     "output_type": "stream",
     "text": [
      "podmnozice [(), (2,), (4,), (6,), (2, 4), (2, 6), (4, 6), (2, 4, 6)]\n"
     ]
    }
   ],
   "source": [
    "sez = [2,4,6]\n",
    "subsets = []\n",
    "for k in range(len(sez)+1):\n",
    "    subsets += combinations(sez, k)\n",
    "print(\"podmnozice\", subsets)"
   ]
  },
  {
   "cell_type": "markdown",
   "metadata": {},
   "source": [
    "Lastna rekurzivna rešitev je pravzaprav poenostavitev rešitve za iskanje kombinacij. Samo odstranimo argument $n$, ki predstavlja velikost kombinacije, in dobimo vse podmnožice."
   ]
  },
  {
   "cell_type": "code",
   "execution_count": 12,
   "metadata": {},
   "outputs": [
    {
     "name": "stdout",
     "output_type": "stream",
     "text": [
      "podmnozice [[2, 4, 6], [2, 4], [2, 6], [2], [4, 6], [4], [6], []]\n"
     ]
    }
   ],
   "source": [
    "def podmnozice(sez):\n",
    "    if not sez: return [[]]\n",
    "    rezultati = []\n",
    "    rezultati += [sez[:1]+mnoz for mnoz in podmnozice(sez[1:])]  # s prvim elementom\n",
    "    rezultati += podmnozice(sez[1:])  # brez prvega\n",
    "    return rezultati\n",
    "\n",
    "sez = [2,4,6]\n",
    "print(\"podmnozice\", podmnozice(sez))"
   ]
  },
  {
   "cell_type": "markdown",
   "metadata": {},
   "source": [
    "### Permutacije\n",
    "\n",
    "Pri permutacijah ne gre za izbor elementov, temveč za njihov vrstni red. Pomagate si lahko s funkcijo `itertools.permutations`."
   ]
  },
  {
   "cell_type": "code",
   "execution_count": 13,
   "metadata": {},
   "outputs": [
    {
     "name": "stdout",
     "output_type": "stream",
     "text": [
      "permutations [('a', 'b', 'c'), ('a', 'c', 'b'), ('b', 'a', 'c'), ('b', 'c', 'a'), ('c', 'a', 'b'), ('c', 'b', 'a')]\n"
     ]
    }
   ],
   "source": [
    "from itertools import permutations\n",
    "sez = [\"a\",\"b\",\"c\"]\n",
    "print(\"permutations\", list(permutations(sez)))"
   ]
  },
  {
   "cell_type": "markdown",
   "metadata": {},
   "source": [
    "Pri načrtovanju lastne rešitve tudi tu obstaja več pristopov. Lahko izberemo, kateri od elementov seznama bo prvi element v permutaciji ali pa se odločimo, na katerem mestu v permutaciji bo končal prvi element iz seznama. Oglejmo si prvo možnost. Za vsak element seznama (`prvi = sez[i]`), ki lahko zaseda prvo mesto v permutaciji, moramo poiskati preostale elemente seznama (`ostali = sez[:i] + sez[i+1:]`) in iz njih sestaviti vse možne krajše permutacije, ki jih nato podaljšamo z dodatkom izbranega elementa na začetek."
   ]
  },
  {
   "cell_type": "code",
   "execution_count": 14,
   "metadata": {},
   "outputs": [
    {
     "name": "stdout",
     "output_type": "stream",
     "text": [
      "permutacije [['a', 'b', 'c'], ['a', 'c', 'b'], ['b', 'a', 'c'], ['b', 'c', 'a'], ['c', 'a', 'b'], ['c', 'b', 'a']]\n"
     ]
    }
   ],
   "source": [
    "def permutacije(sez):\n",
    "    if not sez: return [[]]\n",
    "    rezultati = []\n",
    "    for i in range(len(sez)):\n",
    "        prvi = sez[i]\n",
    "        ostali = sez[:i] + sez[i+1:]\n",
    "        rezultati += [[prvi]+perm for perm in permutacije(ostali)]\n",
    "    return rezultati\n",
    "\n",
    "print(\"permutacije\", list(permutacije(sez)))"
   ]
  }
 ],
 "metadata": {
  "kernelspec": {
   "display_name": "Python 3",
   "language": "python",
   "name": "python3"
  },
  "language_info": {
   "codemirror_mode": {
    "name": "ipython",
    "version": 3
   },
   "file_extension": ".py",
   "mimetype": "text/x-python",
   "name": "python",
   "nbconvert_exporter": "python",
   "pygments_lexer": "ipython3",
   "version": "3.8.6"
  }
 },
 "nbformat": 4,
 "nbformat_minor": 4
}
