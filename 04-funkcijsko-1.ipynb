{
 "cells": [
  {
   "cell_type": "markdown",
   "metadata": {},
   "source": [
    "# Funkcijsko programiranje 1\n",
    "\n",
    "Funkcijsko programiranje je stil programiranja, v katerem programiramo z \"zlaganjem\" funkcij. Funkcije ne smejo imeti stranskih učinkov, kot je spreminjanje globalnih spremenljivk ali lastnih argumentov. Če pokličemo funkcijo z enakimi argumenti, mora vedno vrniti enak rezultat. Podatkovne strukture so nespremenljive (*immutable*), zato jih ne moremo spreminjati, temveč sestavljamo nove. Ne uporabljamo zank, ki spreminjajo kakšne lokalne ali globalne števce, ampak uporabljamo rekurzijo.\n",
    "\n",
    "Način programiranja je na prvi pogled precej omejujoč, vendar ima svoje prednosti. Prevajalniki oz. interpreterji imajo v tako omejenih programih več možnosti za optimizacije. Lažje je tudi formalno dokazovanje pravilnosti takih programov. Z vidika učinkovitosti nam tako programiranje omogoča enostavno paralelizacijo, kar je pogosto vse prej kot trivialno.\n",
    "\n",
    "Med funkcijske programske jezike uvrščamo Haskell, Racket, Lisp, ... Čeprav ne boste programirali v funkcijskem jeziku, pa vam pridejo prav osvojeni pristopi pri reševanju problemov v drugih jeziki. Skoraj vsi programski jeziki namreč ponujajo konstrukte, ki omogočajo funkcijski način programiranja (Python, C++, Java, Kotlin, Go, ...)"
   ]
  },
  {
   "cell_type": "markdown",
   "metadata": {},
   "source": [
    "## Funkcije višjega reda\n",
    "\n",
    "Funkcije višjega reda so tiste funkcije, ki sprejmejo in/ali vračajo druge funkcije. Primer take funkcije v matematiki je odvod. Najprej si oglejmo primer funkcij, ki kot argument sprejmejo drugo funkcijo. Vračanju funkcij pa se posvetimo na naslednjih predavanjih.\n",
    "\n",
    "Napišimo program, ki bo v seznamu imen poiskal prvega po abecedi ne glede na velikost črk. Nato napišimo še podoben program, ki bo poisal najdaljše ime v seznamu."
   ]
  },
  {
   "cell_type": "code",
   "execution_count": 1,
   "metadata": {},
   "outputs": [
    {
     "name": "stdout",
     "output_type": "stream",
     "text": [
      "prvi po abecedi: andreja\n",
      "najdaljsi: Dominika\n"
     ]
    }
   ],
   "source": [
    "imena = [\"andreja\", \"Bine\", \"Cene\", \"Dominika\", \"Eva\"]\n",
    "prvi = imena[0]\n",
    "for ime in imena:\n",
    "    if ime.lower() < prvi.lower():\n",
    "        prvi = ime\n",
    "print(\"prvi po abecedi:\", prvi)\n",
    "\n",
    "prvi = imena[0]\n",
    "for ime in imena:\n",
    "    if len(ime) > len(prvi):\n",
    "        prvi = ime\n",
    "print(\"najdaljsi:\", prvi)"
   ]
  },
  {
   "cell_type": "markdown",
   "metadata": {},
   "source": [
    "Vidimo, da je logika programa v obeh primerih precej podobna. Po vrsti obravnavamo elemente seznama, jih primerjamo s trenutno najboljšim in ga spremenimo, če je treba. Programa se razlikujeta samo v pogoju, kdaj je nek element boljši od drugega. Obe rešitvi lahko posplošimo s funkcijo višjega reda `najboljsi`, ki poleg seznama `imena` sprejme tudi funkcijo `boljsi`, ki bo znala določiti, ali je prvi element boljši od drugega."
   ]
  },
  {
   "cell_type": "code",
   "execution_count": 2,
   "metadata": {},
   "outputs": [],
   "source": [
    "def najboljsi(imena, boljsi):\n",
    "    prvi = imena[0]\n",
    "    for ime in imena:\n",
    "        if boljsi(ime, prvi):\n",
    "            prvi = ime\n",
    "    return prvi"
   ]
  },
  {
   "cell_type": "markdown",
   "metadata": {},
   "source": [
    "Sedaj lahko s pripravo različnih primerjalnih funkcij hitro sprogramiramo iskanje prvega elementa po nekem kriteriju. Pazljivi moramo biti pri podajanju primerjalne funkcije kot argumenta. Klic `najboljsi(imena, manjsi_leksikografsko()))` bi namreč poskusil izvesti funkcijo `manjsi_leksikografsko` in kot argument funkciji `najboljsi` podal njen rezultat. Tega pa ne želimo, temveč bi radi podali kot argument funkcijo, ne njenega rezultata. To storimo tako, da podamo samo ime funkcije `najboljsi(imena, manjsi_leksikografsko))` in pri tem izpustimo oklepaje, ki označujejo klic funkcije."
   ]
  },
  {
   "cell_type": "code",
   "execution_count": 3,
   "metadata": {},
   "outputs": [
    {
     "name": "stdout",
     "output_type": "stream",
     "text": [
      "leksikografsko: andreja\n",
      "najkrajsi: Eva\n",
      "najdaljsi: Dominika\n"
     ]
    }
   ],
   "source": [
    "def manjsi_leksikografsko(x, y):\n",
    "    return x.lower() < y.lower()\n",
    "\n",
    "def manjsi_dolzina(x, y):\n",
    "    return len(x) < len(y)\n",
    "\n",
    "def vecji_dolzina(x, y):\n",
    "    return len(x) > len(y)\n",
    "\n",
    "print(\"leksikografsko:\", najboljsi(imena, manjsi_leksikografsko))\n",
    "print(\"najkrajsi:\", najboljsi(imena, manjsi_dolzina))\n",
    "print(\"najdaljsi:\", najboljsi(imena, vecji_dolzina))"
   ]
  },
  {
   "cell_type": "markdown",
   "metadata": {},
   "source": [
    "## Anonimne funkcije (lambda)\n",
    "\n",
    "Primerjalne funkcije smo definirali z določenimi imeni in jih nato uporabili samo enkrat. Prikladno bi bilo, če bi lahko definicijo funkcije napisali kar na mestu, kjer želimo to funkcije uporabiti. To lahko storimo z anonimnimi (*lambda*) funkcijami. Z njimi definiramo funkcijo, vendar ji ne priredimo imena. Lambda funkcije so sestavljene iz enega samega izraza, ki definira vrnjeno vrednost. Pogosto jih uporabljamo s standardnimi funkcijami kot so `min`, `max`, `sort`, `sorted`, ki kot imenovan argument `key` sprejmejo funkcijo."
   ]
  },
  {
   "cell_type": "code",
   "execution_count": 4,
   "metadata": {},
   "outputs": [
    {
     "name": "stdout",
     "output_type": "stream",
     "text": [
      "najkrajsi (najboljsi): Eva\n",
      "najdaljsi (max): Dominika\n",
      "po abecedi: ['Bine', 'Cene', 'Dominika', 'Eva', 'andreja']\n",
      "po dolzini: ['Eva', 'Bine', 'Cene', 'andreja', 'Dominika']\n",
      "case-insensitive: ['andreja', 'Bine', 'Cene', 'Dominika', 'Eva']\n"
     ]
    }
   ],
   "source": [
    "print(\"najkrajsi (najboljsi):\", najboljsi(imena, lambda x, y: len(x) < len(y)))\n",
    "print(\"najdaljsi (max):\", max(imena, key=len))\n",
    "print(\"po abecedi:\", sorted(imena))\n",
    "print(\"po dolzini:\", sorted(imena, key=len))\n",
    "print(\"case-insensitive:\", sorted(imena, key=lambda x: x.lower()))"
   ]
  },
  {
   "cell_type": "markdown",
   "metadata": {},
   "source": [
    "## Map, filter, reduce\n",
    "\n",
    "Funkcije `map`, `filter` in `reduce` (v drugih jezikih imenovan `fold`) so poleg rekurzije glavna orodja funkcijskega programiranja.\n",
    "\n",
    "**Map** sprejme funkcijo in seznam ter izvede podano funkcijo na vseh elementih seznama in vrne nov pretvorjen seznam. Enostavno lahko napišemo tudi lastno funkcijo, recimo ji `izvedi`."
   ]
  },
  {
   "cell_type": "code",
   "execution_count": 5,
   "metadata": {},
   "outputs": [
    {
     "name": "stdout",
     "output_type": "stream",
     "text": [
      "[5, 3, 1, 9, 7]\n"
     ]
    }
   ],
   "source": [
    "def izvedi(funk, sez):\n",
    "    return [funk(x) for x in sez]\n",
    "\n",
    "print(izvedi(abs, [5,-3,1,9,-7]))"
   ]
  },
  {
   "cell_type": "markdown",
   "metadata": {},
   "source": [
    "Da bo funkcija napisana v duhu funkcijskega programiranja, se izognemo for zanki z rekurzijo."
   ]
  },
  {
   "cell_type": "code",
   "execution_count": 6,
   "metadata": {},
   "outputs": [
    {
     "name": "stdout",
     "output_type": "stream",
     "text": [
      "[5, 3, 1, 9, 7]\n"
     ]
    }
   ],
   "source": [
    "def izvedi(funk, sez):\n",
    "    return [funk(sez[0])] + izvedi(funk, sez[1:]) if sez else []\n",
    "\n",
    "print(izvedi(abs, [5,-3,1,9,-7]))"
   ]
  },
  {
   "cell_type": "markdown",
   "metadata": {},
   "source": [
    "Podobno deluje funkcija `map`. Edina razlika je, da vrača iterator čez mapirane elemente in ne neposredno seznama, zato ga za bolj jasen izpis pretvorimo v seznam."
   ]
  },
  {
   "cell_type": "code",
   "execution_count": 7,
   "metadata": {},
   "outputs": [
    {
     "name": "stdout",
     "output_type": "stream",
     "text": [
      "<map object at 0x00000291A7FA5AF0>\n",
      "[5, 3, 1, 9, 7]\n"
     ]
    }
   ],
   "source": [
    "print(map(abs, [5,-3,1,9,-7]))\n",
    "print(list(map(abs, [5,-3,1,9,-7])))"
   ]
  },
  {
   "cell_type": "markdown",
   "metadata": {},
   "source": [
    "Map deluje tudi na funkcijah z več argumenti. Ločeno mu podamo sezname prvih, drugih, ... argumentov."
   ]
  },
  {
   "cell_type": "code",
   "execution_count": 8,
   "metadata": {},
   "outputs": [
    {
     "name": "stdout",
     "output_type": "stream",
     "text": [
      "[6, 5, 3]\n"
     ]
    }
   ],
   "source": [
    "from operator import mul\n",
    "print(list(map(mul, (3, 5, 1), (2, 1, 3))))"
   ]
  },
  {
   "cell_type": "markdown",
   "metadata": {},
   "source": [
    "Če nimamo argumentov primerno ločenih, temveč so grupirani v terke kot v spodnjem primeru, si namesto pretvarjanja v drugačno obliko lahko pomagamo s funkcijo `starmap`."
   ]
  },
  {
   "cell_type": "code",
   "execution_count": 9,
   "metadata": {},
   "outputs": [
    {
     "name": "stdout",
     "output_type": "stream",
     "text": [
      "[6, 5, 3]\n"
     ]
    }
   ],
   "source": [
    "from itertools import starmap\n",
    "args = ((3,2), (5,1), (1,3))\n",
    "print(list(starmap(mul, args)))"
   ]
  },
  {
   "cell_type": "markdown",
   "metadata": {},
   "source": [
    "**Filter** je namenjen filtriranju seznama. Sprejme funkcijo in seznam, ter vrne nov seznam elementov, za katere podana funkcija vrne `True`. V spodnjem primeru izluščimo iz seznama vse nenegativne elemente."
   ]
  },
  {
   "cell_type": "code",
   "execution_count": 10,
   "metadata": {},
   "outputs": [
    {
     "name": "stdout",
     "output_type": "stream",
     "text": [
      "[5, 0, 1]\n"
     ]
    }
   ],
   "source": [
    "print(list(filter(lambda x: x>=0, [5,-3,0,1,-9])))"
   ]
  },
  {
   "cell_type": "markdown",
   "metadata": {},
   "source": [
    "**Reduce** nam omogoča, da seznam združimo v končni rezultat. Elemente seznama obdeluje od leve proti desni. S podano funkcijo na vsakem koraku združi že agregiran rezultat (recimo mu akumulator) z naslednjim elementom. Lahko podamo tudi začetno vrednost akumulatorja, sicer se uporabi kar prvi element. Funkcija `reduce` se nahaja v modulu `functools`."
   ]
  },
  {
   "cell_type": "code",
   "execution_count": 11,
   "metadata": {},
   "outputs": [
    {
     "name": "stdout",
     "output_type": "stream",
     "text": [
      "384\n",
      "1020.0\n"
     ]
    }
   ],
   "source": [
    "from functools import reduce\n",
    "print(reduce(mul, [2,4,6,8]))\n",
    "print(reduce(lambda acc, x: acc + x, [2,4,6,8], 1000.0))"
   ]
  },
  {
   "cell_type": "markdown",
   "metadata": {},
   "source": [
    "## Primeri\n",
    "\n",
    "Uporaba pristopov funkcijskega programiranja zahteva vajo, zato si oglejmo par primerov.\n",
    "\n",
    "### Group\n",
    "\n",
    "Z uporabo `reduce` napišimo funkcijo `group`, ki bo sprejela seznam in združila zaporedne enake elemente v pare `(element, pogostost)`. Vrne naj seznam takih parov.\n",
    "\n",
    "Vrednost akumulatorja `acc` bo grupiran seznam parov že obdelanih elementov seznama. Pri dodajanju novega elementa v akumuliran rezultat moramo obravnavati dva primera. Če gre za element, ki je drugačen od zadnjega, sestavimo nov seznam z dodanim parom `(element, 1)`. Enako storimo na začetku, ko je akumulator prazen. Če pa je nov element enak zadnjemu, moramo popraviti zadnji par. Spreminjati ga ne moremo, lahko pa sestavimo nov seznam z drugačnim zadnjim parom."
   ]
  },
  {
   "cell_type": "code",
   "execution_count": 12,
   "metadata": {},
   "outputs": [
    {
     "name": "stdout",
     "output_type": "stream",
     "text": [
      "[(1, 1), (2, 4), (3, 2), (1, 1), (3, 3)]\n"
     ]
    }
   ],
   "source": [
    "def group(sez):\n",
    "    return reduce(lambda acc, x:\n",
    "                    acc[:-1] + [(acc[-1][0], acc[-1][1]+1)]\n",
    "                    if acc and acc[-1][0] == x else\n",
    "                    acc + [(x,1)],\n",
    "                  sez,\n",
    "                  [])\n",
    "\n",
    "print(group([1,2,2,2,2,3,3,1,3,3,3]))"
   ]
  },
  {
   "cell_type": "markdown",
   "metadata": {},
   "source": [
    "### Množenje matrik\n",
    "\n",
    "Napišimo še rešitev v stilu funkcijskega programiranja za množenje matrik. Najprej pa si pripravimo nekaj pomožnih funkcij, ki nam bodo olajšale reševanje.\n",
    "\n",
    "Skalarni produkt dveh vektorjev (seznamov) lahko napišemo rekurzivno, tako da zmnožimo prva dva elementa in produktu prištejemo skalarni produkt preostanka."
   ]
  },
  {
   "cell_type": "code",
   "execution_count": 13,
   "metadata": {},
   "outputs": [],
   "source": [
    "def dot(u, v):\n",
    "    return u[0]*v[0] + dot(u[1:], v[1:]) if u and v else 0"
   ]
  },
  {
   "cell_type": "markdown",
   "metadata": {},
   "source": [
    "Namesto rekurzije lahko uporabimo `map` za izračun produktov istoležnih elementov, ki jih nato samo seštejemo s funkcijo `sum`."
   ]
  },
  {
   "cell_type": "code",
   "execution_count": 14,
   "metadata": {},
   "outputs": [],
   "source": [
    "def dot(u, v):\n",
    "    return sum(map(lambda p: p[0]*p[1], zip(u, v)))"
   ]
  },
  {
   "cell_type": "markdown",
   "metadata": {},
   "source": [
    "Lastno lambda funkcijo v mapu lahko nadomestimo kar s funkcijo `mul`, da dobimo kratko in jasno rešitev."
   ]
  },
  {
   "cell_type": "code",
   "execution_count": 15,
   "metadata": {},
   "outputs": [
    {
     "name": "stdout",
     "output_type": "stream",
     "text": [
      "15\n"
     ]
    }
   ],
   "source": [
    "def dot(u, v):\n",
    "    return sum(map(mul, u, v))\n",
    "\n",
    "print(dot([2,4,1], [3,2,1]))"
   ]
  },
  {
   "cell_type": "markdown",
   "metadata": {},
   "source": [
    "Matrike bomo predstavili s seznamom seznamov. Pripravimo si pomožni funkciji `print_vec` in `print_mat`, ki nam bosta olepšali izpis vektorjev in matrik."
   ]
  },
  {
   "cell_type": "code",
   "execution_count": 16,
   "metadata": {},
   "outputs": [
    {
     "name": "stdout",
     "output_type": "stream",
     "text": [
      "[   1   2   3   4]\n"
     ]
    }
   ],
   "source": [
    "A = [[1,2,3,4], \n",
    "     [5,6,7,8], \n",
    "     [9,10,11,12]]\n",
    "\n",
    "def print_vec(v, end='\\n'):\n",
    "    print('[' + ''.join(f'{x:4}' for x in v) + ']', end=end)\n",
    "\n",
    "print_vec(A[0])"
   ]
  },
  {
   "cell_type": "code",
   "execution_count": 17,
   "metadata": {},
   "outputs": [
    {
     "name": "stdout",
     "output_type": "stream",
     "text": [
      "[[   1   2   3   4]\n",
      " [   5   6   7   8]\n",
      " [   9  10  11  12]]\n"
     ]
    }
   ],
   "source": [
    "def print_mat(A):\n",
    "    for i, v in enumerate(A):\n",
    "        print('[' if i==0 else ' ', end='')\n",
    "        print_vec(v, end='')\n",
    "        print(']' if i==len(A)-1 else '')\n",
    "\n",
    "print_mat(A)"
   ]
  },
  {
   "cell_type": "markdown",
   "metadata": {},
   "source": [
    "Prav nam bosta prišli funkciji `glave` in `repi`, ki bosta matriko razbili na prvi stolpec (glave vrstic) in preostanek matrike (repi vrstic). Lahko bi jih napisali rekurzivno, vendar bo bolj pregledno z uporabo mapa, ker pretvarjamo posamezne vrstice. V primeru glav izbiramo prve elemente, v primeru repov pa seznam brez prvega elementa."
   ]
  },
  {
   "cell_type": "code",
   "execution_count": 18,
   "metadata": {},
   "outputs": [
    {
     "name": "stdout",
     "output_type": "stream",
     "text": [
      "[   1   5   9]\n"
     ]
    }
   ],
   "source": [
    "A = [[1,2,3,4], \n",
    "     [5,6,7,8], \n",
    "     [9,10,11,12]]\n",
    "\n",
    "def glave(seznami):\n",
    "    # return [seznami[0][0]] + glave(seznami[1:]) if seznami else []\n",
    "    return list(map(lambda sez: sez[0], seznami))\n",
    "\n",
    "print_vec(glave(A))"
   ]
  },
  {
   "cell_type": "code",
   "execution_count": 19,
   "metadata": {},
   "outputs": [
    {
     "name": "stdout",
     "output_type": "stream",
     "text": [
      "[[   2   3   4]\n",
      " [   6   7   8]\n",
      " [  10  11  12]]\n"
     ]
    }
   ],
   "source": [
    "def repi(seznami):\n",
    "    return list(map(lambda sez: sez[1:], seznami))\n",
    "\n",
    "print_mat(repi(A))"
   ]
  },
  {
   "cell_type": "markdown",
   "metadata": {},
   "source": [
    "Matrike zaradi načina predstavitve ne moremo enostavno obravnavati po stolpcih. Zato napišimo funkcijo za transpozicijo matrike. V tem primeru se ne bomo mogli izogniti rekurziji. Prva vrstica transponirane matrike je pravzaprav prvi stolpec originalne matrike (glave), preostale vrstice pa dobimo s transpozicijo matrike brez prvega stolpca (repi). Paziti moramo še na robni pogoj. V rekurzivnih klicih matriki odstranjujemo vodilne stolpce, zato ne bomo prišli do praznega seznama, temveč do seznama samih praznih seznamov (vrstic)."
   ]
  },
  {
   "cell_type": "code",
   "execution_count": 20,
   "metadata": {
    "scrolled": true
   },
   "outputs": [
    {
     "name": "stdout",
     "output_type": "stream",
     "text": [
      "[[   1   5   9]\n",
      " [   2   6  10]\n",
      " [   3   7  11]\n",
      " [   4   8  12]]\n"
     ]
    }
   ],
   "source": [
    "def transpose(A):\n",
    "    return [glave(A)] + transpose(repi(A)) if A[0] else []\n",
    "\n",
    "print_mat(transpose(A))"
   ]
  },
  {
   "cell_type": "markdown",
   "metadata": {},
   "source": [
    "Prvo vrstico produkta matrik A in B dobimo iz produkta prve vrstice matrike A s stolpci matrike B. Napišimo si pomožno funkcijo, ki bo znala zmnožiti vektor `u` z matriko `B`. Vsak stolpec matrike B (vrstico transponirane matrike) bomo z uporabo map-a množili (`dot`) s podanim vektorjem."
   ]
  },
  {
   "cell_type": "code",
   "execution_count": 21,
   "metadata": {},
   "outputs": [
    {
     "name": "stdout",
     "output_type": "stream",
     "text": [
      "[  98 116 134 152]\n"
     ]
    }
   ],
   "source": [
    "def multiply_vec_mat(u, B):\n",
    "    return list(map(lambda v: dot(u,v), transpose(B)))\n",
    "\n",
    "print_vec(multiply_vec_mat([5,6,7,8], A))"
   ]
  },
  {
   "cell_type": "markdown",
   "metadata": {},
   "source": [
    "Končno imamo vse potrebno za množenje matrik. Vsako vrstico matrike A bomo z map-om pretvorili v vrstico rezultata. Pretvorba pa ni nič drugega kot množenje vrstice z matriko B, kar samo si že pripravili."
   ]
  },
  {
   "cell_type": "code",
   "execution_count": 22,
   "metadata": {},
   "outputs": [
    {
     "name": "stdout",
     "output_type": "stream",
     "text": [
      "[[  22  36]\n",
      " [  66  92]\n",
      " [ 110 148]]\n"
     ]
    }
   ],
   "source": [
    "def multiply(A, B):\n",
    "    return list(map(lambda u: multiply_vec_mat(u, B), A))\n",
    "    \n",
    "A = [[1,2,3,4], \n",
    "     [5,6,7,8], \n",
    "     [9,10,11,12]]\n",
    "\n",
    "B = [[5,6],\n",
    "     [2,1],\n",
    "     [3,0],\n",
    "     [1,7]]\n",
    "\n",
    "print_mat(multiply(A, B))"
   ]
  },
  {
   "cell_type": "markdown",
   "metadata": {},
   "source": [
    "Rešitev lahko tudi razpihnemo z uporabo definicij naših pomožnih funkcij v bolj strašljivo in manj razumljivo obliko. Namen tega je samo demonstrirati, da so gnezdene lambde in mapi povsem sprejemljivi."
   ]
  },
  {
   "cell_type": "code",
   "execution_count": 23,
   "metadata": {},
   "outputs": [
    {
     "name": "stdout",
     "output_type": "stream",
     "text": [
      "[[  22  36]\n",
      " [  66  92]\n",
      " [ 110 148]]\n"
     ]
    }
   ],
   "source": [
    "def multiply(A, B):\n",
    "    return list(map(lambda u: list(map(lambda v: sum(map(mul, u, v)), transpose(B))), A))\n",
    "\n",
    "print_mat(multiply(A, B))"
   ]
  }
 ],
 "metadata": {
  "kernelspec": {
   "display_name": "Python 3",
   "language": "python",
   "name": "python3"
  },
  "language_info": {
   "codemirror_mode": {
    "name": "ipython",
    "version": 3
   },
   "file_extension": ".py",
   "mimetype": "text/x-python",
   "name": "python",
   "nbconvert_exporter": "python",
   "pygments_lexer": "ipython3",
   "version": "3.8.6"
  }
 },
 "nbformat": 4,
 "nbformat_minor": 4
}
