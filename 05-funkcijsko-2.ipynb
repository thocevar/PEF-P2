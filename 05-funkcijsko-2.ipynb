{
 "cells": [
  {
   "cell_type": "markdown",
   "metadata": {},
   "source": [
    "# Funkcijsko programiranje 2\n",
    "\n",
    "## Vračanje funkcij\n",
    "\n",
    "Funkcije višjega reda sprejemajo in/ali vračajo funkcije. Prvo že poznamo, sedaj pa si oglejmo še primer funkcije, ki vrne neko funkcijo. Napišimo funkcijo `aritmetika`, ki bo vrnila funkcijo, ki bo predstavljala eno od aritmetičnih operacij, npr. množenje. To vrnjeno funkcijo lahko definiramo znotraj funkcije aritmetika, lahko uporabimo lambda funkcijo, lahko pa vrnemo kakšno že obstoječo funkcijo, npr. `mul`."
   ]
  },
  {
   "cell_type": "code",
   "execution_count": 1,
   "metadata": {},
   "outputs": [],
   "source": [
    "def aritmetika():\n",
    "    def zmnozi(a, b):\n",
    "        return a * b\n",
    "    return zmnozi\n",
    "\n",
    "def aritmetika():\n",
    "    return lambda a,b: a*b\n",
    "\n",
    "from operator import mul\n",
    "def aritmetika():\n",
    "    return mul\n",
    "\n",
    "f = aritmetika()\n",
    "print(f(2,7))"
   ]
  },
  {
   "cell_type": "markdown",
   "metadata": {},
   "source": [
    "Sedaj pa napišimo funkcijo `mnozilnik`, ki bo sprejela argument `k` in vrnila funkcijo, ki bo znala množiti s `k`. Ponovno lahko definiramo to novo funkcijo znotraj funkcije ali pa uporabimo anonimno/lambda funkcijo"
   ]
  },
  {
   "cell_type": "code",
   "execution_count": 2,
   "metadata": {},
   "outputs": [],
   "source": [
    "def mnozilnik(k):\n",
    "    def mnozi(x):\n",
    "        return k*x\n",
    "    return mnozi\n",
    "\n",
    "def mnozilnik(k):\n",
    "    return lambda x: k*x\n",
    "\n",
    "mul3 = mnozilnik(3)\n",
    "print(mul3(7), mnozilnik(2)(5))"
   ]
  },
  {
   "cell_type": "markdown",
   "metadata": {},
   "source": [
    "Pripravimo si lahko celo tabelo funkcij, kjer se na i-tem mestu nahaja množilnik z i."
   ]
  },
  {
   "cell_type": "code",
   "execution_count": 3,
   "metadata": {},
   "outputs": [
    {
     "name": "stdout",
     "output_type": "stream",
     "text": [
      "8 15\n"
     ]
    }
   ],
   "source": [
    "mnozilniki = [mnozilnik(k) for k in range(10)]\n",
    "mul2 = mnozilniki[2]\n",
    "print(mul2(4), mnozilniki[3](5))"
   ]
  },
  {
   "cell_type": "markdown",
   "metadata": {},
   "source": [
    "Napišimo funkcijo `izmeri`, ki bo sprejela neko funkcijo `f`, jo izvedla, vrnila njen rezultat, ob tem pa bo izmerila in izpisala čas izvajanja funkcije. Taki funkciji bi rekli ovojnica oz. `wrapper`. Posplošimo jo tako, da bomo lahko ovojnici poleg funkcije podali tudi parametre te funkcije."
   ]
  },
  {
   "cell_type": "code",
   "execution_count": 4,
   "metadata": {},
   "outputs": [
    {
     "name": "stdout",
     "output_type": "stream",
     "text": [
      "[izmeri] Čas izvajanja: 0.2284679412841797\n",
      "333332833333500000\n",
      "[izmeri] Čas izvajanja: 0.6539406776428223\n",
      "8999995500000500000\n"
     ]
    }
   ],
   "source": [
    "from time import time\n",
    "\n",
    "def vsota_kvadratov(n=10**6):\n",
    "    return sum(i**2 for i in range(n))\n",
    "\n",
    "def izmeri(f, *args, **kwargs):\n",
    "    start = time()\n",
    "    ret = f(*args, **kwargs)\n",
    "    end = time()\n",
    "    print(\"[izmeri] Čas izvajanja:\", end - start)\n",
    "    return ret\n",
    "\n",
    "print(izmeri(vsota_kvadratov))\n",
    "print(izmeri(vsota_kvadratov, 3*10**6))"
   ]
  },
  {
   "cell_type": "markdown",
   "metadata": {},
   "source": [
    "## Dekoratorji\n",
    "\n",
    "Dekoratorji so funkcije, ki sprejmejo drugo funkcijo, razširijo njeno funkcionalnost in vrnejo novo spremenjeno funkcijo. Prejšnja ovojnica za merjenje časa je ob klicu takoj izvedla podano funkcijo in sporočila izmerjen čas. Dekorator pa podane funkcije ne bo takoj izvedel, ampak bo zgradil in vrnil novo funkcijo, ki bo izpisala svoj čas izvajanja, ko jo bomo uporabili (če jo sploh bomo).\n",
    "\n",
    "Dekorator `casomerilec` sprejme funkcijo `f` in znotraj definira in vrne novo funkcijo `wrapper`, ki razširja funkcijo `f`."
   ]
  },
  {
   "cell_type": "code",
   "execution_count": 5,
   "metadata": {},
   "outputs": [
    {
     "name": "stdout",
     "output_type": "stream",
     "text": [
      "[dekorator] Čas izvajanja: 0.20917105674743652\n",
      "333332833333500000\n"
     ]
    }
   ],
   "source": [
    "def casomerilec(f):\n",
    "    def wrapper():\n",
    "        start = time()\n",
    "        rezultat = f()\n",
    "        end = time()\n",
    "        print(\"[dekorator] Čas izvajanja:\", end - start)\n",
    "        return rezultat\n",
    "    return wrapper\n",
    "\n",
    "vsota_kvadratov_cas = casomerilec(vsota_kvadratov)\n",
    "print(vsota_kvadratov_cas())"
   ]
  },
  {
   "cell_type": "markdown",
   "metadata": {},
   "source": [
    "Kot v prejšnjem primeru lahko dekorirano funkcijo ustvarimo z uporabo dekoratorja, ki mu podamo neko funkcijo, ta pa nam vrne dekorirano funkcijo. Druga možnost je, da uporabimo dekorator že kar pri definiciji funkcije s sintakso `@ime_dekoratorja`."
   ]
  },
  {
   "cell_type": "code",
   "execution_count": 6,
   "metadata": {},
   "outputs": [
    {
     "name": "stdout",
     "output_type": "stream",
     "text": [
      "[dekorator] Čas izvajanja: 0.025547027587890625\n",
      "kvadrati: 333328333350000\n",
      "kubi: 24999500002500000000\n"
     ]
    }
   ],
   "source": [
    "@casomerilec\n",
    "def vsota_kvadratov():\n",
    "    return sum(i**2 for i in range(10**5))\n",
    "\n",
    "def vsota_kubov():\n",
    "    return sum(i**3 for i in range(10**5))\n",
    "\n",
    "print(\"kvadrati:\", vsota_kvadratov())\n",
    "print(\"kubi:\", vsota_kubov())"
   ]
  },
  {
   "cell_type": "markdown",
   "metadata": {},
   "source": [
    "Dopolnimo naš dekorator, da bo mogoče z njim dekorirati funkcije s poljubnimi argumenti (`*args`, `**kwargs`). Pri pisanju dekoratorja ne smemo pozabiti tudi na vračanje rezultata, ki ga vrne funkcija. Delovanje lahko preizkusimo na funkciji za izračun vsote potenc $\\text{vsota_potenc}(p, n) = \\sum_{i=0}^n i^{p}$."
   ]
  },
  {
   "cell_type": "code",
   "execution_count": 7,
   "metadata": {},
   "outputs": [
    {
     "name": "stdout",
     "output_type": "stream",
     "text": [
      "[dekorator] Čas izvajanja: 0.20885658264160156\n",
      "500000500000\n",
      "[dekorator] Čas izvajanja: 0.0156252384185791\n",
      "333338333350000\n"
     ]
    }
   ],
   "source": [
    "def casomerilec(f):\n",
    "    def wrapper(*args, **kwargs):\n",
    "        start, ret, end = time(), f(*args,  **kwargs), time()\n",
    "        print(\"[dekorator] Čas izvajanja:\", end - start)\n",
    "        return ret\n",
    "    return wrapper\n",
    "\n",
    "@casomerilec\n",
    "def vsota_potenc(p=2, n=10**6):\n",
    "    return sum(i**p for i in range(n+1))\n",
    "\n",
    "print(vsota_potenc(1))\n",
    "print(vsota_potenc(n=10**5))"
   ]
  },
  {
   "cell_type": "markdown",
   "metadata": {},
   "source": [
    "Dekorator (funkcija, ki bo vrnila novo funkcijo) lahko tudi sam sprejme kakšen argument. Naš časomerilec lahko spremenimo tako, da bo večkrat pognal funkcijo in izmeril čas, na koncu pa izpisal povprečen čas izvajanja. Število ponovitev pa naj bo argument dekoratorja. Dekorator z argumentom (`casomerilec_veckrat`) mora vrniti navaden dekorator (`casomerilec`). Navaden dekorator pa sprejme funkcijo (`f`) in vrne dekorirano funkcijo (`wrapper`). Vrnjena dekorirana funkcija pa bo sprejela argumente (`*args`, `**kwargs`), ki jih bo posredovala funkciji `f`."
   ]
  },
  {
   "cell_type": "code",
   "execution_count": 8,
   "metadata": {},
   "outputs": [
    {
     "name": "stdout",
     "output_type": "stream",
     "text": [
      "[dekorator z arg] Povprečen čas izvajanja (10 ponovitev): 0.024920964241027833\n",
      "24999500002500000000\n"
     ]
    }
   ],
   "source": [
    "def casomerilec_veckrat(ponovitve):\n",
    "    def casomerilec(f):\n",
    "        def wrapper(*args, **kwargs):\n",
    "            start = time()\n",
    "            for i in range(ponovitve):\n",
    "                ret = f(*args,  **kwargs)\n",
    "            end = time()\n",
    "            print(f\"[dekorator z arg] Povprečen čas izvajanja ({ponovitve} ponovitev): {(end - start)/ponovitve}\")\n",
    "            return ret\n",
    "        return wrapper\n",
    "    return casomerilec\n",
    "\n",
    "@casomerilec_veckrat(10)\n",
    "def vsota_potenc(p=2, n=10**6):\n",
    "    return sum(i**p for i in range(n))\n",
    "\n",
    "print(vsota_potenc(3, n=10**5))"
   ]
  },
  {
   "cell_type": "markdown",
   "metadata": {},
   "source": [
    "### Memoizacija\n",
    "\n",
    "Oglejmo si praktičen primer uporabe dekoratorja. Če isto funkcijo pokličemo večkrat z enakimi argumenti, bo vrnila enak rezultat. Zato bi lahko pridobili na učinkovitosti, če si ob prvem klicu funkcije rezultat shranimo. Ob naslednjih klicih z enakimi argumenti pa samo vrnemo rezultat iz shrambe, namesto da bi ponovno izvedli funkcijo. Ta pristop je znan pod imenom memoizacija (angl. *memoization*) (brez \"r\", izhaja iz besede *memo*). Za primer uporabimo tehniko na računanju Fibonaccijevih števil."
   ]
  },
  {
   "cell_type": "code",
   "execution_count": 9,
   "metadata": {},
   "outputs": [
    {
     "name": "stdout",
     "output_type": "stream",
     "text": [
      "[0, 1, 1, 2, 3, 5, 8, 13, 21, 34]\n",
      "354224848179261915075\n"
     ]
    }
   ],
   "source": [
    "def fib(n):\n",
    "    return fib(n-2)+fib(n-1) if n>1 else n\n",
    "\n",
    "print([fib(i) for i in range(10)])\n",
    "\n",
    "memo = {}\n",
    "def fib(n):\n",
    "    if n in memo: return memo[n]  # je rezultat že shranjen?\n",
    "    rez = fib(n-2)+fib(n-1) if n>1 else n  # izračunaj rezultat\n",
    "    memo[n] = rez  # shrani rezultat\n",
    "    return rez\n",
    "\n",
    "print(fib(100))"
   ]
  },
  {
   "cell_type": "markdown",
   "metadata": {},
   "source": [
    "Funkcijo smo spremenili tako, da smo na začetek in konec dodali malo logike za shranjevanje rezultatov. Povsem enako bi lahko spremenili tudi kakšne druge funkcije. Namesto popravljanja funkcij vsepovsod lahko napišemo dekorator in z njim elegantno dekoriramo funkcije, za katere želimo, da si shranjujejo rezultate. V modulu `functools` prav tak dekorator `lru_cache` (Least Recently Used) že obstaja (https://docs.python.org/3/library/functools.html#functools.lru_cache). Sprejme celo argument, ki predstavlja največjo velikost shrambe (če je enak `None`, je neomejena)."
   ]
  },
  {
   "cell_type": "code",
   "execution_count": 10,
   "metadata": {},
   "outputs": [
    {
     "name": "stdout",
     "output_type": "stream",
     "text": [
      "354224848179261915075\n"
     ]
    }
   ],
   "source": [
    "from functools import lru_cache\n",
    "\n",
    "@lru_cache(None)\n",
    "def fib(n):\n",
    "    return fib(n-2)+fib(n-1) if n>1 else n\n",
    "\n",
    "print(fib(100))"
   ]
  },
  {
   "cell_type": "markdown",
   "metadata": {},
   "source": [
    "## Delna aplikacija\n",
    "\n",
    "V delni aplikaciji funkcije podamo funkciji nekatere argumente, pri tem pa nastane nova funkcija, ki je sposobna sprejeti preostanek argumentov. Funkcija `pow` sprejme dva argumenta, osnovo in eksponent. Uporabno bi bilo, če bi lahko funkciji `pow` podali samo osnovo 2 in s tem dobili funkcijo, ki bo sprejela še eksponent in vrnila iskano potenco dvojke. Žal to v Pythonu kar tako ne deluje."
   ]
  },
  {
   "cell_type": "code",
   "execution_count": 11,
   "metadata": {},
   "outputs": [
    {
     "name": "stdout",
     "output_type": "stream",
     "text": [
      "32\n"
     ]
    },
    {
     "ename": "TypeError",
     "evalue": "pow() missing required argument 'exp' (pos 2)",
     "output_type": "error",
     "traceback": [
      "\u001b[1;31m---------------------------------------------------------------------------\u001b[0m",
      "\u001b[1;31mTypeError\u001b[0m                                 Traceback (most recent call last)",
      "\u001b[1;32m<ipython-input-11-e095c9045b16>\u001b[0m in \u001b[0;36m<module>\u001b[1;34m\u001b[0m\n\u001b[0;32m      1\u001b[0m \u001b[0mprint\u001b[0m\u001b[1;33m(\u001b[0m\u001b[0mpow\u001b[0m\u001b[1;33m(\u001b[0m\u001b[1;36m2\u001b[0m\u001b[1;33m,\u001b[0m\u001b[1;36m5\u001b[0m\u001b[1;33m)\u001b[0m\u001b[1;33m)\u001b[0m\u001b[1;33m\u001b[0m\u001b[1;33m\u001b[0m\u001b[0m\n\u001b[1;32m----> 2\u001b[1;33m \u001b[0mp2\u001b[0m \u001b[1;33m=\u001b[0m \u001b[0mpow\u001b[0m\u001b[1;33m(\u001b[0m\u001b[1;36m2\u001b[0m\u001b[1;33m)\u001b[0m\u001b[1;33m\u001b[0m\u001b[1;33m\u001b[0m\u001b[0m\n\u001b[0m\u001b[0;32m      3\u001b[0m \u001b[0mprint\u001b[0m\u001b[1;33m(\u001b[0m\u001b[0mp2\u001b[0m\u001b[1;33m(\u001b[0m\u001b[1;36m5\u001b[0m\u001b[1;33m)\u001b[0m\u001b[1;33m,\u001b[0m \u001b[0mp2\u001b[0m\u001b[1;33m(\u001b[0m\u001b[1;36m10\u001b[0m\u001b[1;33m)\u001b[0m\u001b[1;33m)\u001b[0m\u001b[1;33m\u001b[0m\u001b[1;33m\u001b[0m\u001b[0m\n",
      "\u001b[1;31mTypeError\u001b[0m: pow() missing required argument 'exp' (pos 2)"
     ]
    }
   ],
   "source": [
    "print(pow(2,5))\n",
    "p2 = pow(2)\n",
    "print(p2(5), p2(10))"
   ]
  },
  {
   "cell_type": "markdown",
   "metadata": {},
   "source": [
    "**Currying** je pristop, ki funkcijo z več argumenti pretvori v zaporedje funkcij, ki sprejmejo po en argument. Funkcijo `f` bi tako pretvorili v funkcijo `g`, ki sprejme prvi argument in vrne pretvorjeno funkcijo, ki na enak način sprejme preostale argumente. Klic funkcije `f(3,5,6,8)` bi bil tako enakovreden izrazu `g(3)(5)(6)(8)`.\n",
    "\n",
    "Oglejmo si najprej dekorator `curry2`, ki bo deloval za dekoriranje funkcij z dvema argumentoma. Dekorator vrne funkcijo `wrapper1`, ki sprejme prvi argument in vrne funkcijo `wrapper2`, ki bo sprejela še drugi argument in vrne izračunan rezultat."
   ]
  },
  {
   "cell_type": "code",
   "execution_count": 12,
   "metadata": {},
   "outputs": [
    {
     "name": "stdout",
     "output_type": "stream",
     "text": [
      "32\n",
      "9\n"
     ]
    }
   ],
   "source": [
    "def curry2(f):\n",
    "    def wrapper1(x):\n",
    "        def wrapper2(y):\n",
    "            return f(x,y)\n",
    "        return wrapper2\n",
    "    return wrapper1\n",
    "\n",
    "@curry2\n",
    "def potenca(osnova, eksponent):\n",
    "    return pow(osnova, eksponent)\n",
    "\n",
    "p2 = potenca(2)\n",
    "print(p2(5))\n",
    "print(potenca(3)(2))"
   ]
  },
  {
   "cell_type": "markdown",
   "metadata": {},
   "source": [
    "Posplošimo dekorator na funkcije s poljubnim številom argumentov. V ta namen bomo prejete argumente zlagali v dekoratorjevo lokalni spremenljivko (seznam) `argumenti`. Vrnjena funkcija `wrapper` bo sprejela en argument in ga dodala v seznam. Če bo dolžina tega seznama enaka številu argumentov, ki jih zahteva dekorirana funkcija `f` (`inspect.signature(f).parameters`), izračuna in vrne rezultat funkcije `f`. Sicer pa vrne isto funkcijo, ki bo sprejela in dodala v seznam naslednji argument."
   ]
  },
  {
   "cell_type": "code",
   "execution_count": 13,
   "metadata": {},
   "outputs": [
    {
     "name": "stdout",
     "output_type": "stream",
     "text": [
      "81\n",
      "<function curry.<locals>.wrapper at 0x00000209D2EE8D30>\n"
     ]
    }
   ],
   "source": [
    "from inspect import signature\n",
    "\n",
    "def curry(f):\n",
    "    argumenti = []\n",
    "    def wrapper(x):\n",
    "        argumenti.append(x)\n",
    "        if len(argumenti) == len(signature(f).parameters):\n",
    "            return f(*argumenti)\n",
    "        else:\n",
    "            return wrapper\n",
    "    return wrapper\n",
    "\n",
    "curry_potenca = curry(pow)  # pow(base, exp[, mod])\n",
    "print(curry_potenca(3)(4)(100))\n",
    "print(curry_potenca(3)(4)(10))  # ne deluje"
   ]
  },
  {
   "cell_type": "markdown",
   "metadata": {},
   "source": [
    "Druga uporaba dekorirane funkcije ne deluje, ker uporablja isti seznam argumentov, ki je napolnjen že od prej. Pred vsako uporabo bi morali funkcijo dekorirati znova. Težavo bi lahko rešili, če bi si klici funkcije `wrapper` podajali seznam argumentov, namesto da polnijo isti seznam.\n",
    "\n",
    "Dekorator `curry` naj vrne funkcijo `akumulator`, ki bo sprejela seznam podanih argumentov `*args` in vrnila rezultat (če je argumentov dovolj) ali pa (anonimno) funkcijo, ki sprejme dodatne argumente `*other`. Te dodatne argumente želimo združiti z obstoječimi in jih podati funkciji `akumulator`. Ta bo torej prejela podaljšan seznam argumentov in vrnila rezultat ali pa čakala na nadaljnje argumente. Rešitev je dovolj splošna, da sprejme tudi po več kot en argument hkrati."
   ]
  },
  {
   "cell_type": "code",
   "execution_count": 14,
   "metadata": {},
   "outputs": [
    {
     "name": "stdout",
     "output_type": "stream",
     "text": [
      "81\n",
      "1\n",
      "11\n"
     ]
    }
   ],
   "source": [
    "def curry(f):\n",
    "    def akumulator(*args):\n",
    "        if len(args) == len(signature(f).parameters):\n",
    "            return f(*args)\n",
    "        else:\n",
    "            return lambda *other: akumulator(*(args + other))\n",
    "    return akumulator\n",
    "\n",
    "curry_potenca = curry(pow)\n",
    "print(curry_potenca(3)(4)(100))\n",
    "print(curry_potenca(3)(4)(10))\n",
    "print(curry_potenca(3,4)()(70))"
   ]
  },
  {
   "cell_type": "markdown",
   "metadata": {},
   "source": [
    "Python ponuja podobno funkcionalnost **delne aplikacije** s podajanjem nekaterih argumentov (ne nujno začetnih). Na voljo je funkcija `functools.partial`, ki sprejme funkcijo in nekaj njenih argumentov, ter vrne specializirano funkcijo, ki ima podane argumente fiksirane, sprejme pa preostanek argumentov in vrne rezultat."
   ]
  },
  {
   "cell_type": "code",
   "execution_count": 15,
   "metadata": {},
   "outputs": [
    {
     "name": "stdout",
     "output_type": "stream",
     "text": [
      "pow2 1024\n",
      "cube 1000\n"
     ]
    }
   ],
   "source": [
    "from functools import partial\n",
    "\n",
    "p2 = partial(pow, 2)\n",
    "print(\"pow2\", p2(10))\n",
    "\n",
    "cube = partial(pow, exp=3)\n",
    "print(\"cube\", cube(10))"
   ]
  },
  {
   "cell_type": "markdown",
   "metadata": {},
   "source": [
    "Nobenega razloga ni, da ne bi bili tudi podani argumenti funkcije. Tako lahko npr. iz funkcij `map` in `abs` enostavno sestavimo funkcijo, ki bo izračunala absolutne vrednosti podanega seznama."
   ]
  },
  {
   "cell_type": "code",
   "execution_count": 16,
   "metadata": {},
   "outputs": [
    {
     "name": "stdout",
     "output_type": "stream",
     "text": [
      "[3, 7, 8, 1]\n"
     ]
    }
   ],
   "source": [
    "map_abs = partial(map, abs)\n",
    "print(list(map_abs([3,-7,8,-1])))"
   ]
  }
 ],
 "metadata": {
  "kernelspec": {
   "display_name": "Python 3",
   "language": "python",
   "name": "python3"
  },
  "language_info": {
   "codemirror_mode": {
    "name": "ipython",
    "version": 3
   },
   "file_extension": ".py",
   "mimetype": "text/x-python",
   "name": "python",
   "nbconvert_exporter": "python",
   "pygments_lexer": "ipython3",
   "version": "3.8.6"
  }
 },
 "nbformat": 4,
 "nbformat_minor": 4
}
