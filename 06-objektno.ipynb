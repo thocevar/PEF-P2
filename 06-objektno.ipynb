{
 "cells": [
  {
   "cell_type": "markdown",
   "metadata": {},
   "source": [
    "# Objektno programiranje\n",
    "\n",
    "Objektno programiranje je stil programiranja (tako kot npr. funkcijsko programiranje), v katerem operiramo z razredi oz. njihovimi instancami - objekti. Objekte opisujejo atributi, spreminjamo pa jih lahko preko metod. Ta stil je pogosto v uporabi pri modeliranju resničnega sveta (npr. poslovnih procesov), saj lahko z objekti v programu predstavimo resnične objekte.\n",
    "\n",
    "Da se izognemo podvajanju kode v različnih razredih, ste že spoznali koncept **dedovanja**, kjer izpeljani razred podeduje atribute in metode. Z dedovanjem povezan pojem je tudi **polimorfizem** (večobličnost), ki se nanaša na različne oblike enakih metod v izpeljanih razredih. V širšem pomenu je polimorfizem prisoten povsod v Pythonu, ker lahko kličemo iste funkcije z različnimi tipi in številom argumentov. Najprej si oglejmo še **enkapsulacijo** in **abstrakcijo** v Pythonu."
   ]
  },
  {
   "cell_type": "markdown",
   "metadata": {},
   "source": [
    "## Enkapsulacija\n",
    "\n",
    "Pri enkapsulaciji gre za skrivanje podatkov (atributov, metod) v razredih. Tipično poznamo tri nivoje dostopa: *javni* (public), *zaščiteni* (protected) in *zasebni* (private). V Pythonu obstajajo ti nivoji zgolj kot dogovor. Javni so dostopni vsem. Zaščiteni so namenjeni razvijalcem, ki želijo npr. izpeljati nov razred. Zasebni so namenjeni samo interni rabi za delovanje razreda. V jezikih kot sta Java in C++ so ti dostopi strožje nadzorovani. Enaki dogovori veljajo tako za atribute kot za metode. Zaščiteni atributi se začnejo z enim podčrtajem, zasebni pa z dvema. Kljub temu lahko dostopamo do zasebnega atributa preko imena `_ImeRazreda__ImeAtributa`."
   ]
  },
  {
   "cell_type": "code",
   "execution_count": 1,
   "metadata": {},
   "outputs": [
    {
     "name": "stdout",
     "output_type": "stream",
     "text": [
      "Ana ana@email.si 12345678\n",
      "Ana ana@email.si 12345678\n",
      "Andrej Andrej@email.si 12345678\n",
      "True\n"
     ]
    }
   ],
   "source": [
    "class Oseba:\n",
    "    def __init__(self):\n",
    "        self.ime = \"Ana\"  # public\n",
    "        self._email = \"ana@email.si\"  # protected\n",
    "        self.__vpisna = 12345678  # private\n",
    "    def izpis(self):\n",
    "        print(self.ime, self._email, self.__vpisna)\n",
    "    def _preimenuj(self, ime):\n",
    "        self.ime = ime\n",
    "        self._email = f\"{ime}@email.si\"\n",
    "    def __preveri(self):\n",
    "        return len(str(self.__vpisna)) == 8  # znotraj razreda lahko dostopamo do zasebnih atributov\n",
    "\n",
    "student = Oseba()\n",
    "student.izpis()\n",
    "#print(student.ime, student._email, student.__vpisna)  # neposreden dostop do zasebnih atributov od zunaj ni mogoč\n",
    "print(student.ime, student._email, student._Oseba__vpisna)  # skrivanje imena (name mangling)\n",
    "\n",
    "student._preimenuj(\"Andrej\")\n",
    "student.izpis()\n",
    "print(student._Oseba__preveri())"
   ]
  },
  {
   "cell_type": "markdown",
   "metadata": {},
   "source": [
    "## Abstrakcija\n",
    "\n",
    "Včasih želimo definirati zahteve, ki jim morajo zadoščati razredi. Na primer vsi razredi za izris morajo implementirati metodi draw in size, ne glede na to, ali je to razred za izris pravokotnika ali kroga. Takim razredom rečemo vmesniki (interface) ali abstraktni razredi. Predstavljajo vzorec oz. zahteve za izpeljane razrede, ne moremo pa ustvariti objekta takega abstraktnega razreda. V Pythonu morajo abstraktni razredi dedovati od razreda `ABC`, abstraktne metode pa označimo z dekoratorjem `abstractmethod`."
   ]
  },
  {
   "cell_type": "code",
   "execution_count": 2,
   "metadata": {},
   "outputs": [
    {
     "name": "stdout",
     "output_type": "stream",
     "text": [
      "Liska: muuuu\n"
     ]
    }
   ],
   "source": [
    "from abc import ABC, abstractmethod\n",
    "\n",
    "class Zival(ABC):\n",
    "    def __init__(self, ime):\n",
    "        self.ime = ime\n",
    "\n",
    "    @abstractmethod\n",
    "    def glas(self):\n",
    "        pass\n",
    "\n",
    "#floki = Zival(\"Floki\")  # Can't instantiate abstract class Zival with abstract methods glas\n",
    "\n",
    "class Krava(Zival):\n",
    "    def glas(self):\n",
    "        print(f\"{self.ime}: muuuu\")\n",
    "\n",
    "liska = Krava(\"Liska\")\n",
    "liska.glas()"
   ]
  },
  {
   "cell_type": "markdown",
   "metadata": {},
   "source": [
    "## Statične metode, atributi razreda\n",
    "\n",
    "Metode, ki so neodvisne od konkretnega objekta (`self`) oz. njegovih atributov, imenujemo statične metode. Z uporabo dekoratorja `staticmethod` lahko do njih dostopamo preko razreda ali preko objekta. Atributi razreda so skupni vsem objektom tega razreda. Tipično so to kakšne konstante, ki so neodvisne od objekta. Na primer v razredu Kvadrat bi lahko imeli atribut stevilo_oglisc, ki je neodvisno od velikosti kvadrata, kar bi bil lahko atribut objekta. V spodnjem primeru pa izkoristimo deljenje atributa razreda med objekti in zgradimo množico vseh objektov, ki so bili ustvarjeni."
   ]
  },
  {
   "cell_type": "code",
   "execution_count": 3,
   "metadata": {},
   "outputs": [
    {
     "name": "stdout",
     "output_type": "stream",
     "text": [
      "Hov Hov\n",
      "{'Floki', 'Fido'}\n"
     ]
    }
   ],
   "source": [
    "class Pes:\n",
    "    @staticmethod\n",
    "    def glas():  # statična metoda\n",
    "        return \"Hov\"\n",
    "\n",
    "    imena = set()  # atribut razreda\n",
    "\n",
    "    def __init__(self, ime):\n",
    "        self.ime = ime\n",
    "        Pes.imena.add(ime)\n",
    "\n",
    "fido = Pes(\"Fido\")\n",
    "floki = Pes(\"Floki\")\n",
    "print(Pes.glas(), fido.glas())\n",
    "print(Pes.imena)"
   ]
  },
  {
   "cell_type": "markdown",
   "metadata": {},
   "source": [
    "## Posebne metode\n",
    "\n",
    "Številne vgrajene funkcije se zanašajo na posebne metode, ki jih morajo implementirati razredi za pravilno delovanje. To so metode, ki se začnejo in končajo z dvema podčrtajema (poznamo že `__init__`, ki ima vlogo konstruktora). Tipično jih ne kličemo, ampak jih uporabljajo druge Pythonove funkcije. Na primer funkcija `len(seznam)` se izvede tako, da preloži delo na metodo `__len__` objekta `seznam`. Vrne torej rezultat klica `seznam.__len__()`. Podobno velja za cel kup drugih metod, operatorje primerjanja, aritmetične operacije, indeksiranje, ... Celoten seznam najdete v dokumentaciji https://docs.python.org/3/reference/datamodel.html#special-method-names."
   ]
  },
  {
   "cell_type": "code",
   "execution_count": 4,
   "metadata": {},
   "outputs": [
    {
     "name": "stdout",
     "output_type": "stream",
     "text": [
      "len: 3 3\n",
      "str: [1, 4, 2] [1, 4, 2]\n",
      "<  : True True\n"
     ]
    }
   ],
   "source": [
    "s,t = [1,4,2], [1,5,0]\n",
    "print(\"len:\", len(s), s.__len__())\n",
    "print(\"str:\", str(s), s.__str__())\n",
    "print(\"<  :\", s < t, s.__lt__(t))"
   ]
  },
  {
   "cell_type": "markdown",
   "metadata": {},
   "source": [
    "Implementacijo posebnih metod si bomo ogledali na lastnem razredu `Vector` za delo z vektorji v večdimenzionalnem prostoru. Konstruktor bo sprejel spremenljivo število argumentov, ki predstavljajo koordinate v različnih dimenzijah. Dolžina oz. velikost vektorja (`len`) naj bo kar število dimenzij. Metodi `str` in `repr` pa se uporabljata za predstavitev objekta v obliki niza. Prva je namenjena predstavitvi uporabnikom, druga pa razvijalcem. Pri izpisu funkcija `print` implicitno pretvori argumente s funkcijo `str`."
   ]
  },
  {
   "cell_type": "code",
   "execution_count": 5,
   "metadata": {},
   "outputs": [
    {
     "name": "stdout",
     "output_type": "stream",
     "text": [
      "len: 3\n",
      "str: Vector[3, -7, 1] Vector[3, -7, 1]\n",
      "repr: [3, -7, 1]\n"
     ]
    }
   ],
   "source": [
    "class Vector:\n",
    "    def __init__(self, *args):\n",
    "        self.k = list(args)\n",
    "    def __len__(self):\n",
    "        return len(self.k)\n",
    "    # predstavitev\n",
    "    def __str__(self):\n",
    "        return f\"Vector{self.k}\"\n",
    "    def __repr__(self):\n",
    "        return repr(self.k)\n",
    "    \n",
    "    \n",
    "v = Vector(3,-7,1)\n",
    "print(\"len:\", len(v))\n",
    "print(\"str:\", str(v), v)\n",
    "print(\"repr:\", repr(v))"
   ]
  },
  {
   "cell_type": "markdown",
   "metadata": {},
   "source": [
    "Dodajmo še indeksiranje oz. dostop do posameznih koordinat vektorja, kar storimo z metodama `__getitem__` in `__setitem__`."
   ]
  },
  {
   "cell_type": "code",
   "execution_count": 6,
   "metadata": {},
   "outputs": [
    {
     "name": "stdout",
     "output_type": "stream",
     "text": [
      "-7\n",
      "Vector[3, -7, 9]\n"
     ]
    }
   ],
   "source": [
    "class Vector:\n",
    "    def __init__(self, *args):\n",
    "        self.k = list(args)\n",
    "    def __str__(self):\n",
    "        return f\"Vector{self.k}\"\n",
    "    # indeksiranje\n",
    "    def __getitem__(self, item):\n",
    "        return self.k[item]\n",
    "    def __setitem__(self, key, value):\n",
    "        self.k[key] = value\n",
    "\n",
    "v = Vector(3,-7,1)\n",
    "print(v[1])\n",
    "v[2] = 9\n",
    "print(v)"
   ]
  },
  {
   "cell_type": "markdown",
   "metadata": {},
   "source": [
    "Dodajmo še podporo za seštevanje vektorjev z metodo `__add__`. Operacija `a+b` se namreč izvede kot `a.__add__(b)`. Pri tem moramo biti pozorni, da metoda vrne objekt tipa `Vector`, da lahko z njim izvajamo nadaljnje operacije. Množenje dveh vektorjev (`__mul__`) naj vrne skalarni produkt, množenje vektorja s številom pa raztegnjen vektor. Paziti moramo tudi na vrstni red operandov. Izraz `3*u` se namreč izračuna tako, da se na številu tipa `int` pokliče metoda `__mul__` z argumentom `u` tipa `Vector`. Ker `int` sploh ne ve, da `Vector` obstaja, operacija ne uspe. Namesto tega Python poskusi izvesti metodo za množenje z desne strani `__rmul__`. To metodo smo implementirali vektorju, da se zna pomnožiti s številom, tudi če je vektor desni operand."
   ]
  },
  {
   "cell_type": "code",
   "execution_count": 7,
   "metadata": {
    "scrolled": true
   },
   "outputs": [
    {
     "name": "stdout",
     "output_type": "stream",
     "text": [
      "Vector[1, -3, 7]\n",
      "-14\n",
      "Vector[-3, 6, 9]\n",
      "Vector[-3, 6, 9]\n"
     ]
    }
   ],
   "source": [
    "class Vector:\n",
    "    def __init__(self, *args):\n",
    "        self.k = list(args)\n",
    "    def __str__(self):\n",
    "        return f\"Vector{self.k}\"\n",
    "    # aritmetika\n",
    "    def __add__(self, other):\n",
    "        return Vector(*[x+y for x,y in zip(self.k, other.k)])\n",
    "    def __mul__(self, other):\n",
    "        if isinstance(other, Vector):\n",
    "            return sum(x*y for x, y in zip(self.k, other.k))\n",
    "        else:\n",
    "            return Vector(*[x*other for x in self.k])\n",
    "    def __rmul__(self, other):\n",
    "        return self*other\n",
    "\n",
    "u = Vector(-1,2,3)\n",
    "v = Vector(3,-7,1)\n",
    "print(u+v+u)\n",
    "print(u*v)\n",
    "print(u*3)\n",
    "print(3*u)  # __rmul__"
   ]
  },
  {
   "cell_type": "markdown",
   "metadata": {},
   "source": [
    "Vektorje bomo primerjali med seboj glede na dolžino vektorja (Evklidska norma). Definirali bomo operator enakosti (`__eq__`) in operator manjši (`__lt__`). Neenakost (`!=`) je negacija enakosti, če ni drugače definirano z metodo `__ne__`. Preostale operatorje pa bo v tem primeru namesto nas definiral dekorator `functools.total_ordering` (https://docs.python.org/3/library/functools.html#functools.total_ordering)."
   ]
  },
  {
   "cell_type": "code",
   "execution_count": 8,
   "metadata": {},
   "outputs": [
    {
     "name": "stdout",
     "output_type": "stream",
     "text": [
      "manjse: True\n",
      "(ne)enakost: False True\n",
      "ostalo: True False False\n"
     ]
    }
   ],
   "source": [
    "from math import sqrt\n",
    "from functools import total_ordering\n",
    "\n",
    "@total_ordering\n",
    "class Vector:\n",
    "    def __init__(self, *args):\n",
    "        self.k = list(args)\n",
    "    def __len__(self):\n",
    "        return len(self.k)\n",
    "    def __str__(self):\n",
    "        return f\"Vector{self.k}\"\n",
    "    def norm(self):\n",
    "        return sqrt(sum(x**2 for x in self.k))\n",
    "    # primerjanje\n",
    "    def __lt__(self, other):\n",
    "        return self.norm() < other.norm()\n",
    "    def __eq__(self, other):\n",
    "        return self.norm() == other.norm()\n",
    "\n",
    "\n",
    "u = Vector(-1,2,3)\n",
    "v = Vector(3,-7,1)\n",
    "print(\"manjse:\", u < v)\n",
    "print(\"(ne)enakost:\", u==v, u!=v)\n",
    "print(\"ostalo:\", u<=v, u>=v, u>v)"
   ]
  },
  {
   "cell_type": "markdown",
   "metadata": {},
   "source": [
    "Tudi klic objekta ni nič drugega kot klic posebne metode `__call__`. Vektor lahko interpretiramo kot funkcijo, ki izvede premik argumenta. Argument je v tem primeru točka, ki jo lahko predstavimo z vektorjem. Klic vektorja z vektorjem kot argumentom naj bo torej enak seštevanju."
   ]
  },
  {
   "cell_type": "code",
   "execution_count": 9,
   "metadata": {},
   "outputs": [
    {
     "name": "stdout",
     "output_type": "stream",
     "text": [
      "Vector[2, -5, 4]\n"
     ]
    }
   ],
   "source": [
    "class Vector:\n",
    "    def __init__(self, *args):\n",
    "        self.k = list(args)\n",
    "    def __str__(self):\n",
    "        return f\"Vector{self.k}\"\n",
    "    def __add__(self, other):\n",
    "        return Vector(*[x+y for x,y in zip(self.k, other.k)])\n",
    "    # klic\n",
    "    def __call__(self, other):\n",
    "        return self+other\n",
    "\n",
    "\n",
    "tocka = Vector(-1,2,3)\n",
    "premik = Vector(3,-7,1)\n",
    "nova = premik(tocka)\n",
    "print(nova)"
   ]
  },
  {
   "cell_type": "markdown",
   "metadata": {},
   "source": [
    "## Večkratno, večstopenjsko dedovanje\n",
    "\n",
    "Večstopenjsko dedovanje že poznate. Gre zgolj za več nivojev dedovanja, kjer je iz razreda A izpeljan razred B, iz njega razred C, iz C-ja D, itd. Stvari pa se zakomplicirajo pri večkratnem dedovanju (*multiple inheritance*), kjer razred deduje od dveh ali več razredov. Glede na hierarhijo dedovanja razredov, se lahko srečamo z različnimi problemi, kar si bomo ogledali na spodnjem primeru razredov, ki opisujejo like."
   ]
  },
  {
   "cell_type": "markdown",
   "metadata": {},
   "source": [
    "![Hierarhija likov](data:image/svg+xml;base64,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)"
   ]
  },
  {
   "cell_type": "markdown",
   "metadata": {},
   "source": [
    "Zanimiv razred je `Kvadrat`, ki je izpeljan iz razredov `Stirikotnik` in `Pravilen`. Do metod in atributov dedovanega razreda smo navajeni dostopati z uporabo funkcije `super()`. V tem primeru pa imamo dva razreda, od katerih dedujemo metode. Do metod dostopamo preko imena razreda, objekt `self` pa moramo lastnoročno posredovati klicani metodi."
   ]
  },
  {
   "cell_type": "code",
   "execution_count": 10,
   "metadata": {},
   "outputs": [
    {
     "name": "stdout",
     "output_type": "stream",
     "text": [
      "Veckotnik & Pravilen\n"
     ]
    }
   ],
   "source": [
    "class Lik:\n",
    "    def tip(self): return \"Lik\"\n",
    "class Krog(Lik):\n",
    "    def tip(self): return \"Krog\"\n",
    "class Veckotnik(Lik):\n",
    "    def tip(self): return \"Veckotnik\"\n",
    "class Pravilen(Veckotnik):\n",
    "    def tip(self): return \"Pravilen\"\n",
    "class Stirikotnik(Veckotnik): pass\n",
    "class Kvadrat(Stirikotnik, Pravilen):\n",
    "    def tip(self): \n",
    "        return Stirikotnik.tip(self) + \" & \" + Pravilen.tip(self)  # dostop do metod različnih dedovanih razredov\n",
    "\n",
    "print(Kvadrat().tip())"
   ]
  },
  {
   "cell_type": "markdown",
   "metadata": {},
   "source": [
    "Sedaj si oglejmo situacijo, ko sta razreda `Stirikotnik` in `Kvadrat` brez metode `tip`. Katera metoda se izvede pri klicu metode `tip` v razredu `Kvadrat`, metoda razreda `Pravilen` ali `Veckotnik`?"
   ]
  },
  {
   "cell_type": "code",
   "execution_count": 11,
   "metadata": {},
   "outputs": [
    {
     "name": "stdout",
     "output_type": "stream",
     "text": [
      "Pravilen\n"
     ]
    }
   ],
   "source": [
    "class Stirikotnik(Veckotnik): pass\n",
    "class Kvadrat(Stirikotnik, Pravilen): pass\n",
    "\n",
    "print(Kvadrat().tip())"
   ]
  },
  {
   "cell_type": "markdown",
   "metadata": {},
   "source": [
    "Vrstni red iskanja manjkajočih atributov in metod definira *Method Resolution Order*. Zanj velja, da se izpeljani razredi (nižje v hierarhiji) pojavijo pred dedovanimi razredi (višje v hierarhiji). Hkrati pa ohranja vrstni red razredov pri večkratnem dedovanju. Če razred deduje od več drugih razredov, se bodo ti dedovani razredi pojavili v takem vrstnem redu, kot so našteti pri dedovanju. Kogar zanima več o MRO, si lahko ogleda https://www.python.org/download/releases/2.3/mro/."
   ]
  },
  {
   "cell_type": "code",
   "execution_count": 12,
   "metadata": {},
   "outputs": [
    {
     "data": {
      "text/plain": [
       "[__main__.Kvadrat,\n",
       " __main__.Stirikotnik,\n",
       " __main__.Pravilen,\n",
       " __main__.Veckotnik,\n",
       " __main__.Lik,\n",
       " object]"
      ]
     },
     "execution_count": 12,
     "metadata": {},
     "output_type": "execute_result"
    }
   ],
   "source": [
    "Kvadrat.mro()"
   ]
  },
  {
   "cell_type": "markdown",
   "metadata": {},
   "source": [
    "Na naslednjo težavo naletimo pri konstruktorjih. Bi moral konstruktor kvadrata klicati konstruktorja štirikotnika in pravilnega? V tem primeru bi vsak od njiju poklical konstruktor večkotnika, torej bi ga izvedli dvakrat, česar pa nočemo.\n",
    "\n",
    "Kljub večkratnemu dedovanju sledimo vzorcu uporabe funkcije `super()`, ki smo ga navajeni. Ta poskrbi, da se izvedejo konstruktorji potrebnih razredov v pravem vrstnem redu in vsak enkrat (https://docs.python.org/3/library/functions.html#super), pri tem pa si pomaga z MRO.\n",
    "\n",
    "Napišimo dekorator `log`, ki bo izpisal, kdaj se določena metoda začne in zaključi. Z njim dekorirajmo vse konstruktorje in opazujmo vrstni red klicev. Zaporedje klicev je `Kvadrat`, `Stirikotnik`, `Pravilen`, ... Funkcija `super()` v razredu `Stirikotnik` torej pokliče `__init__` v razredu `Pravilen`, čeprav ne dedujeta med seboj!"
   ]
  },
  {
   "cell_type": "code",
   "execution_count": 13,
   "metadata": {},
   "outputs": [
    {
     "name": "stdout",
     "output_type": "stream",
     "text": [
      "Kvadrat.__init__ start\n",
      "Stirikotnik.__init__ start\n",
      "Pravilen.__init__ start\n",
      "Veckotnik.__init__ start\n",
      "Lik.__init__ start\n",
      "Lik.__init__ end\n",
      "Veckotnik.__init__ end\n",
      "Pravilen.__init__ end\n",
      "Stirikotnik.__init__ end\n",
      "Kvadrat.__init__ end\n"
     ]
    }
   ],
   "source": [
    "def log(f):\n",
    "    def wrapper(*args, **kwargs):\n",
    "        print(f.__qualname__ , \"start\")\n",
    "        f(*args, **kwargs)\n",
    "        print(f.__qualname__ , \"end\")\n",
    "    return wrapper\n",
    "\n",
    "class Lik:\n",
    "    @log\n",
    "    def __init__(self): super().__init__()\n",
    "class Krog(Lik):\n",
    "    @log\n",
    "    def __init__(self): super().__init__()\n",
    "class Veckotnik(Lik):\n",
    "    @log\n",
    "    def __init__(self): super().__init__()\n",
    "class Pravilen(Veckotnik):\n",
    "    @log\n",
    "    def __init__(self): super().__init__()\n",
    "class Stirikotnik(Veckotnik):\n",
    "    @log\n",
    "    def __init__(self): super().__init__()\n",
    "class Kvadrat(Stirikotnik, Pravilen):\n",
    "    @log\n",
    "    def __init__(self): super().__init__()\n",
    "\n",
    "k = Kvadrat()  # super() iz razreda Stirikotnik pokliče __init__ iz razreda Pravilen!"
   ]
  },
  {
   "cell_type": "markdown",
   "metadata": {},
   "source": [
    "## Iteratorji\n",
    "\n",
    "Številni razredi oz. objekti v Pythonu omogočajo iteracijo — po domače sprehajanje čez objekt. Na primer v seznamih in množicah se lahko s for zanko sprehodimo čez vse elemente, v slovarjih pa čez vse ključe."
   ]
  },
  {
   "cell_type": "code",
   "execution_count": 14,
   "metadata": {},
   "outputs": [
    {
     "name": "stdout",
     "output_type": "stream",
     "text": [
      "1\n",
      "2\n",
      "3\n"
     ]
    }
   ],
   "source": [
    "sez = [1,2,3]\n",
    "for x in sez:\n",
    "    print(x)"
   ]
  },
  {
   "cell_type": "markdown",
   "metadata": {},
   "source": [
    "Oglejmo si, kako to pravzaprav deluje. S funkcijo `iter` se iz objekta ustvari iterator. Ta iterator lahko uporabljamo v kombinaciji s funkcijo `next` za generiranje elementov. Ko zmanjka elementov za iteracijo, sproži `next` izjemo `StopIteration`. Spodnja koda prikazuje delovanje for zanke."
   ]
  },
  {
   "cell_type": "code",
   "execution_count": 15,
   "metadata": {},
   "outputs": [
    {
     "name": "stdout",
     "output_type": "stream",
     "text": [
      "1\n",
      "2\n",
      "3\n"
     ]
    }
   ],
   "source": [
    "it = iter(sez)\n",
    "while True:\n",
    "    try:\n",
    "        x = next(it)\n",
    "        print(x)\n",
    "    except StopIteration: break"
   ]
  },
  {
   "cell_type": "markdown",
   "metadata": {},
   "source": [
    "Ustvarimo lasten razred, ki bo podpiral iteracijo. To bomo naredili na primeru razreda učencev, ki morajo pred tablo reševati naloge. Konstruktor razreda bo sprejel seznam učencev in števil nalog, ki jih je treba rešiti. Z iteracijo čez razred pa želimo dobiti naključen izbor toliko učencev, kot je nalog. Da bomo lahko iterirali čez razred, mora ta podpirati funkcijo `iter` z implementacijo metode `__iter__`. Vrniti mora iterator oz. objekt, ki bo imel implementirano metodo `__next__`, ki jo potrebuje funkcija `next`. To je lahko tudi isti objekt (`self`)."
   ]
  },
  {
   "cell_type": "code",
   "execution_count": 16,
   "metadata": {},
   "outputs": [
    {
     "name": "stdout",
     "output_type": "stream",
     "text": [
      "['Tone', 'Janez', 'Tone', 'Tone']\n",
      "[]\n"
     ]
    }
   ],
   "source": [
    "from random import choice\n",
    "\n",
    "class Razred:\n",
    "    def __init__(self, ucenci, naloge):\n",
    "        self.ucenci = ucenci\n",
    "        self.naloge = naloge\n",
    "    def __iter__(self):\n",
    "        return self\n",
    "    def __next__(self):\n",
    "        if self.naloge == 0: raise StopIteration\n",
    "        self.naloge -= 1\n",
    "        return choice(self.ucenci)\n",
    "\n",
    "r = Razred([\"Ana\", \"Miha\", \"Tone\", \"Metka\", \"Janez\", \"Beti\"], 4)\n",
    "print([oseba for oseba in r])\n",
    "\n",
    "print([oseba for oseba in r])  # ne deluje"
   ]
  },
  {
   "cell_type": "markdown",
   "metadata": {},
   "source": [
    "Enkratna iteracija čez naš razred deluje, druga pa ne več. Težava je v tem, da število nalog med prvo iteracijo pade na 0 in tam tudi ostane, zato se druga iteracija takoj zaključi. Popravimo napako z novo pomožno spremenljivko."
   ]
  },
  {
   "cell_type": "code",
   "execution_count": 17,
   "metadata": {},
   "outputs": [
    {
     "name": "stdout",
     "output_type": "stream",
     "text": [
      "['Metka', 'Miha', 'Beti', 'Beti']\n",
      "['Miha', 'Miha', 'Metka', 'Janez']\n",
      "[[('Janez', 'Ana'), ('Janez', 'Metka'), ('Janez', 'Metka'), ('Janez', 'Janez')]]\n"
     ]
    }
   ],
   "source": [
    "class Razred:\n",
    "    def __init__(self, ucenci, naloge):\n",
    "        self.ucenci = ucenci\n",
    "        self.naloge = naloge\n",
    "    def __iter__(self):\n",
    "        self.n = self.naloge\n",
    "        return self\n",
    "    def __next__(self):\n",
    "        if self.n == 0: raise StopIteration\n",
    "        self.n -= 1\n",
    "        return choice(self.ucenci)\n",
    "\n",
    "r = Razred([\"Ana\", \"Miha\", \"Tone\", \"Metka\", \"Janez\", \"Beti\"], 4)\n",
    "print([oseba for oseba in r])\n",
    "print([oseba for oseba in r])\n",
    "\n",
    "print([[(oseba1, oseba2) for oseba2 in r] for oseba1 in r])  # ne deluje"
   ]
  },
  {
   "cell_type": "markdown",
   "metadata": {},
   "source": [
    "Sedaj imamo težavo z gnezdenimi zankami, če iteriramo čez isti objekt. Odvisno od namena uporabe razreda, je to lahko problem, ali pa tudi ne. Rešimo ga lahko tako, da metoda `__iter__` vrne nov objekt - naključni iterator `RandIter`, ki poskrbi za iteracijo. V primerjavi s prejšnjo rešitvijo se ob vsakem začetku iteracije ustvari nov iterator."
   ]
  },
  {
   "cell_type": "code",
   "execution_count": 18,
   "metadata": {},
   "outputs": [
    {
     "name": "stdout",
     "output_type": "stream",
     "text": [
      "['Janez', 'Janez', 'Metka', 'Miha']\n",
      "['Metka', 'Beti', 'Ana', 'Ana']\n",
      "[[('Beti', 'Metka'), ('Beti', 'Tone'), ('Beti', 'Ana'), ('Beti', 'Metka')], [('Beti', 'Beti'), ('Beti', 'Ana'), ('Beti', 'Beti'), ('Beti', 'Miha')], [('Janez', 'Metka'), ('Janez', 'Ana'), ('Janez', 'Ana'), ('Janez', 'Janez')], [('Janez', 'Beti'), ('Janez', 'Miha'), ('Janez', 'Metka'), ('Janez', 'Tone')]]\n"
     ]
    }
   ],
   "source": [
    "class Razred:\n",
    "    def __init__(self, ucenci, naloge):\n",
    "        self.ucenci = ucenci\n",
    "        self.naloge = naloge\n",
    "    def __iter__(self):\n",
    "        return RandIter(self.ucenci, self.naloge)\n",
    "\n",
    "class RandIter:\n",
    "    def __init__(self, sez, n):\n",
    "        self.sez = sez\n",
    "        self.n = n\n",
    "    def __next__(self):\n",
    "        if self.n == 0: raise StopIteration\n",
    "        self.n -= 1\n",
    "        return choice(self.sez)\n",
    "\n",
    "r = Razred([\"Ana\", \"Miha\", \"Tone\", \"Metka\", \"Janez\", \"Beti\"], 4)\n",
    "print([oseba for oseba in r])\n",
    "print([oseba for oseba in r])\n",
    "print([[(oseba1, oseba2) for oseba2 in r] for oseba1 in r])"
   ]
  }
 ],
 "metadata": {
  "kernelspec": {
   "display_name": "Python 3",
   "language": "python",
   "name": "python3"
  },
  "language_info": {
   "codemirror_mode": {
    "name": "ipython",
    "version": 3
   },
   "file_extension": ".py",
   "mimetype": "text/x-python",
   "name": "python",
   "nbconvert_exporter": "python",
   "pygments_lexer": "ipython3",
   "version": "3.8.6"
  }
 },
 "nbformat": 4,
 "nbformat_minor": 4
}
