{
 "cells": [
  {
   "cell_type": "markdown",
   "metadata": {},
   "source": [
    "# Standardni paketi\n",
    "\n",
    "Pythonova knjižnica standardnih modulov in paket je precej obsežna (https://docs.python.org/3/library/). Ogledali si bomo zgolj par pogostejših."
   ]
  },
  {
   "cell_type": "markdown",
   "metadata": {},
   "source": [
    "## Čas in datum\n",
    "\n",
    "Za delo s časom in datumi nam prideta prav modula `time` in `datetime`. Že prištevanje par dni k trenutnemu datumu je lahko kompleksna naloga, če vpeljemo še premik ure in časovne pasove, pa se to že cel projekt. Tu nam omenjena modula lahko precej olajšata delo.\n",
    "\n",
    "### Time\n",
    "\n",
    "Oglejmo si najprej modul `time` (https://docs.python.org/3/library/time.html). Funkcija `time.time()` (funkcija `time` iz modula `time`) nam vrne število sekund od nekega fiksnega predhodnega trenutka. Običajno je to 1. januar 1970. Ker število sekund od leta 1970 človeku ne pove prav dosti, si lahko s funkcijo `localtime` to vrednost pretvorimo v leto, mesec, dan, ure, minute in sekunde."
   ]
  },
  {
   "cell_type": "code",
   "execution_count": 1,
   "metadata": {},
   "outputs": [
    {
     "name": "stdout",
     "output_type": "stream",
     "text": [
      "1637661470.6473315\n",
      "time.struct_time(tm_year=1970, tm_mon=1, tm_mday=1, tm_hour=1, tm_min=0, tm_sec=0, tm_wday=3, tm_yday=1, tm_isdst=0)\n",
      "time.struct_time(tm_year=2021, tm_mon=11, tm_mday=23, tm_hour=10, tm_min=57, tm_sec=50, tm_wday=1, tm_yday=327, tm_isdst=0)\n",
      "time.struct_time(tm_year=2021, tm_mon=11, tm_mday=23, tm_hour=10, tm_min=57, tm_sec=50, tm_wday=1, tm_yday=327, tm_isdst=0)\n"
     ]
    }
   ],
   "source": [
    "import time\n",
    "\n",
    "now = time.time()\n",
    "print(now)\n",
    "print(time.localtime(0))\n",
    "print(time.localtime(now))\n",
    "print(time.localtime())"
   ]
  },
  {
   "cell_type": "markdown",
   "metadata": {},
   "source": [
    "Prav nam pride tudi za merjenje časa izvajanja programa. Ker opazujemo razliko med dvema časoma, je povsem nerelevantno, od katerega trenutka v zgodovini je ta čas merjen. Funkcija `time` vrne stenski čas, kot bi ga prebrali z ure na steni."
   ]
  },
  {
   "cell_type": "code",
   "execution_count": 2,
   "metadata": {},
   "outputs": [
    {
     "name": "stdout",
     "output_type": "stream",
     "text": [
      "time        : 0.22266936302185059\n"
     ]
    }
   ],
   "source": [
    "def f(n):\n",
    "    return sum(i**2 for i in range(n))\n",
    "\n",
    "start_time = time.time()\n",
    "f(10**6)\n",
    "end_time = time.time()\n",
    "print(\"time        :\", end_time - start_time)"
   ]
  },
  {
   "cell_type": "markdown",
   "metadata": {},
   "source": [
    "Boljšo natančnost lahko dosežemo z uporabo funkcije `perf_counter`. Smiselne so samo razlike med dvema tako izmerjenima časoma, saj je referenčna točka, od koder se meri, nedefinirana."
   ]
  },
  {
   "cell_type": "code",
   "execution_count": 3,
   "metadata": {},
   "outputs": [
    {
     "name": "stdout",
     "output_type": "stream",
     "text": [
      "time        : 0.0\n",
      "perf_counter: 0.00023410000000012587\n"
     ]
    }
   ],
   "source": [
    "def f(n):\n",
    "    return sum(i**2 for i in range(n))\n",
    "\n",
    "start_time = time.time()\n",
    "start_perf = time.perf_counter()\n",
    "f(10**3)\n",
    "end_time = time.time()\n",
    "end_perf = time.perf_counter()\n",
    "print(\"time        :\", end_time - start_time)\n",
    "print(\"perf_counter:\", end_perf - start_perf)"
   ]
  },
  {
   "cell_type": "markdown",
   "metadata": {},
   "source": [
    "Včasih pa nas ne zanima sistemski čas, temveč zgolj čas, ki ga je porabil naš program. Ta lahko čaka na kakšno vhodno/izhodno enoto (npr. disk), ali pa ima na sistemu višjo prioriteto nek drug proces, zato naš program čaka oz. pride na vrsto občasno. Količino časa, ki jo porabi naš program, lahko dobimo s funkcijo `process_time`."
   ]
  },
  {
   "cell_type": "code",
   "execution_count": 4,
   "metadata": {},
   "outputs": [
    {
     "name": "stdout",
     "output_type": "stream",
     "text": [
      "time        : 1.2276315689086914\n",
      "perf_counter: 1.2318521000000011\n",
      "process_time: 0.21875\n"
     ]
    }
   ],
   "source": [
    "def f(n):\n",
    "    time.sleep(1)\n",
    "    sum(i**2 for i in range(n))\n",
    "\n",
    "start_time = time.time()\n",
    "start_perf = time.perf_counter()\n",
    "start_proc = time.process_time()\n",
    "f(10**6)\n",
    "end_time = time.time()\n",
    "end_perf = time.perf_counter()\n",
    "end_proc = time.process_time()\n",
    "print(\"time        :\", end_time - start_time)\n",
    "print(\"perf_counter:\", end_perf - start_perf)\n",
    "print(\"process_time:\", end_proc - start_proc)"
   ]
  },
  {
   "cell_type": "markdown",
   "metadata": {},
   "source": [
    "Katero funkcijo bomo uporabili, je povsem odvisno od primera uporabe. Moramo pa biti pozorni, da pogosta uporaba funkcij za odčitavanje časa, prav tako zahteva nezanemarljivo količino časa."
   ]
  },
  {
   "cell_type": "code",
   "execution_count": 5,
   "metadata": {},
   "outputs": [
    {
     "name": "stdout",
     "output_type": "stream",
     "text": [
      "time          namespace(adjustable=True, implementation='GetSystemTimeAsFileTime()', monotonic=False, resolution=0.015625)\n",
      "perf_counter  namespace(adjustable=False, implementation='QueryPerformanceCounter()', monotonic=True, resolution=1e-07)\n",
      "process_time  namespace(adjustable=False, implementation='GetProcessTimes()', monotonic=True, resolution=1e-07)\n",
      "monotonic     namespace(adjustable=False, implementation='GetTickCount64()', monotonic=True, resolution=0.015625)\n"
     ]
    }
   ],
   "source": [
    "from time import get_clock_info\n",
    "for clock in ['time', 'perf_counter', 'process_time', 'monotonic']:\n",
    "    print(f\"{clock:13} {get_clock_info(clock)}\")"
   ]
  },
  {
   "cell_type": "markdown",
   "metadata": {},
   "source": [
    "### Datetime\n",
    "\n",
    "Modul `datetime` (https://docs.python.org/3/library/datetime.html) nam ponuja funkcije za delo z datumi in časom. Funkcija `datetime.now` nam vrne trenutni datum in čas. Enostavno lahko dostopamo do posameznih atributov (npr. leto), številne druge funkcije pa nam omogočajo tudi določanje dneva v tednu in podobne stvari."
   ]
  },
  {
   "cell_type": "code",
   "execution_count": 6,
   "metadata": {},
   "outputs": [
    {
     "name": "stdout",
     "output_type": "stream",
     "text": [
      "2021-11-23 10:57:59.634172 datetime.datetime(2021, 11, 23, 10, 57, 59, 634172)\n",
      "2021 11 23\n",
      "1\n"
     ]
    }
   ],
   "source": [
    "from datetime import datetime\n",
    "\n",
    "now = datetime.now()\n",
    "print(now, repr(now))\n",
    "print(now.year, now.month, now.day)\n",
    "print(now.weekday())  # 0=ponedeljek, 1=torek, ..."
   ]
  },
  {
   "cell_type": "markdown",
   "metadata": {},
   "source": [
    "Datetime objekt lahko sestavimo tudi s poljubnim datumom in časom. Lahko ga zgradimo neposredno, ali pa najprej ločeno sestavimo datum in čas, ter ju nato združimo."
   ]
  },
  {
   "cell_type": "code",
   "execution_count": 7,
   "metadata": {},
   "outputs": [
    {
     "name": "stdout",
     "output_type": "stream",
     "text": [
      "[datetime.date(2000, 11, 1), datetime.time(8, 45)]\n",
      "2000-11-01 08:45:00\n"
     ]
    }
   ],
   "source": [
    "from datetime import date, time\n",
    "\n",
    "datum = date(2000, 11, 1)\n",
    "cas = time.fromisoformat(\"08:45\")\n",
    "print([datum, cas])\n",
    "datum_cas = datetime.combine(datum, cas)\n",
    "print(datum_cas)"
   ]
  },
  {
   "cell_type": "markdown",
   "metadata": {},
   "source": [
    "Pogosta naloga pri delu z datumi in časom je njihova predstavitev v obliki niza (`strftime` - format) ali branje iz takega niza (`strptime` - parse). Oznake za definiranje oblike so opisane v dokumentaciji (https://docs.python.org/3/library/datetime.html#strftime-and-strptime-format-codes)."
   ]
  },
  {
   "cell_type": "code",
   "execution_count": 8,
   "metadata": {},
   "outputs": [
    {
     "name": "stdout",
     "output_type": "stream",
     "text": [
      "01.11.2000 (08:45)\n",
      "2000-11-01 08:30:00\n"
     ]
    }
   ],
   "source": [
    "print(datum_cas.strftime(\"%d.%m.%Y (%H:%M)\"))\n",
    "print(datetime.strptime(\"01.11.2000 (08:30)\", \"%d.%m.%Y (%H:%M)\"))"
   ]
  },
  {
   "cell_type": "markdown",
   "metadata": {},
   "source": [
    "Rezultat odštevanja dveh datumov je posebnega tipa `timedelta`, ki hrani razliko v dnevih in sekundah. Podobno lahko ustvarimo objekt tipa `timedelta` in ga prištejemo trenutnemu datumu, s čimer dobimo nov primerno zamaknjen datum."
   ]
  },
  {
   "cell_type": "code",
   "execution_count": 9,
   "metadata": {},
   "outputs": [
    {
     "name": "stdout",
     "output_type": "stream",
     "text": [
      "Preostanek časa: datetime.timedelta(days=38, seconds=46858, microseconds=157836) 38\n",
      "Tri dni kasneje: 2021-11-26 10:58:01.842164\n"
     ]
    }
   ],
   "source": [
    "from datetime import timedelta\n",
    "\n",
    "konec = datetime(datetime.now().year, 12, 31, 23, 59)\n",
    "now = datetime.now()\n",
    "cas = konec - now\n",
    "print(\"Preostanek časa:\", repr(cas), cas.days)\n",
    "\n",
    "en_dan = timedelta(1)\n",
    "print(\"Tri dni kasneje:\", now + 3*en_dan)"
   ]
  },
  {
   "cell_type": "markdown",
   "metadata": {},
   "source": [
    "Modul podpira tudi delo s časovnimi pasovi in premiki ure. To je posebne vrste komplikacija, ki se ji bomo na tem mestu izognili."
   ]
  },
  {
   "cell_type": "markdown",
   "metadata": {},
   "source": [
    "## Decimalna števila in ulomki\n",
    "\n",
    "Python omogoča operacije s poljubno velikimi celimi števili. To pa ne drži za realna števila predstavljena s plavajočo vejico (`float`). Pri operacijah z njimi moramo namreč upoštevati računske napake, ki se prikradejo v izračune. Pri tem si lahko pomagamo z moduloma `decimal` in `fraction`."
   ]
  },
  {
   "cell_type": "markdown",
   "metadata": {},
   "source": [
    "### Računske napake"
   ]
  },
  {
   "cell_type": "code",
   "execution_count": 10,
   "metadata": {
    "scrolled": true
   },
   "outputs": [
    {
     "name": "stdout",
     "output_type": "stream",
     "text": [
      "True\n"
     ]
    }
   ],
   "source": [
    "x = pow(10.0, 20)\n",
    "print(x == x+1)"
   ]
  },
  {
   "cell_type": "markdown",
   "metadata": {},
   "source": [
    "Ja, prav vidite. Števila imajo omejeno natačnost. Pri 64-bitnih številih je to približno 15 decimalnih mest. Zato se število 1 izgubi v primerjavi z večjim 21-mestnim številom."
   ]
  },
  {
   "cell_type": "code",
   "execution_count": 11,
   "metadata": {},
   "outputs": [
    {
     "name": "stdout",
     "output_type": "stream",
     "text": [
      "True False\n"
     ]
    }
   ],
   "source": [
    "x = sum(0.5 for i in range(10))\n",
    "y = sum(0.1 for i in range(10))\n",
    "print(x==5, y==1)"
   ]
  },
  {
   "cell_type": "markdown",
   "metadata": {},
   "source": [
    "Če seštejemo deset polovic, dobimo 5. Če seštejemo deset desetin, pa ne dobimo ena? Vrednost 0.5 ima lepo predstavitev v dvojiškem sistemu. Število 0.1 pa ima v dvojiškem neskončen zapis, zato se nekje zaokroži."
   ]
  },
  {
   "cell_type": "code",
   "execution_count": 12,
   "metadata": {},
   "outputs": [
    {
     "name": "stdout",
     "output_type": "stream",
     "text": [
      "12.090136129863335 12.090136129863408 False\n"
     ]
    }
   ],
   "source": [
    "x = sum(1/i for i in range(1,100000))\n",
    "y = sum(1/i for i in reversed(range(1,100000)))\n",
    "print(x, y, x==y)"
   ]
  },
  {
   "cell_type": "markdown",
   "metadata": {},
   "source": [
    "Še iz osnovne šole vemo, da je vsota komutativna in jo lahko seštevamo v poljubnem vrstnem redu. Žal se Python ne strinja (kakor tudi večina drugih programskih jezikov). Težava ponovno izhaja iz seštevanja števil različnih velikostnih razredov. V prvem primeru začnemo z velikimi števili in jim prištevamo vedno manjša, kar vodi do računskih napak. Drugi način je zato pravilnejši."
   ]
  },
  {
   "cell_type": "markdown",
   "metadata": {},
   "source": [
    "### Decimal\n",
    "\n",
    "Razred `Decimal` iz modula `decimal` (https://docs.python.org/3/library/decimal.html) nam omogoča izvajanje operacij v desetiškem sistemu s poljubno natančnostjo. Poskusimo ponovno sešteti deset desetin, vendar tokrat z uporabo razreda `Decimal`. Previdni moramo biti, da ne ustvarimo objekta iz števila `0.1`, ki že vsebuje zaokrožitveno napako, temveč iz niza `\"0.1\"`"
   ]
  },
  {
   "cell_type": "code",
   "execution_count": 13,
   "metadata": {},
   "outputs": [
    {
     "name": "stdout",
     "output_type": "stream",
     "text": [
      "1.0 True\n"
     ]
    }
   ],
   "source": [
    "from decimal import Decimal\n",
    "\n",
    "v = sum(Decimal(\"0.1\") for i in range(10))\n",
    "print(v, v == 1.0)"
   ]
  },
  {
   "cell_type": "markdown",
   "metadata": {},
   "source": [
    "Nastavimo lahko poljubno natančnost pri računanju z objekti razreda `Decimal`. Do te nastavitve pridemo preko metode `getcontext()`. Ta nam vrne objekt, ki predstavlja trenutni kontekst računanja, kjer lahko spremenimo natančnost."
   ]
  },
  {
   "cell_type": "code",
   "execution_count": 14,
   "metadata": {},
   "outputs": [
    {
     "name": "stdout",
     "output_type": "stream",
     "text": [
      "0.03225806451612903\n",
      "0.03225806451612903225806451613\n",
      "0.032258064516129032258064516129032258064516129032258\n"
     ]
    }
   ],
   "source": [
    "from decimal import getcontext\n",
    "\n",
    "print(1/31)\n",
    "print(Decimal(1) / Decimal(31))\n",
    "getcontext().prec = 50\n",
    "print(Decimal(1) / Decimal(31))"
   ]
  },
  {
   "cell_type": "markdown",
   "metadata": {},
   "source": [
    "Pri zaokroževanju se polovice običajno ne zaokrožujejo navzgor, temveč k sodi vrednosti (`ROUND_HALF_EVEN`). Preko konteksta računanja lahko izberemo tudi drugačno obnašanje (https://docs.python.org/3/library/decimal.html#rounding-modes)."
   ]
  },
  {
   "cell_type": "code",
   "execution_count": 15,
   "metadata": {},
   "outputs": [
    {
     "name": "stdout",
     "output_type": "stream",
     "text": [
      "0.6\n",
      "0.6\n",
      "0.5\n"
     ]
    }
   ],
   "source": [
    "getcontext().prec = 1\n",
    "print(Decimal(\"0.14\") + Decimal(\"0.51\"))  # 0.65 -> 0.6\n",
    "print(Decimal(\"0.14\") + Decimal(\"0.41\"))  # 0.55 -> 0.6\n",
    "\n",
    "from decimal import ROUND_UP\n",
    "getcontext().rounding = ROUND_UP\n",
    "print(Decimal(\"0.12\") + Decimal(\"0.30\"))  # 0.42 -> 0.5"
   ]
  },
  {
   "cell_type": "markdown",
   "metadata": {},
   "source": [
    "### Fraction\n",
    "\n",
    "Če želimo biti povsem natančni, lahko uporabimo razred `Fraction` iz modula `fractions` (https://docs.python.org/3/library/fractions.html), kjer pravzaprav računamo s celimi števili v števcih in imenovalcih. Glavna atributa sta `numerator` in `denominator`."
   ]
  },
  {
   "cell_type": "code",
   "execution_count": 16,
   "metadata": {},
   "outputs": [
    {
     "name": "stdout",
     "output_type": "stream",
     "text": [
      "1/3 1 3\n",
      "13/12\n"
     ]
    }
   ],
   "source": [
    "from fractions import Fraction\n",
    "\n",
    "f = Fraction(1, 3)\n",
    "print(f, f.numerator, f.denominator)\n",
    "\n",
    "print(Fraction(1,3) + Fraction(3,4))"
   ]
  },
  {
   "cell_type": "markdown",
   "metadata": {},
   "source": [
    "Tako kot pri razredu `Decimal`, moramo biti tudi tu pozorni, da ne vnesemo računske napake še pred začetkom računanja z natančnimi števili."
   ]
  },
  {
   "cell_type": "code",
   "execution_count": 17,
   "metadata": {},
   "outputs": [
    {
     "name": "stdout",
     "output_type": "stream",
     "text": [
      "3602879701896397/18014398509481984\n",
      "1/5\n"
     ]
    }
   ],
   "source": [
    "print(Fraction(0.2))\n",
    "print(Fraction(\"0.2\"))"
   ]
  },
  {
   "cell_type": "markdown",
   "metadata": {},
   "source": [
    "## Formati podatkovnih datotek\n",
    "\n",
    "Podatke shranjujemo v datoteke za arhiviranje, izmenjavo, shranjevanje vmesnih izračunov, ... Izbrani format je lahko tekstovna ali binarna datoteka. Prva je enostavno berljiva, druga pa tipično bolj učinkovita. Oglejmo si par najpogostejših in Pythonovo podporo zanje."
   ]
  },
  {
   "cell_type": "markdown",
   "metadata": {},
   "source": [
    "### Context Manager\n",
    "\n",
    "Pri delu s podatkovnimi datotekami različnih formatov se boste pogosto srečali z `with` blokom in z njim povezanimi context managerji."
   ]
  },
  {
   "cell_type": "markdown",
   "metadata": {},
   "source": [
    "Kot že veste, je tipičen način dela z datotekami sledeč: odpremo datoteko, nekaj počnemo z njo in jo na koncu zapremo, da je na voljo drugim."
   ]
  },
  {
   "cell_type": "code",
   "execution_count": 18,
   "metadata": {},
   "outputs": [
    {
     "name": "stdout",
     "output_type": "stream",
     "text": [
      "Ljubljana 286745 164 295 1000\n"
     ]
    }
   ],
   "source": [
    "f = open(\"data.txt\", \"r\")\n",
    "print(f.readline())\n",
    "f.close()"
   ]
  },
  {
   "cell_type": "markdown",
   "metadata": {},
   "source": [
    "Program lahko malo skrajšamo z uporabo `with` bloka, ki poskrbi za zapiranje datoteke po zaključku izvajanja bloka."
   ]
  },
  {
   "cell_type": "code",
   "execution_count": 19,
   "metadata": {},
   "outputs": [
    {
     "name": "stdout",
     "output_type": "stream",
     "text": [
      "Ljubljana 286745 164 295 1000\n"
     ]
    }
   ],
   "source": [
    "with open(\"data.txt\", \"r\") as f:\n",
    "    print(f.readline())"
   ]
  },
  {
   "cell_type": "markdown",
   "metadata": {},
   "source": [
    "With blok sprejme objekt (context manager) z implementiranima metodama `__enter__` in `__exit__`, ki se izvedeta pred začetkom in po koncu izvajanja bloka. S tem poskrbimo, da za zaprejo datoteke, prekinejo povezave z bazo ali kaj tretjega, tudi v primeru napak, do katerih lahko pride med izvajanjem bloka. Zato metoda `__exit__` sprejme kot argumente tudi tip, vrednost in traceback (seznam klicev funkcij) v primeru napake. Lasten context manager za branje datoteke, bi izgledal tako."
   ]
  },
  {
   "cell_type": "code",
   "execution_count": 20,
   "metadata": {},
   "outputs": [
    {
     "name": "stdout",
     "output_type": "stream",
     "text": [
      "Ljubljana 286745 164 295 1000\n"
     ]
    }
   ],
   "source": [
    "class DatotekaZaBranje:\n",
    "    def __init__(self, ime):\n",
    "        self.dat = open(ime, \"r\")\n",
    "    def __enter__(self):\n",
    "        return self.dat\n",
    "    def __exit__(self, exc_type, exc_val, exc_tb):\n",
    "        self.dat.close()\n",
    "\n",
    "with DatotekaZaBranje(\"data.txt\") as f:\n",
    "    print(f.readline())"
   ]
  },
  {
   "cell_type": "markdown",
   "metadata": {},
   "source": [
    "Pred nadaljevanjem si pripravimo še pomožno funkcijo, ki bo prebrala in vrnila vsebino datoteke. Prav nam bo prišla za ogled, s kakšno datoteko imamo opravka oz. kakšno datoteko smo ustvarili."
   ]
  },
  {
   "cell_type": "code",
   "execution_count": 21,
   "metadata": {},
   "outputs": [
    {
     "name": "stdout",
     "output_type": "stream",
     "text": [
      "Ljubljana 286745 164 295 1000\n"
     ]
    }
   ],
   "source": [
    "def read(file_name, *args, **kwargs):\n",
    "    with open(file_name, \"r\", *args, **kwargs) as f:\n",
    "        return f.read()\n",
    "\n",
    "print(read(\"data.txt\"))"
   ]
  },
  {
   "cell_type": "markdown",
   "metadata": {},
   "source": [
    "### CSV\n",
    "\n",
    "V comma-separated values formatu lahko shranimo tabelarične podatke. Vsi vnosi so opisani z enakimi atributi, tako da jih lahko naštejemo vsakega v svoji vrstici s presledki ločenimi vrednostmi."
   ]
  },
  {
   "cell_type": "code",
   "execution_count": 22,
   "metadata": {},
   "outputs": [
    {
     "name": "stdout",
     "output_type": "stream",
     "text": [
      "ime,priimek,starost,naslov\n",
      "Ana,Novak,22,Gosposvetska 12\n",
      "Janez,Kuhar,20,Barjanska 1\n"
     ]
    }
   ],
   "source": [
    "print(read(\"data.csv\"))"
   ]
  },
  {
   "cell_type": "markdown",
   "metadata": {},
   "source": [
    "Osnovni csv format je dovolj enostaven, da bi ga lahko brez večjih težav prebrali tudi brez posebnih knjižnic."
   ]
  },
  {
   "cell_type": "code",
   "execution_count": 23,
   "metadata": {},
   "outputs": [
    {
     "name": "stdout",
     "output_type": "stream",
     "text": [
      "[['ime', 'priimek', 'starost', 'naslov'], ['Ana', 'Novak', '22', 'Gosposvetska 12'], ['Janez', 'Kuhar', '20', 'Barjanska 1']]\n"
     ]
    }
   ],
   "source": [
    "with open(\"data.csv\", \"r\") as f:\n",
    "    data = [line.strip().split(',') for line in f]\n",
    "print(data)"
   ]
  },
  {
   "cell_type": "markdown",
   "metadata": {},
   "source": [
    "Težava pa nastane, če se v podatkih nahajajo ločila, ki jih uporabljamo za ločevanje stolpcev. V tem primeru vsebino obdamo z narekovaji in s tem definiramo, kaj paše skupaj."
   ]
  },
  {
   "cell_type": "code",
   "execution_count": 24,
   "metadata": {},
   "outputs": [
    {
     "name": "stdout",
     "output_type": "stream",
     "text": [
      "ime,priimek,starost,naslov\n",
      "Ana,Novak,22,\"Gosposvetska 12, 2000 Maribor\"\n",
      "Janez,Kuhar,20,\"Barjanska 1, 1000 Ljubljana\"\n"
     ]
    }
   ],
   "source": [
    "print(read(\"data2.csv\"))"
   ]
  },
  {
   "cell_type": "markdown",
   "metadata": {},
   "source": [
    "Branje takega formata je že precej bolj zapleteno, saj moramo ugotoviti, katera ločila za nahajajo znotraj in katera izven narekovajev. Na tem mestu pa si bomo pomagali z modulom `csv` (https://docs.python.org/3/library/csv.html). Z uporabo funkcije `csv.reader` lahko enostavno preberemo posamezne vrstice v sezname nizov."
   ]
  },
  {
   "cell_type": "code",
   "execution_count": 25,
   "metadata": {},
   "outputs": [
    {
     "name": "stdout",
     "output_type": "stream",
     "text": [
      "['ime', 'priimek', 'starost', 'naslov']\n",
      "['Ana', 'Novak', '22', 'Gosposvetska 12, 2000 Maribor']\n",
      "['Janez', 'Kuhar', '20', 'Barjanska 1, 1000 Ljubljana']\n"
     ]
    }
   ],
   "source": [
    "import csv\n",
    "\n",
    "with open(\"data2.csv\", \"r\") as f:\n",
    "    reader = csv.reader(f)\n",
    "    for row in reader:\n",
    "        print(row)"
   ]
  },
  {
   "cell_type": "markdown",
   "metadata": {},
   "source": [
    "Pogost vir tabelaričnih podatkov so razpredelnice iz programov kot je npr. Excel. Če shranimo razpredelnico v csv, dobimo malenkost posebno obliko. Vnosi so ločeni s podpičji, datoteka pa je shranjena v UTF-8 formatu s posebno oznako na začetku datoteke (byte order mark), kar lahko preberemo z uporabo encodinga utf-8-sig (https://docs.python.org/3/library/codecs.html#encodings-and-unicode)."
   ]
  },
  {
   "cell_type": "code",
   "execution_count": 26,
   "metadata": {},
   "outputs": [
    {
     "name": "stdout",
     "output_type": "stream",
     "text": [
      "Država;Valuta;Nakupni tečaj;Prodajni tečaj\n",
      "ZDA;USD;1,1913;1,1633\n",
      "Velika Britanija;GBP;0,9045;0,8785\n",
      "Švica;CHF;1,0965;1,0605\n",
      "Hrvaška;HRK;7,664;7,454\n",
      "Madžarska;HUF;359,65;350,85\n",
      "Srbija;RSD;119,43;115,63\n",
      "Bosna in Hercegovina;BAM;1,998;1,917\n",
      "Republika Severna Makedonija;MKD;62,11;60,29\n",
      "Rusija;RUB;93,54;88,14\n",
      "Češka;CZK;26,94;25,94\n",
      "Poljska;PLN;4,557;4,409\n",
      "Bolgarija;BGN;1,979;1,925\n",
      "Norveška;NOK;10,895;10,555\n",
      "Švedska;SEK;10,346;10,026\n",
      "Danska;DKK;7,5575;7,3335\n",
      "Avstralija;AUD;1,6405;1,5965\n",
      "Kanada;CAD;1,5635;1,5155\n",
      "Japonska;JPY;125,8;122\n",
      "\n"
     ]
    }
   ],
   "source": [
    "print(read(\"tecajnica_excel.csv\", encoding=\"utf-8-sig\"))"
   ]
  },
  {
   "cell_type": "markdown",
   "metadata": {},
   "source": [
    "Na tem primeru bomo ilustrirali uporabo razredov `DictReader` in `DictWriter`. Navaden csv reader pretvori vsak vnos v seznam, DictReader pa v slovar, v katerem ključi ustrezajo imenom atributov iz prve vrstice csv datoteke. Bralniku kot ločilo (`delimiter`) med vnosi podamo podpičje. Zaradi uporabe decimalne vejice v številskih vrednostih izvedemo še zamenjavo vejic s pikami in pretvorimo števila v float."
   ]
  },
  {
   "cell_type": "code",
   "execution_count": 27,
   "metadata": {},
   "outputs": [
    {
     "name": "stdout",
     "output_type": "stream",
     "text": [
      "[{'Država': 'ZDA', 'Valuta': 'USD', 'Nakupni tečaj': 1.1913, 'Prodajni tečaj': 1.1633}, {'Država': 'Velika Britanija', 'Valuta': 'GBP', 'Nakupni tečaj': 0.9045, 'Prodajni tečaj': 0.8785}, {'Država': 'Švica', 'Valuta': 'CHF', 'Nakupni tečaj': 1.0965, 'Prodajni tečaj': 1.0605}, {'Država': 'Hrvaška', 'Valuta': 'HRK', 'Nakupni tečaj': 7.664, 'Prodajni tečaj': 7.454}, {'Država': 'Madžarska', 'Valuta': 'HUF', 'Nakupni tečaj': 359.65, 'Prodajni tečaj': 350.85}, {'Država': 'Srbija', 'Valuta': 'RSD', 'Nakupni tečaj': 119.43, 'Prodajni tečaj': 115.63}, {'Država': 'Bosna in Hercegovina', 'Valuta': 'BAM', 'Nakupni tečaj': 1.998, 'Prodajni tečaj': 1.917}, {'Država': 'Republika Severna Makedonija', 'Valuta': 'MKD', 'Nakupni tečaj': 62.11, 'Prodajni tečaj': 60.29}, {'Država': 'Rusija', 'Valuta': 'RUB', 'Nakupni tečaj': 93.54, 'Prodajni tečaj': 88.14}, {'Država': 'Češka', 'Valuta': 'CZK', 'Nakupni tečaj': 26.94, 'Prodajni tečaj': 25.94}, {'Država': 'Poljska', 'Valuta': 'PLN', 'Nakupni tečaj': 4.557, 'Prodajni tečaj': 4.409}, {'Država': 'Bolgarija', 'Valuta': 'BGN', 'Nakupni tečaj': 1.979, 'Prodajni tečaj': 1.925}, {'Država': 'Norveška', 'Valuta': 'NOK', 'Nakupni tečaj': 10.895, 'Prodajni tečaj': 10.555}, {'Država': 'Švedska', 'Valuta': 'SEK', 'Nakupni tečaj': 10.346, 'Prodajni tečaj': 10.026}, {'Država': 'Danska', 'Valuta': 'DKK', 'Nakupni tečaj': 7.5575, 'Prodajni tečaj': 7.3335}, {'Država': 'Avstralija', 'Valuta': 'AUD', 'Nakupni tečaj': 1.6405, 'Prodajni tečaj': 1.5965}, {'Država': 'Kanada', 'Valuta': 'CAD', 'Nakupni tečaj': 1.5635, 'Prodajni tečaj': 1.5155}, {'Država': 'Japonska', 'Valuta': 'JPY', 'Nakupni tečaj': 125.8, 'Prodajni tečaj': 122.0}]\n"
     ]
    }
   ],
   "source": [
    "with open(\"tecajnica_excel.csv\", \"r\", encoding=\"utf-8-sig\") as f:\n",
    "    reader = csv.DictReader(f, delimiter=';')\n",
    "    data = []\n",
    "    for row in reader:\n",
    "        for key, value in row.items():\n",
    "            if \"tečaj\" in key: row[key] = float(value.replace(\",\", \".\"))\n",
    "        data.append(row)\n",
    "print(data)"
   ]
  },
  {
   "cell_type": "markdown",
   "metadata": {},
   "source": [
    "Take podatke lahko zapišemo nazaj v csv datoteko. Pri odpiranju datoteke moramo podati argument `newline=''`, da objekt, ki predstavlja datoteko, ne izvaja kakšnih samoiniciativnih čarovnij z novimi vrsticami, ampak to prepusti csv modulu. Najprej izpišemo prvo vrstico z imeni atributov, ki smo jih dobili iz ključev slovarja, nato pa še preostanek podatkov."
   ]
  },
  {
   "cell_type": "code",
   "execution_count": 28,
   "metadata": {},
   "outputs": [],
   "source": [
    "with open(\"tecajnica.csv\", \"w\", newline='', encoding=\"utf-8\") as f:\n",
    "    writer = csv.DictWriter(f, fieldnames=data[0].keys(), quoting=csv.QUOTE_NONNUMERIC)\n",
    "    writer.writeheader()\n",
    "    writer.writerows(data)"
   ]
  },
  {
   "cell_type": "markdown",
   "metadata": {},
   "source": [
    "Za konec preverimo, ali vsebina datoteka ustreza pričakovanjem."
   ]
  },
  {
   "cell_type": "code",
   "execution_count": 29,
   "metadata": {},
   "outputs": [
    {
     "name": "stdout",
     "output_type": "stream",
     "text": [
      "\"Država\",\"Valuta\",\"Nakupni tečaj\",\"Prodajni tečaj\"\n",
      "\"ZDA\",\"USD\",1.1913,1.1633\n",
      "\"Velika Britanija\",\"GBP\",0.9045,0.8785\n",
      "\"Švica\",\"CHF\",1.0965,1.0605\n",
      "\"Hrvaška\",\"HRK\",7.664,7.454\n",
      "\"Madžarska\",\"HUF\",359.65,350.85\n",
      "\"Srbija\",\"RSD\",119.43,115.63\n",
      "\"Bosna in Hercegovina\",\"BAM\",1.998,1.917\n",
      "\"Republika Severna Makedonija\",\"MKD\",62.11,60.29\n",
      "\"Rusija\",\"RUB\",93.54,88.14\n",
      "\"Češka\",\"CZK\",26.94,25.94\n",
      "\"Poljska\",\"PLN\",4.557,4.409\n",
      "\"Bolgarija\",\"BGN\",1.979,1.925\n",
      "\"Norveška\",\"NOK\",10.895,10.555\n",
      "\"Švedska\",\"SEK\",10.346,10.026\n",
      "\"Danska\",\"DKK\",7.5575,7.3335\n",
      "\"Avstralija\",\"AUD\",1.6405,1.5965\n",
      "\"Kanada\",\"CAD\",1.5635,1.5155\n",
      "\"Japonska\",\"JPY\",125.8,122.0\n",
      "\n"
     ]
    }
   ],
   "source": [
    "print(read(\"tecajnica.csv\", encoding=\"utf-8\"))"
   ]
  },
  {
   "cell_type": "markdown",
   "metadata": {},
   "source": [
    "### JSON\n",
    "\n",
    "Kadar podatki niso zgolj tabelarični, temveč imajo večnivojsko (gnezdeno) strukturo, nam pride prav format JSON (https://docs.python.org/3/library/json.html)."
   ]
  },
  {
   "cell_type": "code",
   "execution_count": 30,
   "metadata": {},
   "outputs": [
    {
     "name": "stdout",
     "output_type": "stream",
     "text": [
      "[\n",
      "    {\n",
      "        \"ime\": \"Janez\",\n",
      "        \"ocene\": [\n",
      "            [\n",
      "                \"P1\",\n",
      "                6\n",
      "            ],\n",
      "            [\n",
      "                \"P2\",\n",
      "                null\n",
      "            ]\n",
      "        ]\n",
      "    },\n",
      "    {\n",
      "        \"ime\": \"Teja\",\n",
      "        \"ocene\": [\n",
      "            [\n",
      "                \"P1\",\n",
      "                10\n",
      "            ],\n",
      "            [\n",
      "                \"P2\",\n",
      "                7\n",
      "            ]\n",
      "        ]\n",
      "    }\n",
      "]\n"
     ]
    }
   ],
   "source": [
    "data = [{\"ime\": \"Janez\", \"ocene\": [(\"P1\", 6), (\"P2\", None)]},\n",
    "        {\"ime\": \"Teja\", \"ocene\": [(\"P1\", 10), (\"P2\", 7)]}]\n",
    "\n",
    "import json\n",
    "\n",
    "with open(\"ocene.json\", \"w\") as f:\n",
    "    json.dump(data, f, indent=4)\n",
    "\n",
    "print(read(\"ocene.json\"))"
   ]
  },
  {
   "cell_type": "markdown",
   "metadata": {},
   "source": [
    "Gre za tekstovno datoteko, ki ima za človeka enostavno berljiv format. Vanj lahko med drugim shranimo nize, števila, sezname, slovarje (https://docs.python.org/3/library/json.html#py-to-json-table). Terke in seznami so v json datoteki shranjeni v enaki obliki, zato pri branju vedno dobimo sezname."
   ]
  },
  {
   "cell_type": "code",
   "execution_count": 31,
   "metadata": {},
   "outputs": [
    {
     "name": "stdout",
     "output_type": "stream",
     "text": [
      "[{'ime': 'Janez', 'ocene': [['P1', 6], ['P2', None]]}, {'ime': 'Teja', 'ocene': [['P1', 10], ['P2', 7]]}]\n"
     ]
    }
   ],
   "source": [
    "with open(\"ocene.json\", \"r\") as f:\n",
    "    data = json.load(f)\n",
    "print(data)"
   ]
  },
  {
   "cell_type": "markdown",
   "metadata": {},
   "source": [
    "### Pickle\n",
    "\n",
    "Če podatki ne ustrezajo tipom, ki jih zahteva JSON, temveč gre za neke poljubne objekte v Pythonu, si lahko pomagamo s formatom pickle (https://docs.python.org/3/library/pickle.html). Ta je namenjen prav serializaciji (pretvarjanju v niz/zaporedje) Pythonovih objektov. Rezultat je binarna datoteka, zato moramo pri odpiranju datoteke dodati zastavico `b`, da se zaradi avtomatskih sprememb (npr. oznak za konec vrstice) ne spremeni vsebina. V isto datoteko lahko shranimo tudi več objektov."
   ]
  },
  {
   "cell_type": "code",
   "execution_count": 32,
   "metadata": {},
   "outputs": [],
   "source": [
    "import pickle\n",
    "from datetime import date\n",
    "from fractions import Fraction\n",
    "\n",
    "with open(\"data.pickle\", \"wb\") as f:\n",
    "    pickle.dump(date.today(), f)\n",
    "    pickle.dump(Fraction(1, 3), f)"
   ]
  },
  {
   "cell_type": "markdown",
   "metadata": {},
   "source": [
    "Poglejmo vsebino datoteke."
   ]
  },
  {
   "cell_type": "code",
   "execution_count": 33,
   "metadata": {},
   "outputs": [
    {
     "name": "stdout",
     "output_type": "stream",
     "text": [
      "€\u0004• \u0000\u0000\u0000\u0000\u0000\u0000\u0000Œ\bdatetime”Œ\u0004date”“”C\u0004\u0007å\u000b",
      "\u0017”…”R”.€\u0004•$\u0000\u0000\u0000\u0000\u0000\u0000\u0000Œ\tfractions”Œ\bFraction”“”Œ\u00031/3”…”R”.\n"
     ]
    }
   ],
   "source": [
    "print(read(\"data.pickle\"))"
   ]
  },
  {
   "cell_type": "markdown",
   "metadata": {},
   "source": [
    "Datoteke ne moremo obravnavati kot navadno tekstovno datoteko, čeprav so določeni deli shranjeni v obliki teksta. Pri nalaganju vsebine iz pickle datoteke dobimo Pythonove objekte, s katerimi lahko izvajamo operacije kot pred shranjevanjem."
   ]
  },
  {
   "cell_type": "code",
   "execution_count": 34,
   "metadata": {},
   "outputs": [
    {
     "name": "stdout",
     "output_type": "stream",
     "text": [
      "2021-11-23\n",
      "7/3\n"
     ]
    }
   ],
   "source": [
    "with open(\"data.pickle\", \"rb\") as f:\n",
    "    print(pickle.load(f))\n",
    "    print(pickle.load(f) + 2)"
   ]
  },
  {
   "cell_type": "markdown",
   "metadata": {},
   "source": [
    "Pickle pa ima tudi svoje nevarnosti. Lastnim razredom, lahko preko metode `__reduce__` definiramo način, kako naj se shranijo. Ali pa namesto tega naredimo kakšno drugo grdobijo. Spodnji primer pri shranjevanju in nalaganju izvede še dodaten sistemski ukaz."
   ]
  },
  {
   "cell_type": "code",
   "execution_count": 35,
   "metadata": {},
   "outputs": [
    {
     "name": "stdout",
     "output_type": "stream",
     "text": [
      "delovna mapa: C:\\Tomaz\\FRI\\PEF - Programiranje 2\\PEF-P2\n"
     ]
    }
   ],
   "source": [
    "import os\n",
    "class Oseba:\n",
    "    def __init__(self, ime):\n",
    "        self.ime = ime\n",
    "    @classmethod\n",
    "    def _reconstruct(cls, ime):\n",
    "        print(\"operacijski sistem:\", os.getenv(\"OS\"))\n",
    "        return cls(ime)\n",
    "    def __reduce__(self):\n",
    "        print(\"delovna mapa:\", os.getcwd())\n",
    "        return Oseba._reconstruct, (self.ime,)\n",
    "\n",
    "with open(\"dir.pickle\", \"wb\") as f:\n",
    "    pickle.dump(Oseba(\"Ana\"), f)"
   ]
  },
  {
   "cell_type": "markdown",
   "metadata": {},
   "source": [
    "Če nič hudega sluteči naložimo pickle datoteko, v katero je nekdo shranil objekt s zlonamerno kodo, si brez težav pobrišemo celoten disk ali kaj podobno neugodnega. Ker lahko taka datoteka vsebuje poljubno kodo, nalagamo objekte samo iz virov, ki jim zaupamo."
   ]
  },
  {
   "cell_type": "code",
   "execution_count": 36,
   "metadata": {
    "scrolled": true
   },
   "outputs": [
    {
     "name": "stdout",
     "output_type": "stream",
     "text": [
      "operacijski sistem: Windows_NT\n",
      "Ana\n"
     ]
    }
   ],
   "source": [
    "with open(\"dir.pickle\", \"rb\") as f:\n",
    "    o = pickle.load(f)\n",
    "print(o.ime)"
   ]
  }
 ],
 "metadata": {
  "kernelspec": {
   "display_name": "Python 3",
   "language": "python",
   "name": "python3"
  },
  "language_info": {
   "codemirror_mode": {
    "name": "ipython",
    "version": 3
   },
   "file_extension": ".py",
   "mimetype": "text/x-python",
   "name": "python",
   "nbconvert_exporter": "python",
   "pygments_lexer": "ipython3",
   "version": "3.8.6"
  }
 },
 "nbformat": 4,
 "nbformat_minor": 4
}
