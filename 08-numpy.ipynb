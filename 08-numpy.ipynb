{
 "cells": [
  {
   "cell_type": "markdown",
   "metadata": {},
   "source": [
    "# Znanstveno računanje\n",
    "\n",
    "Znanstveno računanje vključuje obdelavo različnih tipov in količin podatkov. Za Python je na voljo cel kup paketov za obdelavo raznih meritev ([SciPy](https://scipy.org/)), tabelaričnih podatkov ([Pandas](https://pandas.pydata.org/)), vizualizacijo podatkov ([Matplotlib](https://matplotlib.org/), [Seaborn](https://seaborn.pydata.org/)), strojno učenje ([Scikit-learn](https://scikit-learn.org/), [TensorFlow](https://www.tensorflow.org/)), delo s slikami ([OpenCV](https://pypi.org/project/opencv-python/)), analizo besedil ([NLTK](https://www.nltk.org/)) in še marsikaj drugega. Vsi našteti paketi temeljijo na paketu [NumPy](https://numpy.org/), ki si ga bomo podrobneje ogledali."
   ]
  },
  {
   "cell_type": "markdown",
   "metadata": {},
   "source": [
    "## NumPy\n",
    "\n",
    "NumPy (https://numpy.org/) nam omogoča delo z večdimenzionalnimi tabelami podatkov (`ndarray`) s poudarkom na učinkovitosti. Pythonovi seznami (`list`) in zanke so hitri za pisanje, precej manj hitri pa so pri izvajanju. NumPy nam ponuja podatkovno strukturo za delo s tabelami in učinkovite operacije, ki so implementirane z optimizirano C-jevsko kodo.\n",
    "\n",
    "Paket lahko enostavno namestimo z ukazom `pip install numpy` iz ukazne vrstice (https://pypi.org/project/numpy/)."
   ]
  },
  {
   "cell_type": "code",
   "execution_count": 1,
   "metadata": {},
   "outputs": [
    {
     "name": "stdout",
     "output_type": "stream",
     "text": [
      "1.19.3\n"
     ]
    }
   ],
   "source": [
    "import numpy as np\n",
    "print(np.__version__)"
   ]
  },
  {
   "cell_type": "markdown",
   "metadata": {},
   "source": [
    "NumPy tabelo lahko ustvarimo iz Pythonovih seznamov, ali pa uporabimo katero od pripravljenih oblik. Za razliko od Pythonovih seznamov morajo tabele vsebovati podatke istega tipa. Večinoma so namenjene delu s celimi in decimalnimi števili ter logičnimi vredostmi."
   ]
  },
  {
   "cell_type": "code",
   "execution_count": 2,
   "metadata": {},
   "outputs": [
    {
     "name": "stdout",
     "output_type": "stream",
     "text": [
      "[1 2 3 4 5]\n",
      "[[1. 2. 3.]\n",
      " [4. 5. 6.]]\n",
      "[[0. 0. 0. 0.]\n",
      " [0. 0. 0. 0.]\n",
      " [0. 0. 0. 0.]]\n",
      "[[ True  True  True]\n",
      " [ True  True  True]]\n",
      "<class 'numpy.ndarray'>\n",
      "tipi: int32 float64 float64 bool\n"
     ]
    }
   ],
   "source": [
    "x = np.array([1,2,3,4,5])\n",
    "y = np.array([[1.0, 2, 3], [4, 5, 6]])\n",
    "z = np.zeros((3, 4))\n",
    "f = np.full((2, 3), True)\n",
    "\n",
    "print(x), print(y), print(z), print(f)\n",
    "print(type(x))\n",
    "print(\"tipi:\", x.dtype, y.dtype, z.dtype, f.dtype)"
   ]
  },
  {
   "cell_type": "markdown",
   "metadata": {},
   "source": [
    "Pri ustvarjanju tabele lahko definiramo tip z argumentom `dtype`. Podobno kot range nam knjižnica ponuja funkcijo `arange` za izgradnjo aritmetičnega zaporedja. Funkcija `linspace(start, stop, num)` nam z intervala [start, stop] vrne `num` enako razmaknjenih vrednosti, kar nam lahko pride prav pri vzorčenju. Na voljo pa imamo tudi več funkcij za generiranje naključnih tabel."
   ]
  },
  {
   "cell_type": "code",
   "execution_count": 3,
   "metadata": {},
   "outputs": [
    {
     "name": "stdout",
     "output_type": "stream",
     "text": [
      "[[1. 2. 3.]\n",
      " [4. 5. 6.]]\n",
      "[0 1 2 3 4 5 6 7 8 9]\n",
      "[ 5.          6.66666667  8.33333333 10.        ]\n",
      "[[8 7 4 7 4 5 7 7]\n",
      " [6 9 4 3 5 3 5 9]]\n"
     ]
    }
   ],
   "source": [
    "a = np.array([[1, 2, 3], [4, 5, 6]], dtype=np.float64)\n",
    "print(a)\n",
    "r = np.arange(10)\n",
    "print(r)\n",
    "l = np.linspace(5, 10, 4)\n",
    "print(l)\n",
    "rnd = np.random.randint(3, 10, (2,8))\n",
    "print(rnd)"
   ]
  },
  {
   "cell_type": "markdown",
   "metadata": {},
   "source": [
    "Glavni lastnosti tabele sta tip (`dtype`) in oblika (`shape`). Iz oblike lahko enostavno izračunamo tudi število dimenzij (`ndim`) in velikosti (`size`)."
   ]
  },
  {
   "cell_type": "code",
   "execution_count": 4,
   "metadata": {},
   "outputs": [
    {
     "name": "stdout",
     "output_type": "stream",
     "text": [
      "[[1. 2. 3.]\n",
      " [4. 5. 6.]]\n",
      "dtype: float64\n",
      "shape: (2, 3)\n",
      "ndim: 2\n",
      "size: 6\n"
     ]
    }
   ],
   "source": [
    "print(a)\n",
    "print(\"dtype:\", a.dtype)\n",
    "print(\"shape:\", a.shape)\n",
    "print(\"ndim:\", a.ndim)\n",
    "print(\"size:\", a.size)"
   ]
  },
  {
   "cell_type": "markdown",
   "metadata": {},
   "source": [
    "Zanimiva operacija je sprememba oblike tabele z metodo `reshape`, ki to doseže brez kopiranja podatkov. Metoda sprejme kot argument terko, ki definira novo obliko. \n",
    "\n",
    "Podatki v 2D tabeli so v pomnilniku tipično shranjeni po vrsticah en za drugim. Informacija o obliki tabele pa nam omogoča, da lahko dostopamo do pravih elementov. Če želimo dostopati do podatka v vrstici $y$ in stolpcu $x$, ga najdemo na mestu $y \\cdot \\text{širina} + x$. S spremembo širine tabele se spremeni izračun za dostop do elementov brez vsakršne reorganizacije podatkov. "
   ]
  },
  {
   "cell_type": "code",
   "execution_count": 5,
   "metadata": {},
   "outputs": [
    {
     "name": "stdout",
     "output_type": "stream",
     "text": [
      "[1. 2. 3. 4. 5. 6.]\n",
      "[[1. 2. 3. 4. 5. 6.]]\n",
      "[[1. 2.]\n",
      " [3. 4.]\n",
      " [5. 6.]]\n"
     ]
    }
   ],
   "source": [
    "print(a.reshape(6))\n",
    "print(a.reshape((1,6)))\n",
    "print(a.reshape((3,2)))"
   ]
  },
  {
   "cell_type": "markdown",
   "metadata": {},
   "source": [
    "### Operacije\n",
    "\n",
    "Operacije, ki jih izvajamo nad tabelami, se izvedejo nad vsemi elementi tabele. Rečemo jim tudi **vektorske operacije**. S tem se izognemo zankam in jih preložimo na C-jevsko implementacijo, ki se skriva za knjižnico. Ker je izvajanje iste operacije na več podatkih pogosta operacija, so temu prilagojeni tudi današnji procesorji (https://en.wikipedia.org/wiki/SIMD) s posebnimi ukazi, ki jih izkorišča koda v ozadju."
   ]
  },
  {
   "cell_type": "code",
   "execution_count": 6,
   "metadata": {},
   "outputs": [
    {
     "name": "stdout",
     "output_type": "stream",
     "text": [
      "[[1. 2. 3.]\n",
      " [4. 5. 6.]]\n",
      "[[-2. -1.  0.]\n",
      " [ 1.  2.  3.]]\n",
      "[[-20. -10.   0.]\n",
      " [ 10.  20.  30.]]\n",
      "[[400. 100.   0.]\n",
      " [100. 400. 900.]]\n",
      "[[False  True  True]\n",
      " [ True False False]]\n"
     ]
    }
   ],
   "source": [
    "print(a)\n",
    "print(a-3)\n",
    "print((a-3)*10)\n",
    "print(((a-3)*10)**2)\n",
    "print(((a-3)*10)**2 < 300)"
   ]
  },
  {
   "cell_type": "markdown",
   "metadata": {},
   "source": [
    "Tudi operacije med tabelami delujejo podobno. Operacija se izvede med vsemi istoležnimi pari elementov."
   ]
  },
  {
   "cell_type": "code",
   "execution_count": 7,
   "metadata": {},
   "outputs": [
    {
     "name": "stdout",
     "output_type": "stream",
     "text": [
      "[[1. 2. 3.]\n",
      " [4. 5. 6.]]\n",
      "[[ 0  2  4]\n",
      " [ 6  8 10]]\n",
      "[[ 1.  4.  7.]\n",
      " [10. 13. 16.]]\n",
      "[[ True  True False]\n",
      " [False False False]]\n"
     ]
    }
   ],
   "source": [
    "b = np.arange(6).reshape((2,3))*2\n",
    "print(a), print(b)\n",
    "print(a + b)\n",
    "print(a >= b)"
   ]
  },
  {
   "cell_type": "markdown",
   "metadata": {},
   "source": [
    "V primeru operacije nad tabelami različnih dimenzij, lahko NumPy v določenih primerih ugotovi, s čim se strukturno ujema, in uspešno izvede operacijo."
   ]
  },
  {
   "cell_type": "code",
   "execution_count": 8,
   "metadata": {},
   "outputs": [
    {
     "name": "stdout",
     "output_type": "stream",
     "text": [
      "[[ 1. 12.  3.]\n",
      " [ 4. 15.  6.]]\n",
      "[[ 1.  2.  3.]\n",
      " [14. 15. 16.]]\n"
     ]
    },
    {
     "ename": "ValueError",
     "evalue": "operands could not be broadcast together with shapes (2,3) (1,2) ",
     "output_type": "error",
     "traceback": [
      "\u001b[1;31m---------------------------------------------------------------------------\u001b[0m",
      "\u001b[1;31mValueError\u001b[0m                                Traceback (most recent call last)",
      "\u001b[1;32m<ipython-input-8-3021d94be55e>\u001b[0m in \u001b[0;36m<module>\u001b[1;34m\u001b[0m\n\u001b[0;32m      1\u001b[0m \u001b[0mprint\u001b[0m\u001b[1;33m(\u001b[0m\u001b[0ma\u001b[0m \u001b[1;33m+\u001b[0m \u001b[0mnp\u001b[0m\u001b[1;33m.\u001b[0m\u001b[0marray\u001b[0m\u001b[1;33m(\u001b[0m\u001b[1;33m[\u001b[0m\u001b[1;36m0\u001b[0m\u001b[1;33m,\u001b[0m\u001b[1;36m10\u001b[0m\u001b[1;33m,\u001b[0m\u001b[1;36m0\u001b[0m\u001b[1;33m]\u001b[0m\u001b[1;33m)\u001b[0m\u001b[1;33m)\u001b[0m\u001b[1;33m\u001b[0m\u001b[1;33m\u001b[0m\u001b[0m\n\u001b[0;32m      2\u001b[0m \u001b[0mprint\u001b[0m\u001b[1;33m(\u001b[0m\u001b[0ma\u001b[0m \u001b[1;33m+\u001b[0m \u001b[0mnp\u001b[0m\u001b[1;33m.\u001b[0m\u001b[0marray\u001b[0m\u001b[1;33m(\u001b[0m\u001b[1;33m[\u001b[0m\u001b[1;33m[\u001b[0m\u001b[1;36m0\u001b[0m\u001b[1;33m]\u001b[0m\u001b[1;33m,\u001b[0m \u001b[1;33m[\u001b[0m\u001b[1;36m10\u001b[0m\u001b[1;33m]\u001b[0m\u001b[1;33m]\u001b[0m\u001b[1;33m)\u001b[0m\u001b[1;33m)\u001b[0m\u001b[1;33m\u001b[0m\u001b[1;33m\u001b[0m\u001b[0m\n\u001b[1;32m----> 3\u001b[1;33m \u001b[0mprint\u001b[0m\u001b[1;33m(\u001b[0m\u001b[0ma\u001b[0m \u001b[1;33m+\u001b[0m \u001b[0mnp\u001b[0m\u001b[1;33m.\u001b[0m\u001b[0marray\u001b[0m\u001b[1;33m(\u001b[0m\u001b[1;33m[\u001b[0m\u001b[1;33m[\u001b[0m\u001b[1;36m0\u001b[0m\u001b[1;33m,\u001b[0m\u001b[1;36m10\u001b[0m\u001b[1;33m]\u001b[0m\u001b[1;33m]\u001b[0m\u001b[1;33m)\u001b[0m\u001b[1;33m)\u001b[0m  \u001b[1;31m# ne deluje\u001b[0m\u001b[1;33m\u001b[0m\u001b[1;33m\u001b[0m\u001b[0m\n\u001b[0m",
      "\u001b[1;31mValueError\u001b[0m: operands could not be broadcast together with shapes (2,3) (1,2) "
     ]
    }
   ],
   "source": [
    "print(a + np.array([0,10,0]))\n",
    "print(a + np.array([[0], [10]]))\n",
    "print(a + np.array([[0,10]]))  # ne deluje"
   ]
  },
  {
   "cell_type": "markdown",
   "metadata": {},
   "source": [
    "Na razpolago je tudi več funkcij za akumuliraje vrednosti. Najbolj očiten primer je vsota (`sum`). Povejmo še, da večina funkcij obstaja v dveh oblikah: kot metoda tabele (`a.sum()`) ali pa kot funkcija iz modula numpy, ki sprejme tabelo (`np.sum(a)`)."
   ]
  },
  {
   "cell_type": "code",
   "execution_count": 9,
   "metadata": {},
   "outputs": [
    {
     "name": "stdout",
     "output_type": "stream",
     "text": [
      "[[1. 2. 3.]\n",
      " [4. 5. 6.]]\n",
      "sum: 21.0 21.0\n"
     ]
    }
   ],
   "source": [
    "print(a)\n",
    "print(\"sum:\", a.sum(), np.sum(a))"
   ]
  },
  {
   "cell_type": "markdown",
   "metadata": {},
   "source": [
    "Pomemben argument funkcij za agregiranje je `axis`, s katerim lahko definiramo dimenzijo, po kateri izvajamo agregacijo. Če želimo seštevati vrednosti po stolpcih, podamo vrednost `axis=0`. Zanka, ki bo izvajala agregacijo, bo namreč tekla pa vrsticah, ki so prva dimenzija (z indeksom 0)."
   ]
  },
  {
   "cell_type": "code",
   "execution_count": 10,
   "metadata": {},
   "outputs": [
    {
     "name": "stdout",
     "output_type": "stream",
     "text": [
      "vsota stolpcev:  [5. 7. 9.]\n",
      "max po vrsticah: [3. 6.]\n"
     ]
    }
   ],
   "source": [
    "print(\"vsota stolpcev: \", a.sum(axis=0))\n",
    "print(\"max po vrsticah:\", a.max(axis=1))"
   ]
  },
  {
   "cell_type": "markdown",
   "metadata": {},
   "source": [
    "Za agregiranje logičnih vrednosti nam prideta prav `all` in `any`."
   ]
  },
  {
   "cell_type": "code",
   "execution_count": 11,
   "metadata": {
    "scrolled": true
   },
   "outputs": [
    {
     "name": "stdout",
     "output_type": "stream",
     "text": [
      "all: False\n",
      "any: [ True  True False]\n"
     ]
    }
   ],
   "source": [
    "print(\"all:\", np.all(a<4))\n",
    "print(\"any:\", np.any(a<2.5, axis=0))"
   ]
  },
  {
   "cell_type": "markdown",
   "metadata": {},
   "source": [
    "### Hitrost\n",
    "\n",
    "Primerjavo hitrosti računanja bomo izvedli na primeru izračuna standardne deviacije: $\\sigma ={\\sqrt {{\\frac {1}{N}}\\sum _{i=1}^{N}(x_{i}-\\mu )^{2}}}$, $\\mu ={\\frac {1}{N}}\\sum _{i=1}^{N}x_{i}$.\n",
    "\n",
    "Računali jo bomo na vzorcu števil iz enakomerne porazdelitve na intervalu $[a, b]$. Vrednost, ki jo pričakujemo ob dovolj velikem vzorcu, je enaka korenu variance, torej $\\sqrt{\\frac{1}{12}(b-a)^{2}}$ (https://en.wikipedia.org/wiki/Continuous_uniform_distribution)."
   ]
  },
  {
   "cell_type": "code",
   "execution_count": 12,
   "metadata": {},
   "outputs": [
    {
     "name": "stdout",
     "output_type": "stream",
     "text": [
      "pričakovana vrednost: 115.47005383792515\n"
     ]
    }
   ],
   "source": [
    "from random import uniform\n",
    "from time import time\n",
    "\n",
    "lo, hi = 100, 500\n",
    "x = [uniform(lo,hi) for i in range(5*10**6)]\n",
    "a = np.array(x)\n",
    "\n",
    "print(\"pričakovana vrednost:\", (1/12*(hi-lo)**2)**0.5)"
   ]
  },
  {
   "cell_type": "markdown",
   "metadata": {},
   "source": [
    "Standardno deviacijo bomo izračunali na štiri načine:\n",
    "- s `for` zankami,\n",
    "- z uporabo funkcije `sum` in generatorjev,\n",
    "- z vektorskimi operacijami nad numpy tabelo,\n",
    "- direkto s funkcijo `std`."
   ]
  },
  {
   "cell_type": "code",
   "execution_count": 13,
   "metadata": {},
   "outputs": [
    {
     "name": "stdout",
     "output_type": "stream",
     "text": [
      "for 115.45137537830561 1.2855761051177979\n",
      "gen 115.45137537830561 0.8329365253448486\n",
      "np  115.45137537830394 0.03961968421936035\n",
      "std 115.45137537830394 0.03470802307128906\n"
     ]
    }
   ],
   "source": [
    "start = time()\n",
    "avg = 0\n",
    "for i in x:\n",
    "    avg += i\n",
    "avg /= len(x)\n",
    "rez = 0\n",
    "for i in x:\n",
    "    rez += (i-avg)**2\n",
    "std = (rez/len(x))**0.5\n",
    "print(\"for\", std, time()-start)\n",
    "\n",
    "start = time()\n",
    "avg = sum(x)/len(x)\n",
    "std = (sum((i-avg)**2 for i in x)/len(x))**0.5\n",
    "print(\"gen\", std, time()-start)\n",
    "\n",
    "start = time()\n",
    "std = (np.sum((a-np.mean(a))**2)/a.size)**0.5\n",
    "print(\"np \", std, time()-start)\n",
    "\n",
    "start = time()\n",
    "std = np.std(a)\n",
    "print(\"std\", std, time()-start)"
   ]
  },
  {
   "cell_type": "markdown",
   "metadata": {},
   "source": [
    "Vidimo, da sta rešitvi z uporabo NumPy knjižnice več kot 20-krat hitrejši!"
   ]
  },
  {
   "cell_type": "markdown",
   "metadata": {},
   "source": [
    "### Indeksiranje\n",
    "\n",
    "Tabele lahko indeksiramo na enak način kot gnezdene sezname v Pythonu (`a[y][x]`). Poleg tega pa imamo na voljo še indeksiranje s terkami `a[(y,x)]` oz. ekvivalenten zapis `a[y,x]`."
   ]
  },
  {
   "cell_type": "code",
   "execution_count": 14,
   "metadata": {},
   "outputs": [
    {
     "name": "stdout",
     "output_type": "stream",
     "text": [
      "[[1 2 3]\n",
      " [4 5 6]\n",
      " [7 8 9]]\n",
      "[4 5 6]\n",
      "6 6 6\n"
     ]
    }
   ],
   "source": [
    "a = np.array([[1, 2, 3], [4, 5, 6], [7, 8, 9]])\n",
    "print(a)\n",
    "print(a[1])\n",
    "print(a[1][2], a[(1,2)], a[1,2])"
   ]
  },
  {
   "cell_type": "markdown",
   "metadata": {},
   "source": [
    "Uporabljamo lahko tudi rezanje (slice)."
   ]
  },
  {
   "cell_type": "code",
   "execution_count": 15,
   "metadata": {},
   "outputs": [
    {
     "name": "stdout",
     "output_type": "stream",
     "text": [
      "[5 6]\n",
      "[3 6 9]\n"
     ]
    }
   ],
   "source": [
    "print(a[1, 1:3])\n",
    "print(a[:,2])"
   ]
  },
  {
   "cell_type": "markdown",
   "metadata": {},
   "source": [
    "Numpy pa nam ponuja novost pri indeksiranju, in sicer indeksiranje s tabelami. Namesto enega indeksa ali rezine, lahko podamo seznam indeksov. V spodnjem primeru lahko izločimo samo prvo in zadnjo vrstico, ali pa dodatno še srednji stolpec."
   ]
  },
  {
   "cell_type": "code",
   "execution_count": 16,
   "metadata": {},
   "outputs": [
    {
     "name": "stdout",
     "output_type": "stream",
     "text": [
      "[[1 2 3]\n",
      " [7 8 9]]\n",
      "[2 8]\n"
     ]
    }
   ],
   "source": [
    "ind = np.array([0,2])\n",
    "print(a[ind])\n",
    "print(a[ind,1])"
   ]
  },
  {
   "cell_type": "markdown",
   "metadata": {},
   "source": [
    "Sočasno indeksiranje s seznami po več dimenzijah deluje drugače od pričakovanj. Ker se pogosto ločeno shranjuje indekse po posameznih dimenzijah, nam sintaksa `a[r,c]`, kjer sta `r` in `c` tabeli indeksov, vrne `a[r[0], c[0]]`, `a[r[1], c[1]]`, ... Če želimo iz tabele izločiti vrstice iz seznama `r` in stolpce iz seznama `c`, to storimo v dveh korakih indeksiranja."
   ]
  },
  {
   "cell_type": "code",
   "execution_count": 17,
   "metadata": {},
   "outputs": [
    {
     "name": "stdout",
     "output_type": "stream",
     "text": [
      "[[1 2 3]\n",
      " [4 5 6]\n",
      " [7 8 9]]\n",
      "[2 9]\n",
      "[[2 3]\n",
      " [8 9]]\n"
     ]
    }
   ],
   "source": [
    "print(a)\n",
    "\n",
    "rows = np.array([0, 2])\n",
    "cols = np.array([1, 2])\n",
    "print(a[rows,cols])\n",
    "\n",
    "print(a[rows][:,cols])"
   ]
  },
  {
   "cell_type": "markdown",
   "metadata": {},
   "source": [
    "Poseben način indeksiranja s tabelami je indeksiranje s tabelami logičnih vrednosti, ki označujejo, katere elemente želimo izbrati in katerih ne."
   ]
  },
  {
   "cell_type": "code",
   "execution_count": 18,
   "metadata": {},
   "outputs": [
    {
     "name": "stdout",
     "output_type": "stream",
     "text": [
      "[[1 3]\n",
      " [4 6]\n",
      " [7 9]]\n"
     ]
    }
   ],
   "source": [
    "mask = [True, False, True]\n",
    "print(a[:,mask])"
   ]
  },
  {
   "cell_type": "markdown",
   "metadata": {},
   "source": [
    "### Linearna algebra\n",
    "\n",
    "Poleg večdimenzionalnih tabel ponuja NumPy tudi podporo za osnovne statistične operacije, generiranje naključnih števil in operacije linearne algebre.\n",
    "\n",
    "Pogosta operacija je izračun inverza matrike. Ker ne gre za trivialno operacijo, nam prav pride fukcija `np.linalg.inv`. Produkt matrike s svojim inverzom bi moral vrniti identiteto. Pri tem moramo biti pazljivi, da ne množimo matrik z operatorjem `*`, ki pomnoži zgolj istoležne elemente, temveč uporabimo funkcijo `np.matmul`."
   ]
  },
  {
   "cell_type": "code",
   "execution_count": 19,
   "metadata": {},
   "outputs": [
    {
     "name": "stdout",
     "output_type": "stream",
     "text": [
      "[[2 3]\n",
      " [2 1]]\n",
      "[[-0.25  0.75]\n",
      " [ 0.5  -0.5 ]]\n",
      "[[-0.5   2.25]\n",
      " [ 1.   -0.5 ]]\n",
      "[[1. 0.]\n",
      " [0. 1.]]\n"
     ]
    }
   ],
   "source": [
    "A = np.array([[2,3],\n",
    "              [2,1]])\n",
    "Ai = np.linalg.inv(A)\n",
    "print(A), print(Ai)\n",
    "print(A*Ai)  # množenje po elementih\n",
    "print(np.matmul(A, Ai))  # množenje matrik"
   ]
  },
  {
   "cell_type": "markdown",
   "metadata": {},
   "source": [
    "Druga pogosta tema so lastni vektorje in lastne vrednosti. Gre za vektorje, ki jih transformacija z matriko zgolj raztegne in sicer za pripadajočo lastno vrednost. Povedano bolj formalno — če je $x$ lastni vektor matrike $A$, velja $A x = \\lambda x$, kjer je $\\lambda$ pripadajoča lastna vrednost. Funkcija `np.linalg.eig` nam vrne seznam lastnih vrednosti in tabelo enotskih lastnih vektorjev, ki se nahajajo v stolpcih."
   ]
  },
  {
   "cell_type": "code",
   "execution_count": 20,
   "metadata": {},
   "outputs": [
    {
     "name": "stdout",
     "output_type": "stream",
     "text": [
      "[ 4. -1.]\n",
      "[[ 0.83205029 -0.70710678]\n",
      " [ 0.5547002   0.70710678]]\n",
      "dolžina: 1.0\n",
      "True\n",
      "True\n"
     ]
    }
   ],
   "source": [
    "values, vectors = np.linalg.eig(A)\n",
    "print(values)\n",
    "print(vectors)\n",
    "l1, l2 = values\n",
    "v1, v2 = vectors[:,0], vectors[:,1]\n",
    "print(\"dolžina:\", np.linalg.norm(v1))\n",
    "print(np.all(np.matmul(A, v1) == l1*v1))\n",
    "print(np.all(np.matmul(A, v2) == l2*v2))"
   ]
  },
  {
   "cell_type": "markdown",
   "metadata": {},
   "source": [
    "Preslikavo vektorja z matriko lahko torej izvedemo s transformacijo vektorja v nov koordinatni sistem z bazo lastnih vektorjev, komponente v novi bazi skaliramo s pripadajočimi lastnimi vrednostmi in izvedemo transformacijo nazaj v standardni koordinatni sistem. Gre za daljšo pot, ki pa je lahko v določenih primer bolj primerna, ker je v novi bazi siceršnja transformacija z matriko zgolj skaliranje vrednosti.\n",
    "\n",
    "Izberimo si vektor, ki ga želimo transformirati, in si oglejmo rezultat, ki ga iščemo."
   ]
  },
  {
   "cell_type": "code",
   "execution_count": 21,
   "metadata": {},
   "outputs": [
    {
     "name": "stdout",
     "output_type": "stream",
     "text": [
      "[23 13]\n"
     ]
    }
   ],
   "source": [
    "u = np.array([4,5])\n",
    "print(np.matmul(A,u))"
   ]
  },
  {
   "cell_type": "markdown",
   "metadata": {},
   "source": [
    "Za izvedbo pretvorbe v bazo lastnih vektorjev ($v_1$ in $v_2$) iščemo novi koorindati $a$ in $b$, da bo veljalo $a v_1 + b v_2 = u$. V matrični obliki bi to zapisali kot \n",
    "\n",
    "$$\\begin{pmatrix}v_{1,x} & v_{2,x}\\\\v_{1,y} & v_{1,y}\\end{pmatrix} \\begin{pmatrix}a\\\\b\\end{pmatrix} = \\begin{pmatrix}u_{x}\\\\u_{y}\\end{pmatrix}$$\n",
    "\n",
    "Iščemo torej rešitev linearnega sistema enačb, kar lahko naredimo s funkcijo `np.linalg.solve`."
   ]
  },
  {
   "cell_type": "code",
   "execution_count": 23,
   "metadata": {},
   "outputs": [
    {
     "name": "stdout",
     "output_type": "stream",
     "text": [
      "[6.4899923  1.97989899]\n",
      "[4. 5.]\n"
     ]
    }
   ],
   "source": [
    "f = np.linalg.solve(vectors, u)\n",
    "print(f)\n",
    "print(np.matmul(vectors,f))"
   ]
  },
  {
   "cell_type": "markdown",
   "metadata": {},
   "source": [
    "V novi bazi izvedemo transformacijo, ki je samo skaliranje z lastnimi vrednostmi."
   ]
  },
  {
   "cell_type": "code",
   "execution_count": 24,
   "metadata": {},
   "outputs": [
    {
     "name": "stdout",
     "output_type": "stream",
     "text": [
      "[25.95996918 -1.97989899]\n"
     ]
    }
   ],
   "source": [
    "g = f * values\n",
    "print(g)"
   ]
  },
  {
   "cell_type": "markdown",
   "metadata": {},
   "source": [
    "Na koncu pa rezultat pretvorimo nazaj v osnovni koordinatni sistem. Če se nismo kje zmotili, bi morali dobiti iskani rezultat."
   ]
  },
  {
   "cell_type": "code",
   "execution_count": 25,
   "metadata": {},
   "outputs": [
    {
     "name": "stdout",
     "output_type": "stream",
     "text": [
      "[23. 13.]\n"
     ]
    }
   ],
   "source": [
    "print(np.matmul(vectors, g))"
   ]
  }
 ],
 "metadata": {
  "kernelspec": {
   "display_name": "Python 3",
   "language": "python",
   "name": "python3"
  },
  "language_info": {
   "codemirror_mode": {
    "name": "ipython",
    "version": 3
   },
   "file_extension": ".py",
   "mimetype": "text/x-python",
   "name": "python",
   "nbconvert_exporter": "python",
   "pygments_lexer": "ipython3",
   "version": "3.8.6"
  }
 },
 "nbformat": 4,
 "nbformat_minor": 4
}
