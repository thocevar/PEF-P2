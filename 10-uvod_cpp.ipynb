{
 "cells": [
  {
   "cell_type": "markdown",
   "id": "77a723eb",
   "metadata": {},
   "source": [
    "# Uvod v C++\n",
    "\n",
    "Za izvajanje programa napisanega v Pythonu potrebuje uporabnik tolmača (*interpreter*), ki zna izvajati napisani program. C++ pa je prevajan programski jezik. Izvorna koda v C++ se z uporabo prevajalnika (*compiler*) prevede v izvedljivo datoteko (*executable*), ki vsebuje strojno kodo (*machine code*). Uporabnik tako ne potrebuje prevajalnika za izvajanje programa v C++, ampak samo izvršljivo datoteko prevedeno za njegov operacijski sistem.\n",
    "\n",
    "Spodnja koda prikazuje osnovni \"Hello, World!\" program v C++."
   ]
  },
  {
   "cell_type": "markdown",
   "id": "95090670",
   "metadata": {},
   "source": [
    "```C++\n",
    "#include <iostream>\n",
    "using namespace std;\n",
    "\n",
    "int main() {\n",
    "    cout << \"Zivjo!\" << endl;\n",
    "    return 0;\n",
    "}\n",
    "```"
   ]
  },
  {
   "cell_type": "markdown",
   "id": "52a50be5",
   "metadata": {},
   "source": [
    "## Prevajanje\n",
    "\n",
    "Za pisanje programov v C++ potrebujete *razvojno okolje*, v katerem boste pisali program. To je lahko navadna beležnica ali kakšno drugo naprednejše orodje za razvoj programov (npr. Code::Blocks, Visual Studio Code, Sublime, ...) Poleg tega potrebujete še *prevajalnik*. V Linuxu tega problema nimate, ker praktično vse distribucije že vsebujejo GCC (GNU Compiler Collection) prevajalnik za C++. Za macOS je običajna izbira Clang, na Windowsih pa bo to Microsoft Visual C++ (ki je del Microsoft Visual Studia) ali kakšna različica GCC-ja za Windowse.\n",
    "\n",
    "Za učenje programiranja v C++ predlagam uporabo okolja (*IDE*) [Code::Blocks](https://www.codeblocks.org/), s katerim lahko hkrati enostavno namestite tudi GCC prevajalnik iz projekta MinGW (Minimalist GNU for Windows).\n",
    "\n",
    "Datoteko `program.cpp` lahko iz ukazne vrstice prevedete z ukazom `g++ program.cpp`. Na Windowsih bo prevajalnik sestavil izvršljivo datoteko `a.exe`, na Linuxu pa `a.out`. Da ni dileme, mu lahko podamo želeno ime z `g++ -o program.exe program.cpp`."
   ]
  },
  {
   "cell_type": "markdown",
   "id": "aded2e4b",
   "metadata": {},
   "source": [
    "Oglejmo si posamezne komponente prvega programa. Najprej vključimo knjižnico za delo z vhodno-izhodnimi operacijami."
   ]
  },
  {
   "cell_type": "code",
   "execution_count": 1,
   "id": "2baabe62",
   "metadata": {},
   "outputs": [],
   "source": [
    "#include <iostream>"
   ]
  },
  {
   "cell_type": "markdown",
   "id": "675eedac",
   "metadata": {},
   "source": [
    "Funkcije in konstante iz standardne knjižnice se nahajajo v imenskem prostoru `std`. Do objekta za delo s standardnim izhodom (`cout` - character output) dostopamo s `std::cout`. Ta objekt podpira operator `<<`, ki izvede izpis argumenta na izhod in prikladno vrne isti objekt, da lahko verižimo več operatorjev."
   ]
  },
  {
   "cell_type": "code",
   "execution_count": 2,
   "id": "60b8756b",
   "metadata": {},
   "outputs": [
    {
     "name": "stdout",
     "output_type": "stream",
     "text": [
      "Zivjo!\n"
     ]
    }
   ],
   "source": [
    "std::cout << \"Zivjo!\" << std::endl;"
   ]
  },
  {
   "cell_type": "markdown",
   "id": "3535e0ea",
   "metadata": {},
   "source": [
    "Da se izognemo vsakokratnemu pisanju `std::`, lahko vse definicije uvozimo v trenutni imenski prostor z ukazom `using namespace`, podobno kot smo to storili z `import *` v Pythonu."
   ]
  },
  {
   "cell_type": "code",
   "execution_count": 3,
   "id": "ff15fc83",
   "metadata": {},
   "outputs": [
    {
     "name": "stdout",
     "output_type": "stream",
     "text": [
      "Zivjo!\n"
     ]
    }
   ],
   "source": [
    "using namespace std;\n",
    "cout << \"Zivjo!\" << endl;"
   ]
  },
  {
   "cell_type": "markdown",
   "id": "fbc5a619",
   "metadata": {},
   "source": [
    "## Tipi spremenljivk\n",
    "\n",
    "V C++ imajo vse spremenljivke točno določen *tip*, ki ga moramo določiti pred prvo uporabo, čemur rečemo *deklaracija* spremenljivke. Deklariramo lahko vsako spremenljivko posebej, ali pa več spremenljivk istega tipa hkrati. Pri tem lahko spremenljivkam nastavimo tudi začetno vrednost, s čimer jo *inicializiramo*. V nasprotnem primeru ima spremenljivka tako vrednost, kot se je slučajno nahajala v delu pomnilnika, ki je bil dodeljen spremenljivki (*allocation*). Verjetno bo ta del prazen in bodo številske vrednosti 0, ni pa to nujno!"
   ]
  },
  {
   "cell_type": "code",
   "execution_count": 4,
   "id": "c94ef43f",
   "metadata": {},
   "outputs": [
    {
     "name": "stdout",
     "output_type": "stream",
     "text": [
      "0 3 0\n"
     ]
    }
   ],
   "source": [
    "int x;\n",
    "int y=3, z;\n",
    "cout << x << \" \" << y << \" \" << z << endl;"
   ]
  },
  {
   "cell_type": "markdown",
   "id": "f47246d0",
   "metadata": {},
   "source": [
    "Spremenimo program, da bo prebral dve števili in izpisal njuno vsoto. Uporabili bomo kar spremenljivki `x` in `y` od prej. Z uporabo objekta `cin` dostopamo do standardnega vhoda, iz katerega beremo elemente z operatorjem `>>`. Podobno kot `cout` omogoča veriženje. Branje s `cin` preskoči bele znake (whitespace) do naslednjega elementa, ki ga prebere v podano spremenljivko. Tako je vseeno, ali sta števili v isti vrstici ločeni s presledkom, ali pa v dveh vrsticah (ločeni z znakom `\\n`)."
   ]
  },
  {
   "cell_type": "code",
   "execution_count": 5,
   "id": "193294d5",
   "metadata": {},
   "outputs": [
    {
     "name": "stdout",
     "output_type": "stream",
     "text": [
      "vnesi dve stevili: 5 7\n",
      "vsota = 12\n"
     ]
    }
   ],
   "source": [
    "cout << \"vnesi dve stevili: \";\n",
    "cin >> x >> y;\n",
    "cout << \"vsota = \" << x+y << endl;"
   ]
  },
  {
   "cell_type": "markdown",
   "id": "abb60ec8",
   "metadata": {},
   "source": [
    "### Cela števila\n",
    "\n",
    "Oglejmo si osnovne tipe spremenljivk (https://en.cppreference.com/w/cpp/language/types). Za delo s celimi števili imamo na voljo več tipov, ki lahko hranijo različne razpone vrednosti in zasedajo različno količino pomnilnika. Celo isti tip lahko na različnih arhitekturah in operacijskih sistemih hrani različno velike vrednosti. Najbolj običajen celoštevilski tip je `int`, ki po standardu zaseda vsaj 16 bitov, v praksi pa praktično povsod 32 bitov (4 bajte). To pomeni, da lahko hrani vrednosti približno v območju +-2 milijardi."
   ]
  },
  {
   "cell_type": "code",
   "execution_count": 6,
   "id": "14ac86d5",
   "metadata": {},
   "outputs": [
    {
     "name": "stdout",
     "output_type": "stream",
     "text": [
      "cela stevila: 123 1000000000 1000000000000000000\n",
      "velikosti (bytes): 4 8 8\n"
     ]
    }
   ],
   "source": [
    "int a = 123;\n",
    "long b = 1000000000;\n",
    "long long c = 1000000000000000000;\n",
    "cout << \"cela stevila: \" << a << \" \" << b << \" \" << c << endl;\n",
    "cout << \"velikosti (bytes): \" << sizeof(a) << \" \" << sizeof(b) << \" \" << sizeof(c) << endl;"
   ]
  },
  {
   "cell_type": "markdown",
   "id": "2ee4c91a",
   "metadata": {},
   "source": [
    "Pri programiranju moramo biti pozorni na velikosti vrednosti. Če velikost preseže razpon vrednosti tipa, pride do preliva (*overflow*) in napačnih vrednosti."
   ]
  },
  {
   "cell_type": "code",
   "execution_count": 7,
   "id": "acf43c1b",
   "metadata": {},
   "outputs": [
    {
     "name": "stdout",
     "output_type": "stream",
     "text": [
      "1000000000000\n",
      "2147483647\n"
     ]
    }
   ],
   "source": [
    "cin >> a;\n",
    "cout << a << endl;"
   ]
  },
  {
   "cell_type": "markdown",
   "id": "7a90c6bb",
   "metadata": {},
   "source": [
    "### Decimalna števila\n",
    "\n",
    "Tudi tipi za shranjevanje števil s plavajočo vejico (floating point) so različnih velikosti. Od velikosti tipa je odvisna natančnost shranjenih števil, ki npr. za tip `double` predstavlja približno 15 decimalnih mest (https://en.wikipedia.org/wiki/Double-precision_floating-point_format)."
   ]
  },
  {
   "cell_type": "code",
   "execution_count": 8,
   "id": "97b5922d",
   "metadata": {},
   "outputs": [
    {
     "name": "stdout",
     "output_type": "stream",
     "text": [
      "12.3\n",
      "vrednosti: 0.31 12.3\n",
      "velikosti (bytes): 4 8\n"
     ]
    }
   ],
   "source": [
    "float f = 0.31;\n",
    "double g;\n",
    "cin >> g;\n",
    "cout << \"vrednosti: \" << f << \" \" << g << endl;\n",
    "cout << \"velikosti (bytes): \" << sizeof(f) << \" \" << sizeof(g) << endl;"
   ]
  },
  {
   "cell_type": "markdown",
   "id": "629a882b",
   "metadata": {},
   "source": [
    "### Logične vrednosti\n",
    "\n",
    "Za predstavitev logičnih konstant uporabljamo tip `bool`, ki ima lahko vrednost `true` ali `false`. Na voljo imamo operatorje ali (`||`), in (`&&`) ter negacijo (`!`)."
   ]
  },
  {
   "cell_type": "code",
   "execution_count": 9,
   "id": "5a88dfb8",
   "metadata": {},
   "outputs": [
    {
     "name": "stdout",
     "output_type": "stream",
     "text": [
      "1 0\n",
      "velikost (bytes): 1\n",
      "ali/in: 1 0\n",
      "negacija: 1\n"
     ]
    }
   ],
   "source": [
    "bool resnicno = true;\n",
    "bool neresnicno = false;\n",
    "cout << resnicno << \" \" << neresnicno << endl;\n",
    "bool ali = resnicno || neresnicno;\n",
    "bool in = resnicno && neresnicno;\n",
    "cout << \"velikost (bytes): \" << sizeof(resnicno) << endl;\n",
    "cout << \"ali/in: \" << ali << \" \" << in << endl;\n",
    "cout << \"negacija: \" << !in << endl;"
   ]
  },
  {
   "cell_type": "markdown",
   "id": "fcf1fa88",
   "metadata": {},
   "source": [
    "### Nizi in znaki\n",
    "\n",
    "Obstajata dva tipa nizov. Prvi izhajajo iz C-ja in so zaporedja znakov, ki se zaključijo z `\\0`. Z njimi se bomo ukvarjali kasneje, ko bodo na vrsti kazalci. Drugi pa so nizi v C++, ki so tipa `string`. C++ loči med nizi in posameznimi znaki, ki so tipa `char`. Pri posameznih znakih gre pravzaprav za celoštevilsko spremenljivko, ki hrani ASCII kodo znaka. Do posameznih znakov v nizu lahko dostopamo in jih spreminjamo z indeksiranjem. Nize tipa `string` lahko seštevamo. Kljub temu pa vsota nizov `\"abc\" + \"cde\"`ne bo delovala. Konstantni nizi so namreč C-jevskega tipa in se ne znajo seštevati. Iz njih moramo najprej ustvariti objekt tipa `string`, da jih lahko seštevamo."
   ]
  },
  {
   "cell_type": "code",
   "execution_count": 10,
   "id": "6ca71322",
   "metadata": {},
   "outputs": [],
   "source": [
    "#include <string>"
   ]
  },
  {
   "cell_type": "markdown",
   "id": "15beeefb",
   "metadata": {},
   "source": [
    "Za delo s `stringi` moramo najprej vključiti [knjižnico](https://en.cppreference.com/w/cpp/string/basic_string), če je posredno ne vključuje katera od že vključenih knjižnic."
   ]
  },
  {
   "cell_type": "code",
   "execution_count": 12,
   "id": "2bb3ac1c",
   "metadata": {},
   "outputs": [
    {
     "name": "stdout",
     "output_type": "stream",
     "text": [
      "dolzina: 3\n",
      "Miha\n",
      "ANA, Miha\n"
     ]
    }
   ],
   "source": [
    "string s = \"ana\";\n",
    "cout << \"dolzina: \" << s.size() << endl;\n",
    "\n",
    "char z = 'A';\n",
    "s[0] = z;\n",
    "s[1] = 'A'+(s[1]-'a');\n",
    "s[2] = 'A'+(s[2]-'a');\n",
    "\n",
    "string t;\n",
    "cin >> t;\n",
    "\n",
    "//cout << \"a\" + \"b\" << endl;  // ne dela: konstante so C-jevski nizi\n",
    "cout << s + \", \" + t << endl;"
   ]
  },
  {
   "cell_type": "markdown",
   "id": "b127d457",
   "metadata": {},
   "source": [
    "### Avtomatska določitev tipa\n",
    "\n",
    "Standard C++11 je uvedel \"tip\" `auto`. S tem povemo prevajalniku, da naj med prevajanjem sam ugotovi, kakšnega tipa mora biti spremenljivka, da se bo lahko vanjo shranila prava vrednost. To pride še posebej prav pri bolj kompleksnih gnezdenih tipih, kjer je opis tipa dolg. Taka spremenljivka mora biti ob deklaraciji tudi inicializirana, da lahko prevajalnik določi pravilen tip. "
   ]
  },
  {
   "cell_type": "code",
   "execution_count": 13,
   "id": "4a3e93d5",
   "metadata": {},
   "outputs": [
    {
     "name": "stdout",
     "output_type": "stream",
     "text": [
      "3.14\n"
     ]
    }
   ],
   "source": [
    "auto znak = s[1];  // char\n",
    "auto prviN = (znak == 'N');  // bool\n",
    "auto pi = prviN * 3.14;  // double\n",
    "cout << pi << endl;"
   ]
  },
  {
   "cell_type": "markdown",
   "id": "eff922a8",
   "metadata": {},
   "source": [
    "### Pretvorbe med tipi\n",
    "\n",
    "Pretvorbe med tipi (*type cast*) se ponekod izvajajo implicitno, lahko pa jih izvedemo tudi eksplicitno. Aritmetične operacije med različnimi številskimi tipi implicitno pretvorijo \"osnovnejši\" tip v \"splošnejšega\" oz. \"večjega\". Tako se npr. `int` in `double` seštejeta v `double`, `char` in `long long` pa v `long long`. Eksplicitno pretvorbo lahko dosežemo s klasično C-jevsko sintakso `(tip)spremenljivka` ali novejšo funkcijsko sintakso `tip(spremenljivka)`."
   ]
  },
  {
   "cell_type": "code",
   "execution_count": 14,
   "id": "6103d9c0",
   "metadata": {},
   "outputs": [],
   "source": [
    "#include <algorithm>"
   ]
  },
  {
   "cell_type": "markdown",
   "id": "32781ad5",
   "metadata": {},
   "source": [
    "Funkcijo `max` najdemo v knjižnici `<algorithm>`."
   ]
  },
  {
   "cell_type": "code",
   "execution_count": 15,
   "id": "c0f32d63",
   "metadata": {
    "scrolled": true
   },
   "outputs": [
    {
     "name": "stdout",
     "output_type": "stream",
     "text": [
      "8.1\n",
      "A 65 65\n",
      "max: 5\n",
      "floor: 3\n"
     ]
    }
   ],
   "source": [
    "int i = 3;\n",
    "double h = 5.1;\n",
    "cout << i + h << endl;  // implicitna pretvorba tipa\n",
    "cout << z << \" \" << (int)z << \" \" << int(z) << endl;  // eksplicitna pretvorba tipa\n",
    "cout << \"max: \" << max(1.3, (double)5) << endl; // max zahteva argumente enakega tipa\n",
    "cout << \"floor: \" << (int)3.9 << endl;"
   ]
  },
  {
   "cell_type": "markdown",
   "id": "3515dee0",
   "metadata": {},
   "source": [
    "Za pretvorbo med nizi in števili se moramo poslužiti drugačne rešitve. Ukaza `string(x)` in `int(s)` namreč ne delujeta, ker C ne pozna tipa `string`. Obstaja cel kup načinov, kako lahko to dosežemo. Najpreprostejša je najbrž uporaba funkcij `to_string` in `stoi` iz knjižnice `<string>`.\n",
    "\n",
    "Ta pretvorbe izvajamo redko, ker lahko običajno že ob branju podatkov preberemo spremenljivke v pravi tip oz. pri izpisu preprosto izpišemo spremenljivko brez posebne pretvorbe v niz."
   ]
  },
  {
   "cell_type": "code",
   "execution_count": 16,
   "id": "12299a0f",
   "metadata": {},
   "outputs": [
    {
     "name": "stdout",
     "output_type": "stream",
     "text": [
      "2020 60\n"
     ]
    }
   ],
   "source": [
    "string niz = to_string(20);\n",
    "int num = stoi(\"30\");\n",
    "cout << niz+niz << \" \" << num+num << endl;"
   ]
  }
 ],
 "metadata": {
  "kernelspec": {
   "display_name": "C++14",
   "language": "C++14",
   "name": "xcpp14"
  },
  "language_info": {
   "codemirror_mode": "text/x-c++src",
   "file_extension": ".cpp",
   "mimetype": "text/x-c++src",
   "name": "c++",
   "version": "14"
  }
 },
 "nbformat": 4,
 "nbformat_minor": 5
}
