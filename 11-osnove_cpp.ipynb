{
 "cells": [
  {
   "cell_type": "markdown",
   "id": "469dd7df",
   "metadata": {},
   "source": [
    "# Osnove C++"
   ]
  },
  {
   "cell_type": "markdown",
   "id": "1f7ab7d8",
   "metadata": {},
   "source": [
    "Kot običajno bomo uvozili knjižnico za vhodno-izhodne operacije in vključili imenski prostor `std`."
   ]
  },
  {
   "cell_type": "code",
   "execution_count": 1,
   "id": "e5d93f6f",
   "metadata": {},
   "outputs": [],
   "source": [
    "#include <iostream>\n",
    "using namespace std;"
   ]
  },
  {
   "cell_type": "markdown",
   "id": "93281f4e",
   "metadata": {},
   "source": [
    "## Pogojni stavki\n",
    "\n",
    "Pogojni stavek `if` ima v C++ sintakso `if (pogoj) vsebina`. Če je pogoj resničen, se izvede `vsebina`. Če je `vsebina` sestavljena iz več ukazov, jih združimo v blok z zavitimi oklepaji `if (pogoj) { ukaz1; ukaz2; }`. Pogojni stavek ima lahko še drugi del, ki se izvede, če pogoj ni resničen: `if (pogoj) vsebina else sicer` (`vsebina` in `sicer` sta lahko posamezna ukaza ali bloka ukazov). \n",
    "\n",
    "Spodnji primer prebere dve števili in izpiše, ali je prvo število manjše, enako ali večje od drugega."
   ]
  },
  {
   "cell_type": "code",
   "execution_count": 2,
   "id": "84cc7991",
   "metadata": {},
   "outputs": [
    {
     "name": "stdout",
     "output_type": "stream",
     "text": [
      "8 2\n",
      "vecje\n"
     ]
    }
   ],
   "source": [
    "int x,y;\n",
    "cin >> x >> y;\n",
    "if (x<y) {\n",
    "    cout << \"manjse\" << endl;\n",
    "} else {\n",
    "    if (x==y) {\n",
    "        cout << \"enako\" << endl;\n",
    "    } else {\n",
    "        cout << \"vecje\" << endl;\n",
    "    }\n",
    "}"
   ]
  },
  {
   "cell_type": "markdown",
   "id": "830d1813",
   "metadata": {},
   "source": [
    "Če blok vsebuje samo en ukaz, lahko oklepaje tudi izpustimo, nato pa vse skupaj skrčimo v manj vrstic za bolj kompakten zapis. Tako je precej podobno if-elif-else sintaksi iz Pythona."
   ]
  },
  {
   "cell_type": "code",
   "execution_count": 3,
   "id": "cfb76466",
   "metadata": {},
   "outputs": [
    {
     "name": "stdout",
     "output_type": "stream",
     "text": [
      "4 4\n",
      "enak\n"
     ]
    }
   ],
   "source": [
    "cin >> x >> y;\n",
    "if (x<y) cout << \"manjsi\" << endl;\n",
    "else if (x==y) cout << \"enak\" << endl;\n",
    "else cout << \"vecji\" << endl;"
   ]
  },
  {
   "cell_type": "markdown",
   "id": "8156a560",
   "metadata": {},
   "source": [
    "## Zanke\n",
    "\n",
    "Najprej si oglejmo `while` zanko s sintakso `while (pogoj) vsebina`. Če želimo v zanki ponavaljati več ukazov, jih združimo v blok z zavitimi oklepaji.\n",
    "\n",
    "Napišimo program, ki izpiše števila od 1 do 10."
   ]
  },
  {
   "cell_type": "code",
   "execution_count": 4,
   "id": "eee7a9d1",
   "metadata": {},
   "outputs": [
    {
     "name": "stdout",
     "output_type": "stream",
     "text": [
      "1 2 3 4 5 6 7 8 9 10 \n"
     ]
    }
   ],
   "source": [
    "int i=1;\n",
    "while (i<=10) {\n",
    "    cout << i << \" \";\n",
    "    i++;  // isto kot i+=1 ali i=i+1\n",
    "}\n",
    "cout << endl;"
   ]
  },
  {
   "cell_type": "markdown",
   "id": "58589ce9",
   "metadata": {},
   "source": [
    "Pred začetkom zanke pogosto izvedemo neko inicializacijo (`int i=1`), ob koncu vsake iteracije pa izvedemo kakšno spremembo (`i++`), npr. povečanje števca. To je tako pogosta oblika, da je temu v C++ namenjena `for` zanka s sintakso sintakso `for (inicializacija; pogoj; sprememba) blok`.\n",
    "\n",
    "Povsem enakovreden program za izpis števil z uporabo `for` zanke je prikazan spodaj."
   ]
  },
  {
   "cell_type": "code",
   "execution_count": 5,
   "id": "b4b04799",
   "metadata": {},
   "outputs": [
    {
     "name": "stdout",
     "output_type": "stream",
     "text": [
      "1 2 3 4 5 6 7 8 9 \n"
     ]
    }
   ],
   "source": [
    "for (int i=1; i<10; i++) {\n",
    "    cout << i << \" \";\n",
    "}\n",
    "cout << endl;"
   ]
  },
  {
   "cell_type": "markdown",
   "id": "1dbfa22e",
   "metadata": {},
   "source": [
    "V Pythonu smo v zankah pogosto uporabljali `range` v kombinaciji s `for` zanko, npr. `for x in range(a,b)`, kar bi v C++ napisali `for (int x=a; x<b; x++)`. Povsem enako kot v Pythonu se obnašata tudi ukaza `break` in `continue`.\n",
    "\n",
    "Napišimo malo kompleksnejši program za izpis praštevil do `n`."
   ]
  },
  {
   "cell_type": "code",
   "execution_count": 6,
   "id": "9c714a23",
   "metadata": {},
   "outputs": [
    {
     "name": "stdout",
     "output_type": "stream",
     "text": [
      "100\n",
      "2 3 5 7 11 13 17 19 23 29 31 37 41 43 47 53 59 61 67 71 73 79 83 89 97 \n"
     ]
    }
   ],
   "source": [
    "int n;\n",
    "cin >> n;\n",
    "for (int st=2; st<=n; st++) {\n",
    "    bool pra=true;\n",
    "    for (int d=2; d<st; d++) {  // iscemo prave delitelje\n",
    "        if (st%d==0) {\n",
    "            pra=false;\n",
    "            break;\n",
    "        }\n",
    "    }\n",
    "    if (pra) cout << st << \" \";\n",
    "}\n",
    "cout << endl;"
   ]
  },
  {
   "cell_type": "markdown",
   "id": "55f6264b",
   "metadata": {},
   "source": [
    "## Funkcije\n",
    "\n",
    "Videli smo že, da funkcije kličemo na enak način, kot v Pythonu. Tudi pišemo jih podobno. Sintaksa za definicijo lastnih funkcij je \n",
    "\n",
    "`vrnjen_tip ime_funkcije(tip1 arg1, tip2 arg2, ...) { vsebina }`\n",
    "\n",
    "Napišimo enostavno funkcijo, ki bo sprejela dva `int`-a in vrnila njun produkt."
   ]
  },
  {
   "cell_type": "code",
   "execution_count": 7,
   "id": "5f054ebc",
   "metadata": {},
   "outputs": [
    {
     "name": "stdout",
     "output_type": "stream",
     "text": [
      "60\n"
     ]
    }
   ],
   "source": [
    "int produkt(int a, int b) {\n",
    "    return a*b;\n",
    "}\n",
    "\n",
    "cout << produkt(6, 10) << endl;"
   ]
  },
  {
   "cell_type": "markdown",
   "id": "19213305",
   "metadata": {},
   "source": [
    "Če funkcija ne vrača ničesar (ne vsebuje ukaza `return`), to označimo s tipom `void`. Za vajo napišimo funkcijo `crkuj`, ki sprejme niz tipa `string` in ga izpiše črko po črko, ki jih loči z vezaji."
   ]
  },
  {
   "cell_type": "code",
   "execution_count": 8,
   "id": "68786e91",
   "metadata": {},
   "outputs": [
    {
     "name": "stdout",
     "output_type": "stream",
     "text": [
      "a-b-e-c-e-d-a\n"
     ]
    }
   ],
   "source": [
    "void crkuj(string s) {\n",
    "    for (int i=0; i<(int)s.size(); i++) {\n",
    "        if (i!=0) cout << '-';\n",
    "        cout << s[i];\n",
    "    }\n",
    "    cout << endl;\n",
    "}\n",
    "\n",
    "crkuj(\"abeceda\");"
   ]
  },
  {
   "cell_type": "markdown",
   "id": "eb76248d",
   "metadata": {},
   "source": [
    "Funkcija lahko tudi ne sprejme nobenega argumenta."
   ]
  },
  {
   "cell_type": "code",
   "execution_count": 9,
   "id": "9d35d5eb",
   "metadata": {},
   "outputs": [
    {
     "name": "stdout",
     "output_type": "stream",
     "text": [
      "Zivjo!\n"
     ]
    }
   ],
   "source": [
    "void pozdrav() {\n",
    "    cout << \"Zivjo!\" << endl;\n",
    "}\n",
    "\n",
    "pozdrav();"
   ]
  },
  {
   "cell_type": "markdown",
   "id": "63ac1cd2",
   "metadata": {},
   "source": [
    "Pri klicu funkcije se poišče definicijo funkcije, ki ustreza tipom podanih argumentov. Če take definicije ni, se poišče najboljši približek, kjer lahko podane argumente implicitno pretvorimo v zahtevane. V spodnjem primeru naši funkciji podamo dva argumenta tipa `double`, ki se implicitno pretvorita v `int`. Namesto 6.1 \\* 10.5 = 64.05 se izračuna 6 \\* 10 = 60. Na to nas prevajalnik pri prevajanju tudi opozori (z vklopljeno možnostjo za opozorila, npr. `g++ -Wconversion program.cpp`), če tega morda nismo želeli. Preveden program pa se izvede brez težav."
   ]
  },
  {
   "cell_type": "code",
   "execution_count": 11,
   "id": "1bf93693",
   "metadata": {},
   "outputs": [
    {
     "name": "stderr",
     "output_type": "stream",
     "text": [
      "\u001b[1minput_line_21:2:18: \u001b[0m\u001b[0;1;35mwarning: \u001b[0m\u001b[1mimplicit conversion from 'double' to 'int' changes value from 6.1 to 6 [-Wliteral-conversion]\u001b[0m\n",
      " cout << produkt(6.1, 10.5) << endl;  // implicitna pretvorba v int (warning: g++ -Wconversion koda.cpp)\n",
      "\u001b[0;1;32m         ~~~~~~~ ^~~\n",
      "\u001b[0m\u001b[1minput_line_21:2:23: \u001b[0m\u001b[0;1;35mwarning: \u001b[0m\u001b[1mimplicit conversion from 'double' to 'int' changes value from 10.5 to 10 [-Wliteral-conversion]\u001b[0m\n",
      " cout << produkt(6.1, 10.5) << endl;  // implicitna pretvorba v int (warning: g++ -Wconversion koda.cpp)\n",
      "\u001b[0;1;32m         ~~~~~~~      ^~~~\n",
      "\u001b[0m"
     ]
    },
    {
     "name": "stdout",
     "output_type": "stream",
     "text": [
      "60\n"
     ]
    },
    {
     "data": {
      "text/plain": [
       "@0x7f3f668ebba0"
      ]
     },
     "execution_count": 11,
     "metadata": {},
     "output_type": "execute_result"
    }
   ],
   "source": [
    "cout << produkt(6.1, 10.5) << endl;  // implicitna pretvorba v int (warning: g++ -Wconversion koda.cpp)"
   ]
  },
  {
   "cell_type": "markdown",
   "id": "b4618602",
   "metadata": {},
   "source": [
    "Definiramo lahko več funkcij z enakim imenom in različnimi tipi ali številom argumentov. Temu se reče preobremenjevanje funkcij (*overloading*). S funkcijo `produkt` lahko zmnožimo tri `int`-e ali pa izračunamo skalarni produkt po števkah v dveh podnih `string`-ih."
   ]
  },
  {
   "cell_type": "code",
   "execution_count": 12,
   "id": "5dfdd5bf",
   "metadata": {},
   "outputs": [],
   "source": [
    "int produkt(int a, int b, int c) {\n",
    "    return a*b*c;\n",
    "}"
   ]
  },
  {
   "cell_type": "code",
   "execution_count": 13,
   "id": "688463be",
   "metadata": {},
   "outputs": [],
   "source": [
    "int produkt(string s, string t) {\n",
    "    int v=0;\n",
    "    for (int i=0; i<(int)s.size(); i++) {\n",
    "        int x=s[i]-'0', y=t[i]-'0';\n",
    "        v += x*y;\n",
    "    }\n",
    "    return v;\n",
    "}"
   ]
  },
  {
   "cell_type": "code",
   "execution_count": 14,
   "id": "96e521e6",
   "metadata": {},
   "outputs": [
    {
     "name": "stdout",
     "output_type": "stream",
     "text": [
      "5\n",
      "35\n",
      "27\n"
     ]
    }
   ],
   "source": [
    "cout << produkt(1, 5) << endl;\n",
    "cout << produkt(1, 5, 7) << endl;\n",
    "cout << produkt(\"167\", \"231\") << endl;"
   ]
  },
  {
   "cell_type": "markdown",
   "id": "ab6a9c2f",
   "metadata": {},
   "source": [
    "Iz Pythona vemo, da je včasih povsem enaka vsebina funkcije primerna za argumente različnih tipov. V C++ pa bi morali napisati enako kopijo funkcije za vse tipe argumentov, ki jih želimo podpreti. Temu se lahko izognemo z uporabo predlog (*template*), kjer to namesto nas naredi prevajalnik. To pa je že naprednejša tema, o kateri si lahko več preberete [tukaj](https://www.cplusplus.com/doc/tutorial/functions2/)."
   ]
  },
  {
   "cell_type": "markdown",
   "id": "20b42d2e",
   "metadata": {},
   "source": [
    "### Rekurzija\n",
    "\n",
    "Rekurzija je enaka kot v Pythonu. Na hitro jo ponovimo z implementacijo funkcije za iskanje največjega skupnega delitelja z Evklidovim algoritmom."
   ]
  },
  {
   "cell_type": "code",
   "execution_count": 15,
   "id": "ef512ac0",
   "metadata": {},
   "outputs": [
    {
     "name": "stdout",
     "output_type": "stream",
     "text": [
      "12\n"
     ]
    }
   ],
   "source": [
    "int gcd(int x, int y) {\n",
    "    if (y==0) return x;\n",
    "    else return gcd(y, x%y);\n",
    "}\n",
    "\n",
    "cout << gcd(12, 60) << endl;"
   ]
  },
  {
   "cell_type": "markdown",
   "id": "6e85bd80",
   "metadata": {},
   "source": [
    "V Pythonu poznamo trojiški if-else operator `vrednost_true if pogoj else vrednost_false`. Tudi C++ ga ima, vendar z nekoliko drugačno sintakso `pogoj ? vrednost_true : vrednost_valse`. Posamezne izraze je dobro združiti z oklepaji, da je izraz bolj berljiv in da ne pride do težav zaradi [prednosti operatorjev](https://en.cppreference.com/w/cpp/language/operator_precedence) (v spodnjem primeru sicer ni treba). Funkcijo lahko tako skrčimo v eno vrstico."
   ]
  },
  {
   "cell_type": "code",
   "execution_count": 16,
   "id": "2a3f2304",
   "metadata": {},
   "outputs": [
    {
     "name": "stdout",
     "output_type": "stream",
     "text": [
      "12\n"
     ]
    }
   ],
   "source": [
    "int gcd1(int x, int y) {\n",
    "    return (y!=0) ? gcd1(y, x%y) : x;\n",
    "}\n",
    "\n",
    "cout << gcd1(12, 60) << endl;"
   ]
  },
  {
   "cell_type": "markdown",
   "id": "b6c65935",
   "metadata": {},
   "source": [
    "## Standardna knjižnica (C++ Standard Library)\n",
    "\n",
    "Standardna knjižnica vsebuje številne uporabne podatkovne tipe/strukture (*containters*) in algoritme. Osnovana je bila po knjižnici Standard Template Library (STL), ki se še danes pogosto uporablja kar kot sinonim za C++ standardno knjižnico."
   ]
  },
  {
   "cell_type": "markdown",
   "id": "c16bc0af",
   "metadata": {},
   "source": [
    "### Seznam\n",
    "\n",
    "V Pythonu smo imeli na voljo seznam (`list`), v katerega smo lahko dodajali, brisali, spreminjali elemente in dostopali do njih z indeksiranjem. V C++ imamo za to funkcionalnost razširljive tabele (*resizable array*) na voljo tip `vector` iz knjižnice `<vector>` ([dokumentacija in primeri](https://www.cplusplus.com/reference/vector/vector/)). V njem pa lahko shranjujemo samo elemente enakega tipa, ki ga moramo navesti ob deklaraciji s sintakso `vector<tip>`."
   ]
  },
  {
   "cell_type": "code",
   "execution_count": 17,
   "id": "5aa043b2",
   "metadata": {},
   "outputs": [
    {
     "name": "stdout",
     "output_type": "stream",
     "text": [
      "10\n"
     ]
    }
   ],
   "source": [
    "#include <vector>\n",
    "\n",
    "vector<int> v;\n",
    "for (int i=0; i<10; i++) {\n",
    "    v.push_back(i);  // append\n",
    "}\n",
    "cout << v.size() << endl;"
   ]
  },
  {
   "cell_type": "markdown",
   "id": "ea85a785",
   "metadata": {},
   "source": [
    "Za dostop do posameznih elementov lahko uporabljamo indeksiranje z oglatimi oklepaji, zaradi pogostega dostopa do prvega in zadnjega elementa pa imamo na voljo posebni metodi."
   ]
  },
  {
   "cell_type": "code",
   "execution_count": 18,
   "id": "dc4f0456",
   "metadata": {},
   "outputs": [
    {
     "name": "stdout",
     "output_type": "stream",
     "text": [
      "prvi/zadnji (indeksiranje): 0 9\n",
      "prvi/zadnji (metode)      : 0 9\n"
     ]
    }
   ],
   "source": [
    "cout << \"prvi/zadnji (indeksiranje): \" << v[0] << \" \" << v[v.size()-1] << endl;\n",
    "cout << \"prvi/zadnji (metode)      : \" << v.front() << \" \" << v.back() << endl;"
   ]
  },
  {
   "cell_type": "markdown",
   "id": "80fee04e",
   "metadata": {},
   "source": [
    "V prejšnjem primeru smo ustvarili prazen seznam. Lahko pa ga ob deklaraciji tudi inicializiramo na več načinov. Zadnji primer z navedbo konkretnih vrednosti v zavitih oklepajih se imenuje *initializer list*."
   ]
  },
  {
   "cell_type": "code",
   "execution_count": 19,
   "id": "05588c6a",
   "metadata": {},
   "outputs": [],
   "source": [
    "vector<int> v1;  // prazen\n",
    "vector<int> v2(5);  // pet default elementov\n",
    "vector<int> v3(5, -1);  // pet elementov -1\n",
    "vector<int> v4 = {8, 4, 1, 2, 5};  // konkretne vredosti"
   ]
  },
  {
   "cell_type": "markdown",
   "id": "967d7d18",
   "metadata": {},
   "source": [
    "Podatkovne strukture iz standardne knjižnice nam omogočajo iteracijo čez vse elemente na podoben način, kot smo tega navajeni v Pythonu (`for x in struktura`). For zanka ima namreč dodatno sintakso `for (tip x : struktura)`, ki je namenjena temu."
   ]
  },
  {
   "cell_type": "code",
   "execution_count": 20,
   "id": "8a6abdbf",
   "metadata": {},
   "outputs": [
    {
     "name": "stdout",
     "output_type": "stream",
     "text": [
      "8 4 1 2 5 \n"
     ]
    }
   ],
   "source": [
    "for (int x : v4) {\n",
    "    cout << x << \" \";\n",
    "}\n",
    "cout << endl;"
   ]
  },
  {
   "cell_type": "markdown",
   "id": "1c010e4c",
   "metadata": {},
   "source": [
    "### Množica\n",
    "\n",
    "Za delo z množicami nam C++ ponuja strukturo `set` iz knjižnice `<set>` ([dokumentacija in primeri](https://www.cplusplus.com/reference/set/set/)). Tako kot pri `vector`-ju, moramo pri deklaraciji navesti tip spremenljivk, ki jih bomo hranili v množici.\n",
    "\n",
    "Ustvarili bomo dve množici imen in vsa imena iz druge množice vstavili v prvo. Če sedaj izpišemo vsebino prve množice, bo vsak element izpisan točno enkrat. Poleg tega pa bodo imena urejena po abecedi. C++ namreč hrani spremenljivke v množici v urejenem vrstnem redu od manjših proti večjim."
   ]
  },
  {
   "cell_type": "code",
   "execution_count": 21,
   "id": "ec868ac9",
   "metadata": {},
   "outputs": [
    {
     "name": "stdout",
     "output_type": "stream",
     "text": [
      "Ana\n",
      "Jasna\n",
      "Marko\n",
      "Matej\n",
      "Tone\n"
     ]
    }
   ],
   "source": [
    "#include <set>\n",
    "\n",
    "set<string> imena = {\"Tone\", \"Ana\", \"Matej\"};\n",
    "set<string> novi = {\"Matej\", \"Marko\", \"Jasna\"};\n",
    "for (string ime : novi) {\n",
    "    imena.insert(ime);\n",
    "}\n",
    "for (string ime : imena) {\n",
    "    cout << ime << endl;\n",
    "}"
   ]
  },
  {
   "cell_type": "markdown",
   "id": "1b5892e2",
   "metadata": {},
   "source": [
    "Vsebovanost elementa v množici lahko preverimo z metodo `count`, ki bo očitno vrnila samo 0 ali 1, ker množica ne more vsebovati več enakih elementov. To je nekoliko nerodno, zato je od standarda C++20 naprej na voljo tudi metoda `contains`, ki vrne `true` ali `false`."
   ]
  },
  {
   "cell_type": "code",
   "execution_count": 22,
   "id": "842f015f",
   "metadata": {},
   "outputs": [
    {
     "name": "stdout",
     "output_type": "stream",
     "text": [
      "Tomaz? 0\n"
     ]
    }
   ],
   "source": [
    "cout << \"Tomaz? \" << imena.count(\"Tomaz\") << endl;"
   ]
  },
  {
   "cell_type": "markdown",
   "id": "17cb4586",
   "metadata": {},
   "source": [
    "### Slovar\n",
    "\n",
    "Slovarji so v C++ tipa `map` iz knjižnice `<map>` ([dokumentacija in primeri](https://www.cplusplus.com/reference/map/map/)). Navesti moramo tip ključa in tip vrednosti, ki jih bo shranjeval slovar. Deklaracija `map<string, int>` ustvari slovar s ključi tipa `string` in vrednostmi tipa `int`.\n",
    "\n",
    "Sestavimo slovar vrednosti rimskih števk in ga izpišimo. Tudi tu so ključi urejeni od manjših proti večjim. Iteracija čez elemente slovarja vrača pare ključev in pripadajoče vrednosti (v Pythonu gre iteracija samo čez ključe). Ti pari so tipa `pair<string, int>`, čemur smo se izognili z uporabo avtomatskega določanja tipa spremenljivke z `auto`. Do prvega elementa v paru dostopamo z atributom `first`, do drugega pa s `second`."
   ]
  },
  {
   "cell_type": "code",
   "execution_count": 23,
   "id": "93bcc1ad",
   "metadata": {},
   "outputs": [
    {
     "name": "stdout",
     "output_type": "stream",
     "text": [
      "I 1\n",
      "V 5\n",
      "X 10\n",
      "3\n"
     ]
    }
   ],
   "source": [
    "#include <map>\n",
    "\n",
    "map<string, int> vrednost;\n",
    "vrednost[\"X\"] = 10;\n",
    "vrednost[\"V\"] = 5;\n",
    "vrednost[\"I\"] = 1;\n",
    "for (auto item : vrednost) {  // pair<string, int>\n",
    "    cout << item.first << \" \" << item.second << endl;\n",
    "}\n",
    "cout << vrednost.size() << endl;"
   ]
  },
  {
   "cell_type": "markdown",
   "id": "ffe8b114",
   "metadata": {},
   "source": [
    "Slovarji v C++ se obnašajo kot `defaultdict` v Pythonu. Če ključ ne obstaja, se avtomatsko ustvari vnos s privzeto vrednostjo."
   ]
  },
  {
   "cell_type": "code",
   "execution_count": 24,
   "id": "2130b139",
   "metadata": {},
   "outputs": [
    {
     "name": "stdout",
     "output_type": "stream",
     "text": [
      "C: 0\n",
      "X: 10\n"
     ]
    }
   ],
   "source": [
    "cout << \"C: \" << vrednost[\"C\"] << endl;  // kljuca \"C\" ni, zato dobi privzeto vrednost\n",
    "cout << \"X: \" << vrednost[\"X\"] << endl;"
   ]
  },
  {
   "cell_type": "markdown",
   "id": "03163a21",
   "metadata": {},
   "source": [
    "Prisotnost ključa lahko določimo z metodo `count` ali `contains` v novejših različicah."
   ]
  },
  {
   "cell_type": "code",
   "execution_count": 25,
   "id": "0eaf5dfd",
   "metadata": {},
   "outputs": [
    {
     "name": "stdout",
     "output_type": "stream",
     "text": [
      "D? 0\n"
     ]
    }
   ],
   "source": [
    "cout << \"D? \" << vrednost.count(\"D\") << endl;"
   ]
  },
  {
   "cell_type": "markdown",
   "id": "9d34e639",
   "metadata": {},
   "source": [
    "### Urejanje\n",
    "\n",
    "Najpogostoje uporabljena funkcija iz knjižnice `<algorithm>` je poleg `min` in `max` verjetno `sort` ([dokumentacija in primeri](https://www.cplusplus.com/reference/algorithm/sort/)). Funkcija `sort` sprejme iteratorja na začetek in konec seznama vrednosti, ki jih bo uredila. Iteratorji so kazalci na elemente v strukturah, s katerimi se lahko premikamo po elementih v strukturi. Tako lahko uporabljamo funkcijo `sort` na različnih strukturah, ki implementirajo pravo vrsto iteratorjev. Zaenkrat pa naj bo dovolj, da seznam `sez` uredimo s klicem `sort(sez.begin(), sez.end())`."
   ]
  },
  {
   "cell_type": "code",
   "execution_count": 26,
   "id": "420f7294",
   "metadata": {},
   "outputs": [
    {
     "name": "stdout",
     "output_type": "stream",
     "text": [
      "1 2 4 7 8 \n"
     ]
    }
   ],
   "source": [
    "#include <algorithm>\n",
    "\n",
    "vector<int> sez = {8,4,1,7,2};\n",
    "sort(sez.begin(), sez.end());\n",
    "for (int x : sez) cout << x << \" \";\n",
    "cout << endl;"
   ]
  }
 ],
 "metadata": {
  "kernelspec": {
   "display_name": "C++14",
   "language": "C++14",
   "name": "xcpp14"
  },
  "language_info": {
   "codemirror_mode": "text/x-c++src",
   "file_extension": ".cpp",
   "mimetype": "text/x-c++src",
   "name": "c++",
   "version": "14"
  }
 },
 "nbformat": 4,
 "nbformat_minor": 5
}
