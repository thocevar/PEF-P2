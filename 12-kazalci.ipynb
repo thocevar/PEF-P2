{
 "cells": [
  {
   "cell_type": "markdown",
   "id": "db913976",
   "metadata": {},
   "source": [
    "# Reference\n",
    "\n",
    "Referenca je drugo ime za isto spremenljivko. Označimo jo s znakom `&`. V spodnjem primeru je `y` referenca na spremenljivko tipa `int`, kar zapišemo kot `int &y`. Referenca ne more biti prazna, inicializirati jo moramo z drugo spremenljivko ob deklaraciji. Deklaracija reference brez inicializacije (`int &y;`) ali inicializacija s konstantno vrednostjo (`int &y = 9;`) nista možni."
   ]
  },
  {
   "cell_type": "code",
   "execution_count": 1,
   "id": "11f591ef",
   "metadata": {},
   "outputs": [],
   "source": [
    "#include <iostream>\n",
    "#include <vector>\n",
    "using namespace std;"
   ]
  },
  {
   "cell_type": "code",
   "execution_count": 2,
   "id": "d9e51f29",
   "metadata": {},
   "outputs": [
    {
     "name": "stdout",
     "output_type": "stream",
     "text": [
      "10 10\n"
     ]
    }
   ],
   "source": [
    "int x = 10;\n",
    "int &y = x;\n",
    "cout << x << \" \" << y << endl;"
   ]
  },
  {
   "cell_type": "markdown",
   "id": "74d96669",
   "metadata": {},
   "source": [
    "Če sedaj spremenimo vrednost spremenljivke `x`, se ta sprememba odraža tudi v spremenljivki `y`, in obratno."
   ]
  },
  {
   "cell_type": "code",
   "execution_count": 3,
   "id": "21077ca6",
   "metadata": {},
   "outputs": [
    {
     "name": "stdout",
     "output_type": "stream",
     "text": [
      "11 11\n",
      "12 12\n"
     ]
    }
   ],
   "source": [
    "x = 11;\n",
    "cout << x << \" \" << y << endl;\n",
    "y = 12;\n",
    "cout << x << \" \" << y << endl;"
   ]
  },
  {
   "cell_type": "markdown",
   "id": "9f2309ac",
   "metadata": {},
   "source": [
    "V C++ se argumenti funkcij *prenašajo po vrednosti*. Funkcija torej prejme kopijo podanega argumenta. V Pythonu bi z dodajanjem elementov seznamu, ki ga sprejme funkcija, spremenili tudi zunanji seznam. V C++ temu ni tako. "
   ]
  },
  {
   "cell_type": "code",
   "execution_count": 4,
   "id": "0c4d767f",
   "metadata": {},
   "outputs": [],
   "source": [
    "void izpisi(vector<int> v) {\n",
    "    for (int x : v) cout << x << \" \";\n",
    "    cout << endl;\n",
    "}"
   ]
  },
  {
   "cell_type": "code",
   "execution_count": 5,
   "id": "e4cf2950",
   "metadata": {},
   "outputs": [
    {
     "name": "stdout",
     "output_type": "stream",
     "text": [
      "1 2 3 4 5 \n",
      "1 2 3 4 5 1 2 3 4 5 \n"
     ]
    }
   ],
   "source": [
    "auto podvoji(vector<int> v) {\n",
    "    int n=v.size();\n",
    "    for (int i=0; i<n; i++) {\n",
    "        v.push_back(v[i]);\n",
    "    }\n",
    "    return v;\n",
    "}\n",
    "\n",
    "vector<int> a = {1,2,3,4,5};\n",
    "vector<int> b = podvoji(a);\n",
    "izpisi(a);\n",
    "izpisi(b);"
   ]
  },
  {
   "cell_type": "markdown",
   "id": "8825bbb2",
   "metadata": {},
   "source": [
    "Če želimo, lahko to funkcionalnost dosežemo s *prenosom argumentov po referenci*. Funkcija `podvoji_ref` sprejme argument po referenci, vrednost te spremenljivke spremeni in ne vrne ničesar."
   ]
  },
  {
   "cell_type": "code",
   "execution_count": 6,
   "id": "9a0b44f4",
   "metadata": {},
   "outputs": [
    {
     "name": "stdout",
     "output_type": "stream",
     "text": [
      "1 2 3 4 5 1 2 3 4 5 \n"
     ]
    }
   ],
   "source": [
    "void podvoji_ref(vector<int> &v) {\n",
    "    int n=v.size();\n",
    "    for (int i=0; i<n; i++) {\n",
    "        v.push_back(v[i]);\n",
    "    }\n",
    "}\n",
    "\n",
    "podvoji_ref(a);\n",
    "izpisi(a);"
   ]
  },
  {
   "cell_type": "markdown",
   "id": "0eb69439",
   "metadata": {},
   "source": [
    "Po referenci lahko podamo tudi osnovne tipe, npr. `int`, česar v Pythonu nismo mogli."
   ]
  },
  {
   "cell_type": "code",
   "execution_count": 7,
   "id": "9d75e113",
   "metadata": {},
   "outputs": [
    {
     "name": "stdout",
     "output_type": "stream",
     "text": [
      "169\n"
     ]
    }
   ],
   "source": [
    "void kvadriraj(int &x) {\n",
    "    x = x*x;\n",
    "}\n",
    "\n",
    "int a = 13;\n",
    "kvadriraj(a);\n",
    "cout << a << endl;"
   ]
  },
  {
   "cell_type": "markdown",
   "id": "4846705b",
   "metadata": {},
   "source": [
    "Prenos po referenci se uporablja za podajanje velikih spremenljivk, da se izognemo ustvarjanju kopije. Druga pogosta uporaba je vračanje več vrednosti iz funkcije preko nastavljanja argumentov, ki so podani po referenci.\n",
    "\n",
    "V spodnjem primeru funkcija `stat` sprejme seznam celih števil `v` po referenci, da se ne ustvari kopija po nepotrebnem, ker funkcija seznama ne spreminja. Prešteje pozitivna in negativna števila ter rezultate vpiše v argumenta `poz` in `neg`, ki sta prav tako podana po referenci."
   ]
  },
  {
   "cell_type": "code",
   "execution_count": 8,
   "id": "30e19994",
   "metadata": {},
   "outputs": [
    {
     "name": "stdout",
     "output_type": "stream",
     "text": [
      "poz/neg: 3 5\n"
     ]
    }
   ],
   "source": [
    "void stat(vector<int> &v, int &poz, int &neg) {\n",
    "    poz=0;\n",
    "    neg=0;\n",
    "    for (int x : v) {\n",
    "        if (x>0) poz++;\n",
    "        if (x<0) neg++;\n",
    "    }\n",
    "}\n",
    "\n",
    "vector<int> st = {5, -7, 8, 9, -3, -2, -1, -4};\n",
    "int poz, neg;\n",
    "stat(st, poz, neg);\n",
    "cout << \"poz/neg: \" << poz << \" \" << neg << endl;"
   ]
  },
  {
   "cell_type": "markdown",
   "id": "f0b4f168",
   "metadata": {},
   "source": [
    "# Kazalci\n",
    "\n",
    "Vsaka spremenljivka ima svojo vrednost in *naslov*, kje v pomnilniku se nahaja. Do naslova spremenljivke `x` pridemo s sintakso `&x`. Ta `&` ne predstavlja reference, ampak naslov spremenljivke. Naslovi se izpisujejo v šestanjstiškem sistemu, lahko pa ga pretvorimo tudi v celo število."
   ]
  },
  {
   "cell_type": "code",
   "execution_count": 9,
   "id": "27a20971",
   "metadata": {
    "scrolled": true
   },
   "outputs": [
    {
     "name": "stdout",
     "output_type": "stream",
     "text": [
      "vrednost 12 na naslovu 0x7f1ecf655030 oziroma 139770305269808\n"
     ]
    }
   ],
   "source": [
    "cout << \"vrednost \" << x << \" na naslovu \" << &x << \" oziroma \" << long(&x) << endl;"
   ]
  },
  {
   "cell_type": "markdown",
   "id": "16928aa1",
   "metadata": {},
   "source": [
    "Kazalci so spremenljivke, ki hranijo naslove. Z deklaracijo `int *p` ustvarimo kazalec na `int`. To pomeni, da kazalec `p` hrani naslov, na katerem se nahaja spremenljivka tipa `int`. Modifikator `*` označuje, da gre za kazalec. Pozor, z deklaracijo `int *p, q` bi ustvarili kazalec `p` in navadno celoštevilsko spremenljivko `q`.\n",
    "\n",
    "Z ukazom `p = &x` shranimo naslov spremenljivke `x` v kazalec `p`. Rečemo tudi, da kazalec `p` kaže na spremenljivko `x`.\n",
    "\n",
    "Preko kazalca lahko dostopamo do vrednosti spremenljivke, na katero kaže. Temu rečemo *dereferenca*, izvedemo pa jo z unarnim operatorjem `*`, torej `*p`. Zopet imamo opravka z zvezdico, ki pa ima drugačen pomen. Pri deklaraciji tipov z njo označimo kazalec, drugod pa z njo dostopamo do vrednosti spremenljivke, na katere kaže kazalec."
   ]
  },
  {
   "cell_type": "code",
   "execution_count": 10,
   "id": "a4350d8d",
   "metadata": {},
   "outputs": [
    {
     "name": "stdout",
     "output_type": "stream",
     "text": [
      "kazalec: 0x7f1ecf655030\n",
      "vrednost: 12\n"
     ]
    }
   ],
   "source": [
    "int *p;\n",
    "p = &x;\n",
    "cout << \"kazalec: \" << p << endl;\n",
    "cout << \"vrednost: \" << *p << endl;"
   ]
  },
  {
   "cell_type": "markdown",
   "id": "31d04e92",
   "metadata": {},
   "source": [
    "Naslovi, ki jih hrani kazalec, se lahko spreminjajo. V isti kazalec `p` lahko shranimo naslov neke druge spremenljivke."
   ]
  },
  {
   "cell_type": "code",
   "execution_count": 11,
   "id": "d1f30cd9",
   "metadata": {},
   "outputs": [
    {
     "name": "stdout",
     "output_type": "stream",
     "text": [
      "kazalec: 0x7f1ecf6550a0\n",
      "vrednost: 3\n",
      "spremenjena: 103\n"
     ]
    }
   ],
   "source": [
    "int xx = 3;\n",
    "p = &xx;\n",
    "cout << \"kazalec: \" << p << endl;\n",
    "cout << \"vrednost: \" << *p << endl;\n",
    "*p += 100;\n",
    "cout << \"spremenjena: \" << *p << endl;"
   ]
  },
  {
   "cell_type": "markdown",
   "id": "cb89a8e3",
   "metadata": {},
   "source": [
    "Z uporabo kazalcev lahko funkcija spreminja podane argumente. To storimo tako, da namesto spremenljivk sprejme funkcija kazalce na te spremenljivke. Pri klicu funkcije se še vedno ustvari kopija, vendar v tem primeru kopija kazalca, torej kopija naslova. S tem lahko dosežemo enako funkcionalnost kot z uporabo referenc.\n",
    "\n",
    "V spodnjem primeru funkcija `nicle` sprejme kazalca na seznam in število. S kazalcem na seznam se izognemo kopiji celega seznama, z uporabo kazalca na število pa funkcija vanj zapiše rezultat. Pri klicu funkcije moramo kot argumente podati kazalce oz. naslove spremenljivk."
   ]
  },
  {
   "cell_type": "code",
   "execution_count": 12,
   "id": "fef99c3a",
   "metadata": {
    "scrolled": true
   },
   "outputs": [
    {
     "name": "stdout",
     "output_type": "stream",
     "text": [
      "3\n"
     ]
    }
   ],
   "source": [
    "void nicle(vector<int> *pv, int *z) {\n",
    "    *z=0;\n",
    "    for (int x : *pv) {\n",
    "        if (x==0) (*z)++;\n",
    "    }\n",
    "}\n",
    "\n",
    "vector<int> sez = {0,1,1,0,1,0,1};\n",
    "int z;\n",
    "nicle(&sez, &z);\n",
    "cout << z << endl;"
   ]
  },
  {
   "cell_type": "markdown",
   "id": "8704f00a",
   "metadata": {},
   "source": [
    "Kot vidimo, so si kazalci in reference podobne:\n",
    "- kazalci so starejši (C), reference novejse (C++)\n",
    "- referenca je sintaktična poenostavitev pogoste uporabe kazalcev\n",
    "- referenca je fiksna, kazalec se lahko spreminja\n",
    "- referenca se \"avtomatsko dereferencira\"\n",
    "- obstaja kazalec na kazalec, kazalec na referenco in referenca na referenco pa ne\n",
    "- s kazalci lahko izvajamo aritmetične operacije"
   ]
  },
  {
   "cell_type": "markdown",
   "id": "7fc9bb85",
   "metadata": {},
   "source": [
    "# Tabele\n",
    "\n",
    "Tabelo *alociramo* z deklaracijo `int s[3]`, pri čemer podamo tip elementov in velikost tabele. Če tabelo hkrati tudi inicializiramo, lahko pustimo prevajalniku, da sam ugotovi velikost tabele. Do elementov tabele dostopamo in jih spreminjamo z indeksiranjem, ki ga že poznamo."
   ]
  },
  {
   "cell_type": "code",
   "execution_count": 13,
   "id": "7669ceba",
   "metadata": {},
   "outputs": [
    {
     "name": "stdout",
     "output_type": "stream",
     "text": [
      "0 20 4 6 8 10 12 0 0 0 "
     ]
    }
   ],
   "source": [
    "int s[3];\n",
    "int t[] = {0,2,4,6,8,10,12};\n",
    "t[1] = 20;\n",
    "for (int i=0; i<10; i++) cout << t[i] << \" \";"
   ]
  },
  {
   "cell_type": "markdown",
   "id": "f28e6b39",
   "metadata": {},
   "source": [
    "V zgornjem primeru smo namenoma izpisali več elementov, kot je velika tabela. \"Index out of bounds\", ki smo ga navajeni iz Pythona, ne sesuje programa v C++. Vsaj ne vedno. Če dostopamo do elementov izven meja tabele, ne vemo, kaj se tam nahaja. V zgornjem primeru so bile ničle. Lahko je na tistem mestu shranjena kakšna druga spremenljivka našega programa, ki si jo brez težav po nesreči prepišemo. Lahko pa je to že del pomnilnika, ki pripada drugemu programu. V tem primeru se program sesuje oz. mu operacijski sistem prepreči, da bi dostopal do tujega pomnilnika."
   ]
  },
  {
   "cell_type": "markdown",
   "id": "6976be80",
   "metadata": {},
   "source": [
    "Tabela se obnaša kot *kazalec na začetek pomnilnika*, kjer so zaporedoma shranjeni elementi tabele. Indeksiranje je pravzaprav okrajšava za aritmetiko s kazalci. Izraz `t[i]` je enakovreden izrazu `*(t+i)`. Začetku tabele (kazalcu na začetek tabele) prištejemo `i`, s čimer dobimo naslov `i`-tega elementa v tabeli, ki ga nato dereferenciramo, da dobimo njegovo vrednost. Prevajalnik pozna tip kazalca, zato pri povečanju kazalca dejansko poveča naslov za velikost tipa. Naslov `t+1` je za en element (v primeru `int`-a je to običajno 4 bajte) večji od naslova, kamor kaže `t`."
   ]
  },
  {
   "cell_type": "code",
   "execution_count": 14,
   "id": "c7e7d45f",
   "metadata": {},
   "outputs": [
    {
     "name": "stdout",
     "output_type": "stream",
     "text": [
      "4 4\n",
      "0x7f1ecf6550e0 0x7f1ecf6550e8\n",
      "4\n",
      "4 6 8\n",
      "1\n",
      "\n"
     ]
    }
   ],
   "source": [
    "cout << t[2] << \" \" << *(t+2) << endl;\n",
    "\n",
    "// t+=2;  // začetka tabele ne moremo spreminjati\n",
    "int *pt = t;  // lahko pa ustvarimo nov kazalec, ki bo kazal na poljubno mesto v tabeli\n",
    "cout << pt << \" \" << pt+2 << endl;  // aritmetika s kazalci: naslovu v kazalcu se pristeje 2*sizeof(int)\n",
    "pt += 2;\n",
    "cout << *pt << endl;\n",
    "\n",
    "cout << pt[0] << \" \" << pt[1] << \" \" << pt[2] << endl;  // za indeksiranje lahko uporabimo tudi drug kazalec\n",
    "cout << (pt == t+2) << endl;  // primerjava kazalcev\n",
    "cout << endl;"
   ]
  },
  {
   "cell_type": "markdown",
   "id": "e4970f78",
   "metadata": {},
   "source": [
    "Program lahko hrani spremenljivke v različnih delih pomnilnika. Pomembna sta sklad (*stack*) in kopica (*heap*). Na skladu se hranijo vse lokalne spremenljivke funkcij. Na kopici pa globalne in *dinamično alocirane* spremenljivke. Sintaksa za dinamično alokacijo tabele z `n` elementi tipa `int` je `new int[n]`, ki vrne kazalec oz. naslov začetka pomnilnika velikosti `n` `int`-ov. Kopica je načeloma precej večja od sklada."
   ]
  },
  {
   "cell_type": "code",
   "execution_count": 15,
   "id": "00a19b91",
   "metadata": {},
   "outputs": [
    {
     "name": "stdout",
     "output_type": "stream",
     "text": [
      "10\n",
      "1 2 3 4 5 6 7 8 9 10\n"
     ]
    }
   ],
   "source": [
    "int n;\n",
    "cin >> n;\n",
    "int *tab = new int[n];  // alokacija na kopici (dostopno vsem)\n",
    "//int tab[n];  // alokacija na skladu (dostopno tej funkciji in njenim \"potomcem\")\n",
    "for (int i=0; i<n; i++) {\n",
    "    cin >> tab[i];\n",
    "}"
   ]
  },
  {
   "cell_type": "markdown",
   "id": "3fb12232",
   "metadata": {},
   "source": [
    "V zgornjem primeru je bilo vseeno, kje naredimo alokacijo pomnilnika za našo tabelo. Funkcija pa lahko vrača samo naslove delov pomnilnika, ki so v kopici. Lokalne spremenljivke na skladu namreč niso več na voljo, ko se funkcija zaključi."
   ]
  },
  {
   "cell_type": "code",
   "execution_count": 16,
   "id": "8f69d442",
   "metadata": {},
   "outputs": [
    {
     "name": "stdout",
     "output_type": "stream",
     "text": [
      "1 4 9 16 25 36 49 64 81 100 \n"
     ]
    }
   ],
   "source": [
    "int* kvadriraj(int *t, int n) {\n",
    "    int *tt = new int[n];\n",
    "    //int tt[n]; // ne dela - address of local variable returned\n",
    "    for (int i=0; i<n; i++) {\n",
    "        tt[i] = t[i]*t[i];\n",
    "    }\n",
    "    return tt;\n",
    "}\n",
    "\n",
    "int *kvad = kvadriraj(tab, n);\n",
    "for (int i=0; i<n; i++) cout << kvad[i] << \" \";\n",
    "cout << endl;"
   ]
  },
  {
   "cell_type": "markdown",
   "id": "535ea07c",
   "metadata": {},
   "source": [
    "## Buffer overflow\n",
    "\n",
    "Buffer overflow je napaka v programu, ki lahko predstavlja varnostno luknjo. Program pri pisanju v tabelo preseže mejo tabele in tako prepiše sosednje pomnilniške lokacije.\n",
    "\n",
    "Ilustrirajmo napako na konkretnem primeru. Naš program za preverjanje gesel bo imel tabelo `secret` s prostorom za 5 znakov, kamor bo shranil vnešeno geslo in spremenljivko `valid`, ki bo hranila vrednost 1 ali 0 glede na pravilnost gesla."
   ]
  },
  {
   "cell_type": "code",
   "execution_count": 17,
   "id": "c4309493",
   "metadata": {},
   "outputs": [
    {
     "name": "stdout",
     "output_type": "stream",
     "text": [
      "secret: 139770305270056\n",
      "valid : 139770305270064\n"
     ]
    }
   ],
   "source": [
    "char secret[5];\n",
    "int valid=0;\n",
    "cout << \"secret: \" << long(&secret) << endl;\n",
    "cout << \"valid : \" << long(&valid) << endl;"
   ]
  },
  {
   "cell_type": "markdown",
   "id": "2a5ded69",
   "metadata": {},
   "source": [
    "Spremenljivka `valid` se nahaja 8 bajtov za začetkom tabele `secret`, ki sicer zasede samo 5 bajtov, vendar je zaradi poravnave naslovov vmes malo neuporabljenega prostora.\n",
    "\n",
    "Napišimo program, ki bo bral geslo po znakih. Vnos gesla se bo zaključil z znakom `#`. Vsak prebrani znak bo shranil v tabelo, hkrati pa prebrano števko prišel kodi. Recimo, da je geslo pravilno, če je koda ob koncu enaka 7, sicer pa ne. Pravilna gesla so torej \"7#\", \"43#\", ..."
   ]
  },
  {
   "cell_type": "code",
   "execution_count": 18,
   "id": "df31b294",
   "metadata": {},
   "outputs": [
    {
     "name": "stdout",
     "output_type": "stream",
     "text": [
      "000000000#\n",
      "ACCEPTED\n"
     ]
    }
   ],
   "source": [
    "int i=0, code=0;\n",
    "while (true) {\n",
    "    char c;\n",
    "    cin >> c;\n",
    "    if (c=='#') break;\n",
    "    secret[i]=c;\n",
    "    i++;\n",
    "    code += c-'0';\n",
    "}\n",
    "if (code==7) valid=1;\n",
    "if (valid) cout << \"ACCEPTED\" << endl;\n",
    "else cout << \"WRONG\" << endl;"
   ]
  },
  {
   "cell_type": "markdown",
   "id": "57a83d1f",
   "metadata": {},
   "source": [
    "Kako so lahko same ničle pravilno geslo? Bistveno je, da je teh ničel (ali katerih koli drugih števk) vsaj 9. Zadnja ničla se namreč shrani na 9. mesto v tabeli, ki pa je dolga samo 5 mest. V pomnilniku je na naslovu 9 bajtov za začetkom tabele `secret` že vsebina spremenljivke `valid`, ki jo prepišemo in tako ni več enaka 0."
   ]
  },
  {
   "cell_type": "markdown",
   "id": "09e18ef5",
   "metadata": {},
   "source": [
    "# Ostalo\n",
    "\n",
    "S področja kazalcev in tabel je nam je ostalo še kar nekaj neobdelanih tem:\n",
    "- C-jevski nizi (null-terminated string)\n",
    "- dealokacija (`delete`)\n",
    "- kazalci na kazalce (`char **x`)\n",
    "- 2D tabele (`char x[][]`)\n",
    "- tabela kazalcev, kazalec na tabelo (`char* x[]`, `char (*x)[]`)\n",
    "- prenos kazalca po referenci (`char* &x`)\n",
    "- kazalci na funkcije (`int (*f)(int,int)`)"
   ]
  }
 ],
 "metadata": {
  "kernelspec": {
   "display_name": "C++14",
   "language": "C++14",
   "name": "xcpp14"
  },
  "language_info": {
   "codemirror_mode": "text/x-c++src",
   "file_extension": ".cpp",
   "mimetype": "text/x-c++src",
   "name": "c++",
   "version": "14"
  }
 },
 "nbformat": 4,
 "nbformat_minor": 5
}
